{
  "nbformat": 4,
  "nbformat_minor": 0,
  "metadata": {
    "colab": {
      "provenance": [],
      "authorship_tag": "ABX9TyNlNBMj7BA7FtpOyNctjVOn",
      "include_colab_link": true
    },
    "kernelspec": {
      "name": "python3",
      "display_name": "Python 3"
    },
    "language_info": {
      "name": "python"
    }
  },
  "cells": [
    {
      "cell_type": "markdown",
      "metadata": {
        "id": "view-in-github",
        "colab_type": "text"
      },
      "source": [
        "<a href=\"https://colab.research.google.com/github/CL500Coupe/data_analytics_assi1/blob/main/assi2.ipynb\" target=\"_parent\"><img src=\"https://colab.research.google.com/assets/colab-badge.svg\" alt=\"Open In Colab\"/></a>"
      ]
    },
    {
      "cell_type": "code",
      "execution_count": 45,
      "metadata": {
        "id": "kPMNbxOC4Ql9"
      },
      "outputs": [],
      "source": [
        "import sys\n",
        "import os\n",
        "import pandas as pd\n",
        "import seaborn as sns\n",
        "import pickle\n",
        "import time\n",
        "from sklearn.model_selection import GridSearchCV\n",
        "import numpy as np\n",
        "import tensorflow as tf\n",
        "from tensorflow import keras\n",
        "from tensorflow.keras import layers\n",
        "from keras.models import Sequential\n",
        "from keras.layers import Dense\n",
        "from sklearn.model_selection import train_test_split\n",
        "from sklearn.preprocessing import StandardScaler\n",
        "from sklearn.ensemble import RandomForestClassifier\n",
        "from sklearn.metrics import classification_report, confusion_matrix, accuracy_score\n",
        "from sklearn.metrics import mean_squared_error, mean_absolute_error, r2_score\n",
        "import matplotlib.pyplot as plt\n",
        "from sklearn.linear_model import LinearRegression\n",
        "from sklearn.metrics import mean_squared_error, mean_absolute_error, r2_score"
      ]
    },
    {
      "cell_type": "code",
      "source": [
        "url = \"https://raw.githubusercontent.com/CL500Coupe/data_analytics_assi1/main/data/final_data.csv\"\n",
        "data = pd.read_csv(url)"
      ],
      "metadata": {
        "id": "RtChQHgH4TCe"
      },
      "execution_count": 46,
      "outputs": []
    },
    {
      "cell_type": "code",
      "source": [
        "# Convert the 'collision_date' column to datetime format\n",
        "data['collision_date'] = pd.to_datetime(data['collision_date'])\n",
        "\n",
        "# Set the 'collision_date' column as the index\n",
        "data = data.set_index('collision_date')"
      ],
      "metadata": {
        "id": "vzk1iWVuBG9S"
      },
      "execution_count": 47,
      "outputs": []
    },
    {
      "cell_type": "code",
      "source": [
        "# List of columns with NA values to fill with mean values of the last 7 available days\n",
        "columns_with_na_7 = [\n",
        "    \"visib_7day_ma\",\n",
        "    \"wdsp_7day_ma\",\n",
        "    \"co2_7day_ma\",\n",
        "    \"so2_7day_ma\",\n",
        "    \"pressure_7day_ma\",\n",
        "    \"temp_7day_ma\",\n",
        "    \"wind_7day_ma\",\n",
        "]\n",
        "\n",
        "# List of columns with NA values to fill with mean values of the last 30 available days\n",
        "columns_with_na_30 = [\n",
        "    \"visib_30day_ma\",\n",
        "    \"wdsp_30day_ma\",\n",
        "    \"co2_30day_ma\",\n",
        "    \"so2_30day_ma\",\n",
        "    \"pressure_30day_ma\",\n",
        "    \"temp_30day_ma\",\n",
        "    \"wind_30day_ma\",\n",
        "]\n",
        "\n",
        "# Fill NA values with the mean values of the first 7 available days\n",
        "for col in columns_with_na_7:\n",
        "    first_valid_index = data[col].first_valid_index()\n",
        "    mean_value = data.loc[first_valid_index:first_valid_index + pd.Timedelta(days=6), col].mean()\n",
        "    data[col] = data[col].fillna(mean_value, limit=6)\n",
        "\n",
        "# Fill NA values with the mean values of the first 30 available days\n",
        "for col in columns_with_na_30:\n",
        "    first_valid_index = data[col].first_valid_index()\n",
        "    mean_value = data.loc[first_valid_index:first_valid_index + pd.Timedelta(days=29), col].mean()\n",
        "    data[col] = data[col].fillna(mean_value, limit=29)\n",
        "\n",
        "# Display the updated DataFrame\n",
        "print(data.head())\n",
        "\n"
      ],
      "metadata": {
        "colab": {
          "base_uri": "https://localhost:8080/"
        },
        "id": "fq4ZYcZpDUJT",
        "outputId": "3b94cc76-bbbb-42be-fd6a-13f26b631398"
      },
      "execution_count": 48,
      "outputs": [
        {
          "output_type": "stream",
          "name": "stdout",
          "text": [
            "                day  year  mo  temp  dewp     slp  visib  wdsp  mxpsd  gust  \\\n",
            "collision_date                                                                \n",
            "2012-07-01        7  2012   7  83.6  63.0  1008.9    9.7   4.1    9.9  18.1   \n",
            "2012-07-02        1  2012   7  80.3  54.1  1011.6   10.0   3.8   15.0  18.1   \n",
            "2012-07-03        2  2012   7  79.8  56.7  1012.8   10.0   2.9   12.0  18.1   \n",
            "2012-07-04        3  2012   7  81.8  65.6  1009.1    9.2   3.6   11.1  18.1   \n",
            "2012-07-05        4  2012   7  86.7  64.3  1007.4    9.4   3.8   15.0  18.1   \n",
            "\n",
            "                ...  co2_30day_ma  so2_30day_ma  pressure_30day_ma  \\\n",
            "collision_date  ...                                                  \n",
            "2012-07-01      ...     15.031652      1.210648         917.765355   \n",
            "2012-07-02      ...     15.031652      1.210648         917.765355   \n",
            "2012-07-03      ...     15.031652      1.210648         917.765355   \n",
            "2012-07-04      ...     15.031652      1.210648         917.765355   \n",
            "2012-07-05      ...     15.031652      1.210648         917.765355   \n",
            "\n",
            "                temp_30day_ma  wind_30day_ma  temp_visib_interaction  \\\n",
            "collision_date                                                         \n",
            "2012-07-01             76.092      93.001803                  810.92   \n",
            "2012-07-02             76.092      93.001803                  803.00   \n",
            "2012-07-03             76.092      93.001803                  798.00   \n",
            "2012-07-04             76.092      93.001803                  752.56   \n",
            "2012-07-05             76.092      93.001803                  814.98   \n",
            "\n",
            "                wdsp_visib_interaction  prcp_temp_interaction  \\\n",
            "collision_date                                                  \n",
            "2012-07-01                       39.77                  0.000   \n",
            "2012-07-02                       38.00                  0.000   \n",
            "2012-07-03                       29.00                  0.000   \n",
            "2012-07-04                       33.12                  4.908   \n",
            "2012-07-05                       35.72               8669.133   \n",
            "\n",
            "                temp_season_interaction  wdsp_wind_interaction  \n",
            "collision_date                                                  \n",
            "2012-07-01                        167.2             553.145520  \n",
            "2012-07-02                        160.6             545.418750  \n",
            "2012-07-03                        159.6             362.080104  \n",
            "2012-07-04                        163.6             453.314999  \n",
            "2012-07-05                        173.4             479.916250  \n",
            "\n",
            "[5 rows x 39 columns]\n"
          ]
        }
      ]
    },
    {
      "cell_type": "code",
      "source": [
        "data.shape\n"
      ],
      "metadata": {
        "colab": {
          "base_uri": "https://localhost:8080/"
        },
        "id": "L6YvImFn4-3N",
        "outputId": "811ae00b-ee80-4f76-cd69-0ebf7babb1fe"
      },
      "execution_count": 49,
      "outputs": [
        {
          "output_type": "execute_result",
          "data": {
            "text/plain": [
              "(2969, 39)"
            ]
          },
          "metadata": {},
          "execution_count": 49
        }
      ]
    },
    {
      "cell_type": "code",
      "source": [
        "data.head()"
      ],
      "metadata": {
        "colab": {
          "base_uri": "https://localhost:8080/",
          "height": 331
        },
        "id": "xEor5WhJ4-7F",
        "outputId": "312ea7ab-12d5-4352-b2c1-3acc5c3f48dd"
      },
      "execution_count": 50,
      "outputs": [
        {
          "output_type": "execute_result",
          "data": {
            "text/plain": [
              "                day  year  mo  temp  dewp     slp  visib  wdsp  mxpsd  gust  \\\n",
              "collision_date                                                                \n",
              "2012-07-01        7  2012   7  83.6  63.0  1008.9    9.7   4.1    9.9  18.1   \n",
              "2012-07-02        1  2012   7  80.3  54.1  1011.6   10.0   3.8   15.0  18.1   \n",
              "2012-07-03        2  2012   7  79.8  56.7  1012.8   10.0   2.9   12.0  18.1   \n",
              "2012-07-04        3  2012   7  81.8  65.6  1009.1    9.2   3.6   11.1  18.1   \n",
              "2012-07-05        4  2012   7  86.7  64.3  1007.4    9.4   3.8   15.0  18.1   \n",
              "\n",
              "                ...  co2_30day_ma  so2_30day_ma  pressure_30day_ma  \\\n",
              "collision_date  ...                                                  \n",
              "2012-07-01      ...     15.031652      1.210648         917.765355   \n",
              "2012-07-02      ...     15.031652      1.210648         917.765355   \n",
              "2012-07-03      ...     15.031652      1.210648         917.765355   \n",
              "2012-07-04      ...     15.031652      1.210648         917.765355   \n",
              "2012-07-05      ...     15.031652      1.210648         917.765355   \n",
              "\n",
              "                temp_30day_ma  wind_30day_ma  temp_visib_interaction  \\\n",
              "collision_date                                                         \n",
              "2012-07-01             76.092      93.001803                  810.92   \n",
              "2012-07-02             76.092      93.001803                  803.00   \n",
              "2012-07-03             76.092      93.001803                  798.00   \n",
              "2012-07-04             76.092      93.001803                  752.56   \n",
              "2012-07-05             76.092      93.001803                  814.98   \n",
              "\n",
              "                wdsp_visib_interaction  prcp_temp_interaction  \\\n",
              "collision_date                                                  \n",
              "2012-07-01                       39.77                  0.000   \n",
              "2012-07-02                       38.00                  0.000   \n",
              "2012-07-03                       29.00                  0.000   \n",
              "2012-07-04                       33.12                  4.908   \n",
              "2012-07-05                       35.72               8669.133   \n",
              "\n",
              "                temp_season_interaction  wdsp_wind_interaction  \n",
              "collision_date                                                  \n",
              "2012-07-01                        167.2             553.145520  \n",
              "2012-07-02                        160.6             545.418750  \n",
              "2012-07-03                        159.6             362.080104  \n",
              "2012-07-04                        163.6             453.314999  \n",
              "2012-07-05                        173.4             479.916250  \n",
              "\n",
              "[5 rows x 39 columns]"
            ],
            "text/html": [
              "\n",
              "  <div id=\"df-75519bf9-34e8-4b1c-a57c-c207542e6a69\">\n",
              "    <div class=\"colab-df-container\">\n",
              "      <div>\n",
              "<style scoped>\n",
              "    .dataframe tbody tr th:only-of-type {\n",
              "        vertical-align: middle;\n",
              "    }\n",
              "\n",
              "    .dataframe tbody tr th {\n",
              "        vertical-align: top;\n",
              "    }\n",
              "\n",
              "    .dataframe thead th {\n",
              "        text-align: right;\n",
              "    }\n",
              "</style>\n",
              "<table border=\"1\" class=\"dataframe\">\n",
              "  <thead>\n",
              "    <tr style=\"text-align: right;\">\n",
              "      <th></th>\n",
              "      <th>day</th>\n",
              "      <th>year</th>\n",
              "      <th>mo</th>\n",
              "      <th>temp</th>\n",
              "      <th>dewp</th>\n",
              "      <th>slp</th>\n",
              "      <th>visib</th>\n",
              "      <th>wdsp</th>\n",
              "      <th>mxpsd</th>\n",
              "      <th>gust</th>\n",
              "      <th>...</th>\n",
              "      <th>co2_30day_ma</th>\n",
              "      <th>so2_30day_ma</th>\n",
              "      <th>pressure_30day_ma</th>\n",
              "      <th>temp_30day_ma</th>\n",
              "      <th>wind_30day_ma</th>\n",
              "      <th>temp_visib_interaction</th>\n",
              "      <th>wdsp_visib_interaction</th>\n",
              "      <th>prcp_temp_interaction</th>\n",
              "      <th>temp_season_interaction</th>\n",
              "      <th>wdsp_wind_interaction</th>\n",
              "    </tr>\n",
              "    <tr>\n",
              "      <th>collision_date</th>\n",
              "      <th></th>\n",
              "      <th></th>\n",
              "      <th></th>\n",
              "      <th></th>\n",
              "      <th></th>\n",
              "      <th></th>\n",
              "      <th></th>\n",
              "      <th></th>\n",
              "      <th></th>\n",
              "      <th></th>\n",
              "      <th></th>\n",
              "      <th></th>\n",
              "      <th></th>\n",
              "      <th></th>\n",
              "      <th></th>\n",
              "      <th></th>\n",
              "      <th></th>\n",
              "      <th></th>\n",
              "      <th></th>\n",
              "      <th></th>\n",
              "      <th></th>\n",
              "    </tr>\n",
              "  </thead>\n",
              "  <tbody>\n",
              "    <tr>\n",
              "      <th>2012-07-01</th>\n",
              "      <td>7</td>\n",
              "      <td>2012</td>\n",
              "      <td>7</td>\n",
              "      <td>83.6</td>\n",
              "      <td>63.0</td>\n",
              "      <td>1008.9</td>\n",
              "      <td>9.7</td>\n",
              "      <td>4.1</td>\n",
              "      <td>9.9</td>\n",
              "      <td>18.1</td>\n",
              "      <td>...</td>\n",
              "      <td>15.031652</td>\n",
              "      <td>1.210648</td>\n",
              "      <td>917.765355</td>\n",
              "      <td>76.092</td>\n",
              "      <td>93.001803</td>\n",
              "      <td>810.92</td>\n",
              "      <td>39.77</td>\n",
              "      <td>0.000</td>\n",
              "      <td>167.2</td>\n",
              "      <td>553.145520</td>\n",
              "    </tr>\n",
              "    <tr>\n",
              "      <th>2012-07-02</th>\n",
              "      <td>1</td>\n",
              "      <td>2012</td>\n",
              "      <td>7</td>\n",
              "      <td>80.3</td>\n",
              "      <td>54.1</td>\n",
              "      <td>1011.6</td>\n",
              "      <td>10.0</td>\n",
              "      <td>3.8</td>\n",
              "      <td>15.0</td>\n",
              "      <td>18.1</td>\n",
              "      <td>...</td>\n",
              "      <td>15.031652</td>\n",
              "      <td>1.210648</td>\n",
              "      <td>917.765355</td>\n",
              "      <td>76.092</td>\n",
              "      <td>93.001803</td>\n",
              "      <td>803.00</td>\n",
              "      <td>38.00</td>\n",
              "      <td>0.000</td>\n",
              "      <td>160.6</td>\n",
              "      <td>545.418750</td>\n",
              "    </tr>\n",
              "    <tr>\n",
              "      <th>2012-07-03</th>\n",
              "      <td>2</td>\n",
              "      <td>2012</td>\n",
              "      <td>7</td>\n",
              "      <td>79.8</td>\n",
              "      <td>56.7</td>\n",
              "      <td>1012.8</td>\n",
              "      <td>10.0</td>\n",
              "      <td>2.9</td>\n",
              "      <td>12.0</td>\n",
              "      <td>18.1</td>\n",
              "      <td>...</td>\n",
              "      <td>15.031652</td>\n",
              "      <td>1.210648</td>\n",
              "      <td>917.765355</td>\n",
              "      <td>76.092</td>\n",
              "      <td>93.001803</td>\n",
              "      <td>798.00</td>\n",
              "      <td>29.00</td>\n",
              "      <td>0.000</td>\n",
              "      <td>159.6</td>\n",
              "      <td>362.080104</td>\n",
              "    </tr>\n",
              "    <tr>\n",
              "      <th>2012-07-04</th>\n",
              "      <td>3</td>\n",
              "      <td>2012</td>\n",
              "      <td>7</td>\n",
              "      <td>81.8</td>\n",
              "      <td>65.6</td>\n",
              "      <td>1009.1</td>\n",
              "      <td>9.2</td>\n",
              "      <td>3.6</td>\n",
              "      <td>11.1</td>\n",
              "      <td>18.1</td>\n",
              "      <td>...</td>\n",
              "      <td>15.031652</td>\n",
              "      <td>1.210648</td>\n",
              "      <td>917.765355</td>\n",
              "      <td>76.092</td>\n",
              "      <td>93.001803</td>\n",
              "      <td>752.56</td>\n",
              "      <td>33.12</td>\n",
              "      <td>4.908</td>\n",
              "      <td>163.6</td>\n",
              "      <td>453.314999</td>\n",
              "    </tr>\n",
              "    <tr>\n",
              "      <th>2012-07-05</th>\n",
              "      <td>4</td>\n",
              "      <td>2012</td>\n",
              "      <td>7</td>\n",
              "      <td>86.7</td>\n",
              "      <td>64.3</td>\n",
              "      <td>1007.4</td>\n",
              "      <td>9.4</td>\n",
              "      <td>3.8</td>\n",
              "      <td>15.0</td>\n",
              "      <td>18.1</td>\n",
              "      <td>...</td>\n",
              "      <td>15.031652</td>\n",
              "      <td>1.210648</td>\n",
              "      <td>917.765355</td>\n",
              "      <td>76.092</td>\n",
              "      <td>93.001803</td>\n",
              "      <td>814.98</td>\n",
              "      <td>35.72</td>\n",
              "      <td>8669.133</td>\n",
              "      <td>173.4</td>\n",
              "      <td>479.916250</td>\n",
              "    </tr>\n",
              "  </tbody>\n",
              "</table>\n",
              "<p>5 rows × 39 columns</p>\n",
              "</div>\n",
              "      <button class=\"colab-df-convert\" onclick=\"convertToInteractive('df-75519bf9-34e8-4b1c-a57c-c207542e6a69')\"\n",
              "              title=\"Convert this dataframe to an interactive table.\"\n",
              "              style=\"display:none;\">\n",
              "        \n",
              "  <svg xmlns=\"http://www.w3.org/2000/svg\" height=\"24px\"viewBox=\"0 0 24 24\"\n",
              "       width=\"24px\">\n",
              "    <path d=\"M0 0h24v24H0V0z\" fill=\"none\"/>\n",
              "    <path d=\"M18.56 5.44l.94 2.06.94-2.06 2.06-.94-2.06-.94-.94-2.06-.94 2.06-2.06.94zm-11 1L8.5 8.5l.94-2.06 2.06-.94-2.06-.94L8.5 2.5l-.94 2.06-2.06.94zm10 10l.94 2.06.94-2.06 2.06-.94-2.06-.94-.94-2.06-.94 2.06-2.06.94z\"/><path d=\"M17.41 7.96l-1.37-1.37c-.4-.4-.92-.59-1.43-.59-.52 0-1.04.2-1.43.59L10.3 9.45l-7.72 7.72c-.78.78-.78 2.05 0 2.83L4 21.41c.39.39.9.59 1.41.59.51 0 1.02-.2 1.41-.59l7.78-7.78 2.81-2.81c.8-.78.8-2.07 0-2.86zM5.41 20L4 18.59l7.72-7.72 1.47 1.35L5.41 20z\"/>\n",
              "  </svg>\n",
              "      </button>\n",
              "      \n",
              "  <style>\n",
              "    .colab-df-container {\n",
              "      display:flex;\n",
              "      flex-wrap:wrap;\n",
              "      gap: 12px;\n",
              "    }\n",
              "\n",
              "    .colab-df-convert {\n",
              "      background-color: #E8F0FE;\n",
              "      border: none;\n",
              "      border-radius: 50%;\n",
              "      cursor: pointer;\n",
              "      display: none;\n",
              "      fill: #1967D2;\n",
              "      height: 32px;\n",
              "      padding: 0 0 0 0;\n",
              "      width: 32px;\n",
              "    }\n",
              "\n",
              "    .colab-df-convert:hover {\n",
              "      background-color: #E2EBFA;\n",
              "      box-shadow: 0px 1px 2px rgba(60, 64, 67, 0.3), 0px 1px 3px 1px rgba(60, 64, 67, 0.15);\n",
              "      fill: #174EA6;\n",
              "    }\n",
              "\n",
              "    [theme=dark] .colab-df-convert {\n",
              "      background-color: #3B4455;\n",
              "      fill: #D2E3FC;\n",
              "    }\n",
              "\n",
              "    [theme=dark] .colab-df-convert:hover {\n",
              "      background-color: #434B5C;\n",
              "      box-shadow: 0px 1px 3px 1px rgba(0, 0, 0, 0.15);\n",
              "      filter: drop-shadow(0px 1px 2px rgba(0, 0, 0, 0.3));\n",
              "      fill: #FFFFFF;\n",
              "    }\n",
              "  </style>\n",
              "\n",
              "      <script>\n",
              "        const buttonEl =\n",
              "          document.querySelector('#df-75519bf9-34e8-4b1c-a57c-c207542e6a69 button.colab-df-convert');\n",
              "        buttonEl.style.display =\n",
              "          google.colab.kernel.accessAllowed ? 'block' : 'none';\n",
              "\n",
              "        async function convertToInteractive(key) {\n",
              "          const element = document.querySelector('#df-75519bf9-34e8-4b1c-a57c-c207542e6a69');\n",
              "          const dataTable =\n",
              "            await google.colab.kernel.invokeFunction('convertToInteractive',\n",
              "                                                     [key], {});\n",
              "          if (!dataTable) return;\n",
              "\n",
              "          const docLinkHtml = 'Like what you see? Visit the ' +\n",
              "            '<a target=\"_blank\" href=https://colab.research.google.com/notebooks/data_table.ipynb>data table notebook</a>'\n",
              "            + ' to learn more about interactive tables.';\n",
              "          element.innerHTML = '';\n",
              "          dataTable['output_type'] = 'display_data';\n",
              "          await google.colab.output.renderOutput(dataTable, element);\n",
              "          const docLink = document.createElement('div');\n",
              "          docLink.innerHTML = docLinkHtml;\n",
              "          element.appendChild(docLink);\n",
              "        }\n",
              "      </script>\n",
              "    </div>\n",
              "  </div>\n",
              "  "
            ]
          },
          "metadata": {},
          "execution_count": 50
        }
      ]
    },
    {
      "cell_type": "code",
      "source": [
        "data.dtypes"
      ],
      "metadata": {
        "colab": {
          "base_uri": "https://localhost:8080/"
        },
        "id": "nK3BzXVG4--d",
        "outputId": "8562aba6-8c44-4c38-e016-efd1f056f6cb"
      },
      "execution_count": 51,
      "outputs": [
        {
          "output_type": "execute_result",
          "data": {
            "text/plain": [
              "day                          int64\n",
              "year                         int64\n",
              "mo                           int64\n",
              "temp                       float64\n",
              "dewp                       float64\n",
              "slp                        float64\n",
              "visib                      float64\n",
              "wdsp                       float64\n",
              "mxpsd                      float64\n",
              "gust                       float64\n",
              "max                        float64\n",
              "min                        float64\n",
              "prcp                       float64\n",
              "fog                          int64\n",
              "NUM_COLLISIONS               int64\n",
              "co2                        float64\n",
              "wind                       float64\n",
              "so2                        float64\n",
              "pressure                   float64\n",
              "season                       int64\n",
              "visib_7day_ma              float64\n",
              "wdsp_7day_ma               float64\n",
              "co2_7day_ma                float64\n",
              "so2_7day_ma                float64\n",
              "pressure_7day_ma           float64\n",
              "temp_7day_ma               float64\n",
              "wind_7day_ma               float64\n",
              "visib_30day_ma             float64\n",
              "wdsp_30day_ma              float64\n",
              "co2_30day_ma               float64\n",
              "so2_30day_ma               float64\n",
              "pressure_30day_ma          float64\n",
              "temp_30day_ma              float64\n",
              "wind_30day_ma              float64\n",
              "temp_visib_interaction     float64\n",
              "wdsp_visib_interaction     float64\n",
              "prcp_temp_interaction      float64\n",
              "temp_season_interaction    float64\n",
              "wdsp_wind_interaction      float64\n",
              "dtype: object"
            ]
          },
          "metadata": {},
          "execution_count": 51
        }
      ]
    },
    {
      "cell_type": "code",
      "source": [
        "data.columns"
      ],
      "metadata": {
        "colab": {
          "base_uri": "https://localhost:8080/"
        },
        "id": "cBrBMxnX4_EF",
        "outputId": "896ae85f-fb6f-4bae-e5a4-44bb03f68f14"
      },
      "execution_count": null,
      "outputs": [
        {
          "output_type": "execute_result",
          "data": {
            "text/plain": [
              "Index(['day', 'year', 'mo', 'temp', 'dewp', 'slp', 'visib', 'wdsp', 'mxpsd',\n",
              "       'gust', 'max', 'min', 'prcp', 'fog', 'NUM_COLLISIONS', 'co2', 'wind',\n",
              "       'so2', 'pressure', 'season', 'visib_7day_ma', 'wdsp_7day_ma',\n",
              "       'co2_7day_ma', 'so2_7day_ma', 'pressure_7day_ma', 'temp_7day_ma',\n",
              "       'wind_7day_ma', 'visib_30day_ma', 'wdsp_30day_ma', 'co2_30day_ma',\n",
              "       'so2_30day_ma', 'pressure_30day_ma', 'temp_30day_ma', 'wind_30day_ma',\n",
              "       'temp_visib_interaction', 'wdsp_visib_interaction',\n",
              "       'prcp_temp_interaction', 'temp_season_interaction',\n",
              "       'wdsp_wind_interaction'],\n",
              "      dtype='object')"
            ]
          },
          "metadata": {},
          "execution_count": 34
        }
      ]
    },
    {
      "cell_type": "code",
      "source": [
        "# Check if there are any missing values in the entire DataFrame\n",
        "has_missing_values = data.isna().any().any()\n",
        "\n",
        "# Print the result\n",
        "print(\"Are there any missing values in the DataFrame?\", has_missing_values)"
      ],
      "metadata": {
        "colab": {
          "base_uri": "https://localhost:8080/"
        },
        "id": "fK0cq0dgFQkO",
        "outputId": "0c87bc1c-767a-4655-f41d-37d28161b0de"
      },
      "execution_count": 53,
      "outputs": [
        {
          "output_type": "stream",
          "name": "stdout",
          "text": [
            "Are there any missing values in the DataFrame? False\n"
          ]
        }
      ]
    },
    {
      "cell_type": "code",
      "source": [
        "# Select the features and target variable\n",
        "X = data.drop(\"NUM_COLLISIONS\", axis=1)  # Replace \"num_collisions\" with the actual target column name\n",
        "y = data[\"NUM_COLLISIONS\"]  # Replace \"num_collisions\" with the actual target column name"
      ],
      "metadata": {
        "id": "tJE7pFmX4_G9"
      },
      "execution_count": 54,
      "outputs": []
    },
    {
      "cell_type": "code",
      "source": [
        "# Split the data into training and testing sets\n",
        "X_train, X_test, y_train, y_test = train_test_split(X, y, test_size=0.2, random_state=42)\n"
      ],
      "metadata": {
        "id": "DU9DpExt4_QF"
      },
      "execution_count": null,
      "outputs": []
    },
    {
      "cell_type": "code",
      "source": [
        "# Create a linear regression model\n",
        "linear_regression = LinearRegression()"
      ],
      "metadata": {
        "id": "vl-OCXCd4_S9"
      },
      "execution_count": 55,
      "outputs": []
    },
    {
      "cell_type": "code",
      "source": [
        "# Train the model\n",
        "linear_regression.fit(X_train, y_train)"
      ],
      "metadata": {
        "colab": {
          "base_uri": "https://localhost:8080/",
          "height": 380
        },
        "id": "F5GmYLsj4_V1",
        "outputId": "ef45367c-06f3-47b6-8f65-2b8172c3659e"
      },
      "execution_count": 56,
      "outputs": [
        {
          "output_type": "error",
          "ename": "ValueError",
          "evalue": "ignored",
          "traceback": [
            "\u001b[0;31m---------------------------------------------------------------------------\u001b[0m",
            "\u001b[0;31mValueError\u001b[0m                                Traceback (most recent call last)",
            "\u001b[0;32m<ipython-input-56-23a3f85da780>\u001b[0m in \u001b[0;36m<cell line: 2>\u001b[0;34m()\u001b[0m\n\u001b[1;32m      1\u001b[0m \u001b[0;31m# Train the model\u001b[0m\u001b[0;34m\u001b[0m\u001b[0;34m\u001b[0m\u001b[0m\n\u001b[0;32m----> 2\u001b[0;31m \u001b[0mlinear_regression\u001b[0m\u001b[0;34m.\u001b[0m\u001b[0mfit\u001b[0m\u001b[0;34m(\u001b[0m\u001b[0mX_train\u001b[0m\u001b[0;34m,\u001b[0m \u001b[0my_train\u001b[0m\u001b[0;34m)\u001b[0m\u001b[0;34m\u001b[0m\u001b[0;34m\u001b[0m\u001b[0m\n\u001b[0m",
            "\u001b[0;32m/usr/local/lib/python3.9/dist-packages/sklearn/linear_model/_base.py\u001b[0m in \u001b[0;36mfit\u001b[0;34m(self, X, y, sample_weight)\u001b[0m\n\u001b[1;32m    646\u001b[0m         \u001b[0maccept_sparse\u001b[0m \u001b[0;34m=\u001b[0m \u001b[0;32mFalse\u001b[0m \u001b[0;32mif\u001b[0m \u001b[0mself\u001b[0m\u001b[0;34m.\u001b[0m\u001b[0mpositive\u001b[0m \u001b[0;32melse\u001b[0m \u001b[0;34m[\u001b[0m\u001b[0;34m\"csr\"\u001b[0m\u001b[0;34m,\u001b[0m \u001b[0;34m\"csc\"\u001b[0m\u001b[0;34m,\u001b[0m \u001b[0;34m\"coo\"\u001b[0m\u001b[0;34m]\u001b[0m\u001b[0;34m\u001b[0m\u001b[0;34m\u001b[0m\u001b[0m\n\u001b[1;32m    647\u001b[0m \u001b[0;34m\u001b[0m\u001b[0m\n\u001b[0;32m--> 648\u001b[0;31m         X, y = self._validate_data(\n\u001b[0m\u001b[1;32m    649\u001b[0m             \u001b[0mX\u001b[0m\u001b[0;34m,\u001b[0m \u001b[0my\u001b[0m\u001b[0;34m,\u001b[0m \u001b[0maccept_sparse\u001b[0m\u001b[0;34m=\u001b[0m\u001b[0maccept_sparse\u001b[0m\u001b[0;34m,\u001b[0m \u001b[0my_numeric\u001b[0m\u001b[0;34m=\u001b[0m\u001b[0;32mTrue\u001b[0m\u001b[0;34m,\u001b[0m \u001b[0mmulti_output\u001b[0m\u001b[0;34m=\u001b[0m\u001b[0;32mTrue\u001b[0m\u001b[0;34m\u001b[0m\u001b[0;34m\u001b[0m\u001b[0m\n\u001b[1;32m    650\u001b[0m         )\n",
            "\u001b[0;32m/usr/local/lib/python3.9/dist-packages/sklearn/base.py\u001b[0m in \u001b[0;36m_validate_data\u001b[0;34m(self, X, y, reset, validate_separately, **check_params)\u001b[0m\n\u001b[1;32m    582\u001b[0m                 \u001b[0my\u001b[0m \u001b[0;34m=\u001b[0m \u001b[0mcheck_array\u001b[0m\u001b[0;34m(\u001b[0m\u001b[0my\u001b[0m\u001b[0;34m,\u001b[0m \u001b[0minput_name\u001b[0m\u001b[0;34m=\u001b[0m\u001b[0;34m\"y\"\u001b[0m\u001b[0;34m,\u001b[0m \u001b[0;34m**\u001b[0m\u001b[0mcheck_y_params\u001b[0m\u001b[0;34m)\u001b[0m\u001b[0;34m\u001b[0m\u001b[0;34m\u001b[0m\u001b[0m\n\u001b[1;32m    583\u001b[0m             \u001b[0;32melse\u001b[0m\u001b[0;34m:\u001b[0m\u001b[0;34m\u001b[0m\u001b[0;34m\u001b[0m\u001b[0m\n\u001b[0;32m--> 584\u001b[0;31m                 \u001b[0mX\u001b[0m\u001b[0;34m,\u001b[0m \u001b[0my\u001b[0m \u001b[0;34m=\u001b[0m \u001b[0mcheck_X_y\u001b[0m\u001b[0;34m(\u001b[0m\u001b[0mX\u001b[0m\u001b[0;34m,\u001b[0m \u001b[0my\u001b[0m\u001b[0;34m,\u001b[0m \u001b[0;34m**\u001b[0m\u001b[0mcheck_params\u001b[0m\u001b[0;34m)\u001b[0m\u001b[0;34m\u001b[0m\u001b[0;34m\u001b[0m\u001b[0m\n\u001b[0m\u001b[1;32m    585\u001b[0m             \u001b[0mout\u001b[0m \u001b[0;34m=\u001b[0m \u001b[0mX\u001b[0m\u001b[0;34m,\u001b[0m \u001b[0my\u001b[0m\u001b[0;34m\u001b[0m\u001b[0;34m\u001b[0m\u001b[0m\n\u001b[1;32m    586\u001b[0m \u001b[0;34m\u001b[0m\u001b[0m\n",
            "\u001b[0;32m/usr/local/lib/python3.9/dist-packages/sklearn/utils/validation.py\u001b[0m in \u001b[0;36mcheck_X_y\u001b[0;34m(X, y, accept_sparse, accept_large_sparse, dtype, order, copy, force_all_finite, ensure_2d, allow_nd, multi_output, ensure_min_samples, ensure_min_features, y_numeric, estimator)\u001b[0m\n\u001b[1;32m   1104\u001b[0m         )\n\u001b[1;32m   1105\u001b[0m \u001b[0;34m\u001b[0m\u001b[0m\n\u001b[0;32m-> 1106\u001b[0;31m     X = check_array(\n\u001b[0m\u001b[1;32m   1107\u001b[0m         \u001b[0mX\u001b[0m\u001b[0;34m,\u001b[0m\u001b[0;34m\u001b[0m\u001b[0;34m\u001b[0m\u001b[0m\n\u001b[1;32m   1108\u001b[0m         \u001b[0maccept_sparse\u001b[0m\u001b[0;34m=\u001b[0m\u001b[0maccept_sparse\u001b[0m\u001b[0;34m,\u001b[0m\u001b[0;34m\u001b[0m\u001b[0;34m\u001b[0m\u001b[0m\n",
            "\u001b[0;32m/usr/local/lib/python3.9/dist-packages/sklearn/utils/validation.py\u001b[0m in \u001b[0;36mcheck_array\u001b[0;34m(array, accept_sparse, accept_large_sparse, dtype, order, copy, force_all_finite, ensure_2d, allow_nd, ensure_min_samples, ensure_min_features, estimator, input_name)\u001b[0m\n\u001b[1;32m    919\u001b[0m \u001b[0;34m\u001b[0m\u001b[0m\n\u001b[1;32m    920\u001b[0m         \u001b[0;32mif\u001b[0m \u001b[0mforce_all_finite\u001b[0m\u001b[0;34m:\u001b[0m\u001b[0;34m\u001b[0m\u001b[0;34m\u001b[0m\u001b[0m\n\u001b[0;32m--> 921\u001b[0;31m             _assert_all_finite(\n\u001b[0m\u001b[1;32m    922\u001b[0m                 \u001b[0marray\u001b[0m\u001b[0;34m,\u001b[0m\u001b[0;34m\u001b[0m\u001b[0;34m\u001b[0m\u001b[0m\n\u001b[1;32m    923\u001b[0m                 \u001b[0minput_name\u001b[0m\u001b[0;34m=\u001b[0m\u001b[0minput_name\u001b[0m\u001b[0;34m,\u001b[0m\u001b[0;34m\u001b[0m\u001b[0;34m\u001b[0m\u001b[0m\n",
            "\u001b[0;32m/usr/local/lib/python3.9/dist-packages/sklearn/utils/validation.py\u001b[0m in \u001b[0;36m_assert_all_finite\u001b[0;34m(X, allow_nan, msg_dtype, estimator_name, input_name)\u001b[0m\n\u001b[1;32m    159\u001b[0m                 \u001b[0;34m\"#estimators-that-handle-nan-values\"\u001b[0m\u001b[0;34m\u001b[0m\u001b[0;34m\u001b[0m\u001b[0m\n\u001b[1;32m    160\u001b[0m             )\n\u001b[0;32m--> 161\u001b[0;31m         \u001b[0;32mraise\u001b[0m \u001b[0mValueError\u001b[0m\u001b[0;34m(\u001b[0m\u001b[0mmsg_err\u001b[0m\u001b[0;34m)\u001b[0m\u001b[0;34m\u001b[0m\u001b[0;34m\u001b[0m\u001b[0m\n\u001b[0m\u001b[1;32m    162\u001b[0m \u001b[0;34m\u001b[0m\u001b[0m\n\u001b[1;32m    163\u001b[0m \u001b[0;34m\u001b[0m\u001b[0m\n",
            "\u001b[0;31mValueError\u001b[0m: Input X contains NaN.\nLinearRegression does not accept missing values encoded as NaN natively. For supervised learning, you might want to consider sklearn.ensemble.HistGradientBoostingClassifier and Regressor which accept missing values encoded as NaNs natively. Alternatively, it is possible to preprocess the data, for instance by using an imputer transformer in a pipeline or drop samples with missing values. See https://scikit-learn.org/stable/modules/impute.html You can find a list of all estimators that handle NaN values at the following page: https://scikit-learn.org/stable/modules/impute.html#estimators-that-handle-nan-values"
          ]
        }
      ]
    },
    {
      "cell_type": "code",
      "source": [],
      "metadata": {
        "id": "-p-JQvTq4_Yt"
      },
      "execution_count": null,
      "outputs": []
    },
    {
      "cell_type": "code",
      "source": [],
      "metadata": {
        "id": "57_hbGLt4_rV"
      },
      "execution_count": null,
      "outputs": []
    },
    {
      "cell_type": "code",
      "source": [],
      "metadata": {
        "id": "Phzd0SNU4_wF"
      },
      "execution_count": null,
      "outputs": []
    },
    {
      "cell_type": "code",
      "source": [],
      "metadata": {
        "id": "pbWP-hfe4_y9"
      },
      "execution_count": null,
      "outputs": []
    },
    {
      "cell_type": "code",
      "source": [],
      "metadata": {
        "id": "5QZu2JRM4_5-"
      },
      "execution_count": null,
      "outputs": []
    },
    {
      "cell_type": "code",
      "source": [],
      "metadata": {
        "id": "1tdK8EU94_9E"
      },
      "execution_count": null,
      "outputs": []
    }
  ]
}