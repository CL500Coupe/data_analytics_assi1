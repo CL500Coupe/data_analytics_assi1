{
  "nbformat": 4,
  "nbformat_minor": 0,
  "metadata": {
    "colab": {
      "provenance": [],
      "authorship_tag": "ABX9TyOtSzDnIVdRYUyHgbW8oFnP",
      "include_colab_link": true
    },
    "kernelspec": {
      "name": "python3",
      "display_name": "Python 3"
    },
    "language_info": {
      "name": "python"
    }
  },
  "cells": [
    {
      "cell_type": "markdown",
      "metadata": {
        "id": "view-in-github",
        "colab_type": "text"
      },
      "source": [
        "<a href=\"https://colab.research.google.com/github/CL500Coupe/data_analytics_assi1/blob/main/assi2.ipynb\" target=\"_parent\"><img src=\"https://colab.research.google.com/assets/colab-badge.svg\" alt=\"Open In Colab\"/></a>"
      ]
    },
    {
      "cell_type": "code",
      "execution_count": 171,
      "metadata": {
        "id": "kPMNbxOC4Ql9"
      },
      "outputs": [],
      "source": [
        "import sys\n",
        "import os\n",
        "import pandas as pd\n",
        "import seaborn as sns\n",
        "import pickle\n",
        "import time\n",
        "import numpy as np\n",
        "import tensorflow as tf\n",
        "from tensorflow.keras.models import Sequential\n",
        "from tensorflow.keras.layers import Dense, Dropout\n",
        "from keras.models import Sequential\n",
        "from keras.layers import Dense\n",
        "from sklearn.model_selection import train_test_split\n",
        "from sklearn.preprocessing import StandardScaler\n",
        "from sklearn.ensemble import RandomForestClassifier\n",
        "from sklearn.metrics import classification_report, confusion_matrix, accuracy_score\n",
        "from sklearn.metrics import mean_squared_error, mean_absolute_error, r2_score\n",
        "import matplotlib.pyplot as plt\n",
        "from sklearn.linear_model import LinearRegression\n",
        "from sklearn.metrics import mean_squared_error, mean_absolute_error, r2_score\n",
        "from sklearn.model_selection import cross_val_score\n",
        "from sklearn.linear_model import Lasso\n",
        "from sklearn.model_selection import GridSearchCV"
      ]
    },
    {
      "cell_type": "code",
      "source": [
        "url = \"https://raw.githubusercontent.com/CL500Coupe/data_analytics_assi1/main/data/final_data.csv\"\n",
        "data = pd.read_csv(url)"
      ],
      "metadata": {
        "id": "RtChQHgH4TCe"
      },
      "execution_count": 172,
      "outputs": []
    },
    {
      "cell_type": "code",
      "source": [
        "# Convert the 'collision_date' column to datetime format\n",
        "data['collision_date'] = pd.to_datetime(data['collision_date'])\n",
        "\n",
        "# Set the 'collision_date' column as the index\n",
        "data = data.set_index('collision_date')"
      ],
      "metadata": {
        "id": "vzk1iWVuBG9S"
      },
      "execution_count": 173,
      "outputs": []
    },
    {
      "cell_type": "code",
      "source": [
        "# List of columns with NA values to fill with mean values of the last 7 available days\n",
        "columns_with_na_7 = [\n",
        "    \"visib_7day_ma\",\n",
        "    \"wdsp_7day_ma\",\n",
        "    \"co2_7day_ma\",\n",
        "    \"so2_7day_ma\",\n",
        "    \"pressure_7day_ma\",\n",
        "    \"temp_7day_ma\",\n",
        "    \"wind_7day_ma\",\n",
        "]\n",
        "\n",
        "# List of columns with NA values to fill with mean values of the last 30 available days\n",
        "columns_with_na_30 = [\n",
        "    \"visib_30day_ma\",\n",
        "    \"wdsp_30day_ma\",\n",
        "    \"co2_30day_ma\",\n",
        "    \"so2_30day_ma\",\n",
        "    \"pressure_30day_ma\",\n",
        "    \"temp_30day_ma\",\n",
        "    \"wind_30day_ma\",\n",
        "]\n",
        "\n",
        "# Fill NA values with the mean values of the first 7 available days\n",
        "for col in columns_with_na_7:\n",
        "    first_valid_index = data[col].first_valid_index()\n",
        "    mean_value = data.loc[first_valid_index:first_valid_index + pd.Timedelta(days=6), col].mean()\n",
        "    data[col] = data[col].fillna(mean_value, limit=6)\n",
        "\n",
        "# Fill NA values with the mean values of the first 30 available days\n",
        "for col in columns_with_na_30:\n",
        "    first_valid_index = data[col].first_valid_index()\n",
        "    mean_value = data.loc[first_valid_index:first_valid_index + pd.Timedelta(days=29), col].mean()\n",
        "    data[col] = data[col].fillna(mean_value, limit=29)\n",
        "\n",
        "# Display the updated DataFrame\n",
        "print(data.head())\n",
        "\n"
      ],
      "metadata": {
        "colab": {
          "base_uri": "https://localhost:8080/"
        },
        "id": "fq4ZYcZpDUJT",
        "outputId": "d054bd88-26ae-4c5f-fab8-b842f51422f0"
      },
      "execution_count": 174,
      "outputs": [
        {
          "output_type": "stream",
          "name": "stdout",
          "text": [
            "                day  year  mo  temp  dewp     slp  visib  wdsp  mxpsd  gust  \\\n",
            "collision_date                                                                \n",
            "2012-07-01        7  2012   7  83.6  63.0  1008.9    9.7   4.1    9.9  18.1   \n",
            "2012-07-02        1  2012   7  80.3  54.1  1011.6   10.0   3.8   15.0  18.1   \n",
            "2012-07-03        2  2012   7  79.8  56.7  1012.8   10.0   2.9   12.0  18.1   \n",
            "2012-07-04        3  2012   7  81.8  65.6  1009.1    9.2   3.6   11.1  18.1   \n",
            "2012-07-05        4  2012   7  86.7  64.3  1007.4    9.4   3.8   15.0  18.1   \n",
            "\n",
            "                ...  co2_30day_ma  so2_30day_ma  pressure_30day_ma  \\\n",
            "collision_date  ...                                                  \n",
            "2012-07-01      ...     15.031652      1.210648         917.765355   \n",
            "2012-07-02      ...     15.031652      1.210648         917.765355   \n",
            "2012-07-03      ...     15.031652      1.210648         917.765355   \n",
            "2012-07-04      ...     15.031652      1.210648         917.765355   \n",
            "2012-07-05      ...     15.031652      1.210648         917.765355   \n",
            "\n",
            "                temp_30day_ma  wind_30day_ma  temp_visib_interaction  \\\n",
            "collision_date                                                         \n",
            "2012-07-01             76.092      93.001803                  810.92   \n",
            "2012-07-02             76.092      93.001803                  803.00   \n",
            "2012-07-03             76.092      93.001803                  798.00   \n",
            "2012-07-04             76.092      93.001803                  752.56   \n",
            "2012-07-05             76.092      93.001803                  814.98   \n",
            "\n",
            "                wdsp_visib_interaction  prcp_temp_interaction  \\\n",
            "collision_date                                                  \n",
            "2012-07-01                       39.77                  0.000   \n",
            "2012-07-02                       38.00                  0.000   \n",
            "2012-07-03                       29.00                  0.000   \n",
            "2012-07-04                       33.12                  4.908   \n",
            "2012-07-05                       35.72               8669.133   \n",
            "\n",
            "                temp_season_interaction  wdsp_wind_interaction  \n",
            "collision_date                                                  \n",
            "2012-07-01                        167.2             553.145520  \n",
            "2012-07-02                        160.6             545.418750  \n",
            "2012-07-03                        159.6             362.080104  \n",
            "2012-07-04                        163.6             453.314999  \n",
            "2012-07-05                        173.4             479.916250  \n",
            "\n",
            "[5 rows x 39 columns]\n"
          ]
        }
      ]
    },
    {
      "cell_type": "code",
      "source": [
        "data.shape\n"
      ],
      "metadata": {
        "colab": {
          "base_uri": "https://localhost:8080/"
        },
        "id": "L6YvImFn4-3N",
        "outputId": "ea1dc00a-08c4-4550-fde0-4014d080c437"
      },
      "execution_count": 175,
      "outputs": [
        {
          "output_type": "execute_result",
          "data": {
            "text/plain": [
              "(2969, 39)"
            ]
          },
          "metadata": {},
          "execution_count": 175
        }
      ]
    },
    {
      "cell_type": "code",
      "source": [
        "data.head()"
      ],
      "metadata": {
        "colab": {
          "base_uri": "https://localhost:8080/",
          "height": 331
        },
        "id": "xEor5WhJ4-7F",
        "outputId": "1e8dbb14-e4a5-426a-c908-429155bf9d3b"
      },
      "execution_count": 176,
      "outputs": [
        {
          "output_type": "execute_result",
          "data": {
            "text/plain": [
              "                day  year  mo  temp  dewp     slp  visib  wdsp  mxpsd  gust  \\\n",
              "collision_date                                                                \n",
              "2012-07-01        7  2012   7  83.6  63.0  1008.9    9.7   4.1    9.9  18.1   \n",
              "2012-07-02        1  2012   7  80.3  54.1  1011.6   10.0   3.8   15.0  18.1   \n",
              "2012-07-03        2  2012   7  79.8  56.7  1012.8   10.0   2.9   12.0  18.1   \n",
              "2012-07-04        3  2012   7  81.8  65.6  1009.1    9.2   3.6   11.1  18.1   \n",
              "2012-07-05        4  2012   7  86.7  64.3  1007.4    9.4   3.8   15.0  18.1   \n",
              "\n",
              "                ...  co2_30day_ma  so2_30day_ma  pressure_30day_ma  \\\n",
              "collision_date  ...                                                  \n",
              "2012-07-01      ...     15.031652      1.210648         917.765355   \n",
              "2012-07-02      ...     15.031652      1.210648         917.765355   \n",
              "2012-07-03      ...     15.031652      1.210648         917.765355   \n",
              "2012-07-04      ...     15.031652      1.210648         917.765355   \n",
              "2012-07-05      ...     15.031652      1.210648         917.765355   \n",
              "\n",
              "                temp_30day_ma  wind_30day_ma  temp_visib_interaction  \\\n",
              "collision_date                                                         \n",
              "2012-07-01             76.092      93.001803                  810.92   \n",
              "2012-07-02             76.092      93.001803                  803.00   \n",
              "2012-07-03             76.092      93.001803                  798.00   \n",
              "2012-07-04             76.092      93.001803                  752.56   \n",
              "2012-07-05             76.092      93.001803                  814.98   \n",
              "\n",
              "                wdsp_visib_interaction  prcp_temp_interaction  \\\n",
              "collision_date                                                  \n",
              "2012-07-01                       39.77                  0.000   \n",
              "2012-07-02                       38.00                  0.000   \n",
              "2012-07-03                       29.00                  0.000   \n",
              "2012-07-04                       33.12                  4.908   \n",
              "2012-07-05                       35.72               8669.133   \n",
              "\n",
              "                temp_season_interaction  wdsp_wind_interaction  \n",
              "collision_date                                                  \n",
              "2012-07-01                        167.2             553.145520  \n",
              "2012-07-02                        160.6             545.418750  \n",
              "2012-07-03                        159.6             362.080104  \n",
              "2012-07-04                        163.6             453.314999  \n",
              "2012-07-05                        173.4             479.916250  \n",
              "\n",
              "[5 rows x 39 columns]"
            ],
            "text/html": [
              "\n",
              "  <div id=\"df-18b3b629-0ac9-43c8-a814-6fff5c309b2d\">\n",
              "    <div class=\"colab-df-container\">\n",
              "      <div>\n",
              "<style scoped>\n",
              "    .dataframe tbody tr th:only-of-type {\n",
              "        vertical-align: middle;\n",
              "    }\n",
              "\n",
              "    .dataframe tbody tr th {\n",
              "        vertical-align: top;\n",
              "    }\n",
              "\n",
              "    .dataframe thead th {\n",
              "        text-align: right;\n",
              "    }\n",
              "</style>\n",
              "<table border=\"1\" class=\"dataframe\">\n",
              "  <thead>\n",
              "    <tr style=\"text-align: right;\">\n",
              "      <th></th>\n",
              "      <th>day</th>\n",
              "      <th>year</th>\n",
              "      <th>mo</th>\n",
              "      <th>temp</th>\n",
              "      <th>dewp</th>\n",
              "      <th>slp</th>\n",
              "      <th>visib</th>\n",
              "      <th>wdsp</th>\n",
              "      <th>mxpsd</th>\n",
              "      <th>gust</th>\n",
              "      <th>...</th>\n",
              "      <th>co2_30day_ma</th>\n",
              "      <th>so2_30day_ma</th>\n",
              "      <th>pressure_30day_ma</th>\n",
              "      <th>temp_30day_ma</th>\n",
              "      <th>wind_30day_ma</th>\n",
              "      <th>temp_visib_interaction</th>\n",
              "      <th>wdsp_visib_interaction</th>\n",
              "      <th>prcp_temp_interaction</th>\n",
              "      <th>temp_season_interaction</th>\n",
              "      <th>wdsp_wind_interaction</th>\n",
              "    </tr>\n",
              "    <tr>\n",
              "      <th>collision_date</th>\n",
              "      <th></th>\n",
              "      <th></th>\n",
              "      <th></th>\n",
              "      <th></th>\n",
              "      <th></th>\n",
              "      <th></th>\n",
              "      <th></th>\n",
              "      <th></th>\n",
              "      <th></th>\n",
              "      <th></th>\n",
              "      <th></th>\n",
              "      <th></th>\n",
              "      <th></th>\n",
              "      <th></th>\n",
              "      <th></th>\n",
              "      <th></th>\n",
              "      <th></th>\n",
              "      <th></th>\n",
              "      <th></th>\n",
              "      <th></th>\n",
              "      <th></th>\n",
              "    </tr>\n",
              "  </thead>\n",
              "  <tbody>\n",
              "    <tr>\n",
              "      <th>2012-07-01</th>\n",
              "      <td>7</td>\n",
              "      <td>2012</td>\n",
              "      <td>7</td>\n",
              "      <td>83.6</td>\n",
              "      <td>63.0</td>\n",
              "      <td>1008.9</td>\n",
              "      <td>9.7</td>\n",
              "      <td>4.1</td>\n",
              "      <td>9.9</td>\n",
              "      <td>18.1</td>\n",
              "      <td>...</td>\n",
              "      <td>15.031652</td>\n",
              "      <td>1.210648</td>\n",
              "      <td>917.765355</td>\n",
              "      <td>76.092</td>\n",
              "      <td>93.001803</td>\n",
              "      <td>810.92</td>\n",
              "      <td>39.77</td>\n",
              "      <td>0.000</td>\n",
              "      <td>167.2</td>\n",
              "      <td>553.145520</td>\n",
              "    </tr>\n",
              "    <tr>\n",
              "      <th>2012-07-02</th>\n",
              "      <td>1</td>\n",
              "      <td>2012</td>\n",
              "      <td>7</td>\n",
              "      <td>80.3</td>\n",
              "      <td>54.1</td>\n",
              "      <td>1011.6</td>\n",
              "      <td>10.0</td>\n",
              "      <td>3.8</td>\n",
              "      <td>15.0</td>\n",
              "      <td>18.1</td>\n",
              "      <td>...</td>\n",
              "      <td>15.031652</td>\n",
              "      <td>1.210648</td>\n",
              "      <td>917.765355</td>\n",
              "      <td>76.092</td>\n",
              "      <td>93.001803</td>\n",
              "      <td>803.00</td>\n",
              "      <td>38.00</td>\n",
              "      <td>0.000</td>\n",
              "      <td>160.6</td>\n",
              "      <td>545.418750</td>\n",
              "    </tr>\n",
              "    <tr>\n",
              "      <th>2012-07-03</th>\n",
              "      <td>2</td>\n",
              "      <td>2012</td>\n",
              "      <td>7</td>\n",
              "      <td>79.8</td>\n",
              "      <td>56.7</td>\n",
              "      <td>1012.8</td>\n",
              "      <td>10.0</td>\n",
              "      <td>2.9</td>\n",
              "      <td>12.0</td>\n",
              "      <td>18.1</td>\n",
              "      <td>...</td>\n",
              "      <td>15.031652</td>\n",
              "      <td>1.210648</td>\n",
              "      <td>917.765355</td>\n",
              "      <td>76.092</td>\n",
              "      <td>93.001803</td>\n",
              "      <td>798.00</td>\n",
              "      <td>29.00</td>\n",
              "      <td>0.000</td>\n",
              "      <td>159.6</td>\n",
              "      <td>362.080104</td>\n",
              "    </tr>\n",
              "    <tr>\n",
              "      <th>2012-07-04</th>\n",
              "      <td>3</td>\n",
              "      <td>2012</td>\n",
              "      <td>7</td>\n",
              "      <td>81.8</td>\n",
              "      <td>65.6</td>\n",
              "      <td>1009.1</td>\n",
              "      <td>9.2</td>\n",
              "      <td>3.6</td>\n",
              "      <td>11.1</td>\n",
              "      <td>18.1</td>\n",
              "      <td>...</td>\n",
              "      <td>15.031652</td>\n",
              "      <td>1.210648</td>\n",
              "      <td>917.765355</td>\n",
              "      <td>76.092</td>\n",
              "      <td>93.001803</td>\n",
              "      <td>752.56</td>\n",
              "      <td>33.12</td>\n",
              "      <td>4.908</td>\n",
              "      <td>163.6</td>\n",
              "      <td>453.314999</td>\n",
              "    </tr>\n",
              "    <tr>\n",
              "      <th>2012-07-05</th>\n",
              "      <td>4</td>\n",
              "      <td>2012</td>\n",
              "      <td>7</td>\n",
              "      <td>86.7</td>\n",
              "      <td>64.3</td>\n",
              "      <td>1007.4</td>\n",
              "      <td>9.4</td>\n",
              "      <td>3.8</td>\n",
              "      <td>15.0</td>\n",
              "      <td>18.1</td>\n",
              "      <td>...</td>\n",
              "      <td>15.031652</td>\n",
              "      <td>1.210648</td>\n",
              "      <td>917.765355</td>\n",
              "      <td>76.092</td>\n",
              "      <td>93.001803</td>\n",
              "      <td>814.98</td>\n",
              "      <td>35.72</td>\n",
              "      <td>8669.133</td>\n",
              "      <td>173.4</td>\n",
              "      <td>479.916250</td>\n",
              "    </tr>\n",
              "  </tbody>\n",
              "</table>\n",
              "<p>5 rows × 39 columns</p>\n",
              "</div>\n",
              "      <button class=\"colab-df-convert\" onclick=\"convertToInteractive('df-18b3b629-0ac9-43c8-a814-6fff5c309b2d')\"\n",
              "              title=\"Convert this dataframe to an interactive table.\"\n",
              "              style=\"display:none;\">\n",
              "        \n",
              "  <svg xmlns=\"http://www.w3.org/2000/svg\" height=\"24px\"viewBox=\"0 0 24 24\"\n",
              "       width=\"24px\">\n",
              "    <path d=\"M0 0h24v24H0V0z\" fill=\"none\"/>\n",
              "    <path d=\"M18.56 5.44l.94 2.06.94-2.06 2.06-.94-2.06-.94-.94-2.06-.94 2.06-2.06.94zm-11 1L8.5 8.5l.94-2.06 2.06-.94-2.06-.94L8.5 2.5l-.94 2.06-2.06.94zm10 10l.94 2.06.94-2.06 2.06-.94-2.06-.94-.94-2.06-.94 2.06-2.06.94z\"/><path d=\"M17.41 7.96l-1.37-1.37c-.4-.4-.92-.59-1.43-.59-.52 0-1.04.2-1.43.59L10.3 9.45l-7.72 7.72c-.78.78-.78 2.05 0 2.83L4 21.41c.39.39.9.59 1.41.59.51 0 1.02-.2 1.41-.59l7.78-7.78 2.81-2.81c.8-.78.8-2.07 0-2.86zM5.41 20L4 18.59l7.72-7.72 1.47 1.35L5.41 20z\"/>\n",
              "  </svg>\n",
              "      </button>\n",
              "      \n",
              "  <style>\n",
              "    .colab-df-container {\n",
              "      display:flex;\n",
              "      flex-wrap:wrap;\n",
              "      gap: 12px;\n",
              "    }\n",
              "\n",
              "    .colab-df-convert {\n",
              "      background-color: #E8F0FE;\n",
              "      border: none;\n",
              "      border-radius: 50%;\n",
              "      cursor: pointer;\n",
              "      display: none;\n",
              "      fill: #1967D2;\n",
              "      height: 32px;\n",
              "      padding: 0 0 0 0;\n",
              "      width: 32px;\n",
              "    }\n",
              "\n",
              "    .colab-df-convert:hover {\n",
              "      background-color: #E2EBFA;\n",
              "      box-shadow: 0px 1px 2px rgba(60, 64, 67, 0.3), 0px 1px 3px 1px rgba(60, 64, 67, 0.15);\n",
              "      fill: #174EA6;\n",
              "    }\n",
              "\n",
              "    [theme=dark] .colab-df-convert {\n",
              "      background-color: #3B4455;\n",
              "      fill: #D2E3FC;\n",
              "    }\n",
              "\n",
              "    [theme=dark] .colab-df-convert:hover {\n",
              "      background-color: #434B5C;\n",
              "      box-shadow: 0px 1px 3px 1px rgba(0, 0, 0, 0.15);\n",
              "      filter: drop-shadow(0px 1px 2px rgba(0, 0, 0, 0.3));\n",
              "      fill: #FFFFFF;\n",
              "    }\n",
              "  </style>\n",
              "\n",
              "      <script>\n",
              "        const buttonEl =\n",
              "          document.querySelector('#df-18b3b629-0ac9-43c8-a814-6fff5c309b2d button.colab-df-convert');\n",
              "        buttonEl.style.display =\n",
              "          google.colab.kernel.accessAllowed ? 'block' : 'none';\n",
              "\n",
              "        async function convertToInteractive(key) {\n",
              "          const element = document.querySelector('#df-18b3b629-0ac9-43c8-a814-6fff5c309b2d');\n",
              "          const dataTable =\n",
              "            await google.colab.kernel.invokeFunction('convertToInteractive',\n",
              "                                                     [key], {});\n",
              "          if (!dataTable) return;\n",
              "\n",
              "          const docLinkHtml = 'Like what you see? Visit the ' +\n",
              "            '<a target=\"_blank\" href=https://colab.research.google.com/notebooks/data_table.ipynb>data table notebook</a>'\n",
              "            + ' to learn more about interactive tables.';\n",
              "          element.innerHTML = '';\n",
              "          dataTable['output_type'] = 'display_data';\n",
              "          await google.colab.output.renderOutput(dataTable, element);\n",
              "          const docLink = document.createElement('div');\n",
              "          docLink.innerHTML = docLinkHtml;\n",
              "          element.appendChild(docLink);\n",
              "        }\n",
              "      </script>\n",
              "    </div>\n",
              "  </div>\n",
              "  "
            ]
          },
          "metadata": {},
          "execution_count": 176
        }
      ]
    },
    {
      "cell_type": "code",
      "source": [
        "data.dtypes"
      ],
      "metadata": {
        "colab": {
          "base_uri": "https://localhost:8080/"
        },
        "id": "nK3BzXVG4--d",
        "outputId": "1a54e7a1-52a3-43e6-9f4a-a8cc61630b9c"
      },
      "execution_count": 177,
      "outputs": [
        {
          "output_type": "execute_result",
          "data": {
            "text/plain": [
              "day                          int64\n",
              "year                         int64\n",
              "mo                           int64\n",
              "temp                       float64\n",
              "dewp                       float64\n",
              "slp                        float64\n",
              "visib                      float64\n",
              "wdsp                       float64\n",
              "mxpsd                      float64\n",
              "gust                       float64\n",
              "max                        float64\n",
              "min                        float64\n",
              "prcp                       float64\n",
              "fog                          int64\n",
              "NUM_COLLISIONS               int64\n",
              "co2                        float64\n",
              "wind                       float64\n",
              "so2                        float64\n",
              "pressure                   float64\n",
              "season                       int64\n",
              "visib_7day_ma              float64\n",
              "wdsp_7day_ma               float64\n",
              "co2_7day_ma                float64\n",
              "so2_7day_ma                float64\n",
              "pressure_7day_ma           float64\n",
              "temp_7day_ma               float64\n",
              "wind_7day_ma               float64\n",
              "visib_30day_ma             float64\n",
              "wdsp_30day_ma              float64\n",
              "co2_30day_ma               float64\n",
              "so2_30day_ma               float64\n",
              "pressure_30day_ma          float64\n",
              "temp_30day_ma              float64\n",
              "wind_30day_ma              float64\n",
              "temp_visib_interaction     float64\n",
              "wdsp_visib_interaction     float64\n",
              "prcp_temp_interaction      float64\n",
              "temp_season_interaction    float64\n",
              "wdsp_wind_interaction      float64\n",
              "dtype: object"
            ]
          },
          "metadata": {},
          "execution_count": 177
        }
      ]
    },
    {
      "cell_type": "code",
      "source": [
        "data.columns"
      ],
      "metadata": {
        "colab": {
          "base_uri": "https://localhost:8080/"
        },
        "id": "cBrBMxnX4_EF",
        "outputId": "504031aa-3501-4d39-e551-c8daf9948390"
      },
      "execution_count": 178,
      "outputs": [
        {
          "output_type": "execute_result",
          "data": {
            "text/plain": [
              "Index(['day', 'year', 'mo', 'temp', 'dewp', 'slp', 'visib', 'wdsp', 'mxpsd',\n",
              "       'gust', 'max', 'min', 'prcp', 'fog', 'NUM_COLLISIONS', 'co2', 'wind',\n",
              "       'so2', 'pressure', 'season', 'visib_7day_ma', 'wdsp_7day_ma',\n",
              "       'co2_7day_ma', 'so2_7day_ma', 'pressure_7day_ma', 'temp_7day_ma',\n",
              "       'wind_7day_ma', 'visib_30day_ma', 'wdsp_30day_ma', 'co2_30day_ma',\n",
              "       'so2_30day_ma', 'pressure_30day_ma', 'temp_30day_ma', 'wind_30day_ma',\n",
              "       'temp_visib_interaction', 'wdsp_visib_interaction',\n",
              "       'prcp_temp_interaction', 'temp_season_interaction',\n",
              "       'wdsp_wind_interaction'],\n",
              "      dtype='object')"
            ]
          },
          "metadata": {},
          "execution_count": 178
        }
      ]
    },
    {
      "cell_type": "code",
      "source": [
        "# Check if there are any missing values in the entire DataFrame\n",
        "has_missing_values = data.isna().any().any()\n",
        "\n",
        "# Print the result\n",
        "print(\"Are there any missing values in the DataFrame?\", has_missing_values)"
      ],
      "metadata": {
        "colab": {
          "base_uri": "https://localhost:8080/"
        },
        "id": "fK0cq0dgFQkO",
        "outputId": "c74935c2-e775-4b58-9f72-066d21d466d5"
      },
      "execution_count": 179,
      "outputs": [
        {
          "output_type": "stream",
          "name": "stdout",
          "text": [
            "Are there any missing values in the DataFrame? False\n"
          ]
        }
      ]
    },
    {
      "cell_type": "code",
      "source": [
        "# Select the features and target variable\n",
        "X = data.drop(\"NUM_COLLISIONS\", axis=1)  # Replace \"num_collisions\" with the actual target column name\n",
        "y = data[\"NUM_COLLISIONS\"]  # Replace \"num_collisions\" with the actual target column name"
      ],
      "metadata": {
        "id": "tJE7pFmX4_G9"
      },
      "execution_count": 180,
      "outputs": []
    },
    {
      "cell_type": "code",
      "source": [],
      "metadata": {
        "id": "DU9DpExt4_QF"
      },
      "execution_count": null,
      "outputs": []
    },
    {
      "cell_type": "code",
      "source": [
        "# Create a linear regression model\n",
        "model = LinearRegression()"
      ],
      "metadata": {
        "id": "vl-OCXCd4_S9"
      },
      "execution_count": null,
      "outputs": []
    },
    {
      "cell_type": "code",
      "source": [
        "# Compute the cross-validated MSE and MAE scores\n",
        "mse_scores = -1 * cross_val_score(model, X, y, cv=5, scoring='neg_mean_squared_error')\n",
        "mae_scores = -1 * cross_val_score(model, X, y, cv=5, scoring='neg_mean_absolute_error')"
      ],
      "metadata": {
        "id": "F5GmYLsj4_V1"
      },
      "execution_count": null,
      "outputs": []
    },
    {
      "cell_type": "code",
      "source": [
        "# Compute the mean squared error (MSE), mean absolute error (MAE), and their square roots (RMSE, RMAE)\n",
        "mse = mse_scores.mean()\n",
        "rmse = mse_scores.mean() ** 0.5\n",
        "mae = mae_scores.mean()\n"
      ],
      "metadata": {
        "id": "-p-JQvTq4_Yt"
      },
      "execution_count": null,
      "outputs": []
    },
    {
      "cell_type": "code",
      "source": [
        "print(\"Mean Squared Error: {:.4f}\".format(mse))\n",
        "print(\"Root Mean Squared Error: {:.4f}\".format(rmse))\n",
        "print(\"Mean Absolute Error: {:.4f}\".format(mae))"
      ],
      "metadata": {
        "id": "57_hbGLt4_rV",
        "colab": {
          "base_uri": "https://localhost:8080/"
        },
        "outputId": "5256d308-292b-4f5d-92d0-ebc9e41f6d22"
      },
      "execution_count": null,
      "outputs": [
        {
          "output_type": "stream",
          "name": "stdout",
          "text": [
            "Mean Squared Error: 64576.1269\n",
            "Root Mean Squared Error: 254.1183\n",
            "Mean Absolute Error: 156.9246\n"
          ]
        }
      ]
    },
    {
      "cell_type": "code",
      "source": [],
      "metadata": {
        "id": "pbWP-hfe4_y9"
      },
      "execution_count": null,
      "outputs": []
    },
    {
      "cell_type": "code",
      "source": [],
      "metadata": {
        "id": "9N2_fv4iLE7F"
      },
      "execution_count": null,
      "outputs": []
    },
    {
      "cell_type": "code",
      "source": [],
      "metadata": {
        "id": "HHL3dH-pLE-W"
      },
      "execution_count": null,
      "outputs": []
    },
    {
      "cell_type": "code",
      "source": [],
      "metadata": {
        "id": "GZUdhjqpLFBG"
      },
      "execution_count": null,
      "outputs": []
    },
    {
      "cell_type": "code",
      "source": [],
      "metadata": {
        "id": "yGdBuMUyLFEF"
      },
      "execution_count": null,
      "outputs": []
    },
    {
      "cell_type": "code",
      "source": [
        "params = {\n",
        "    'alpha': [0.001, 0.01, 0.1, 1, 10],\n",
        "    'selection': ['cyclic', 'random'],\n",
        "    'max_iter': [1000, 5000, 10000],\n",
        "    'tol': [0.0001, 0.001, 0.01],\n",
        "}"
      ],
      "metadata": {
        "id": "5QZu2JRM4_5-"
      },
      "execution_count": 161,
      "outputs": []
    },
    {
      "cell_type": "code",
      "source": [
        "# Create the Lasso regression model\n",
        "lasso = Lasso()"
      ],
      "metadata": {
        "id": "TioR7XwPLCf2"
      },
      "execution_count": 162,
      "outputs": []
    },
    {
      "cell_type": "code",
      "source": [
        "# Create the GridSearchCV object\n",
        "grid_search = GridSearchCV(lasso, param_grid=params, cv=10)"
      ],
      "metadata": {
        "id": "2mtuHK5vLCje"
      },
      "execution_count": 163,
      "outputs": []
    },
    {
      "cell_type": "code",
      "source": [
        "# Fit the model using the GridSearchCV object\n",
        "grid_search.fit(X_train, y_train)"
      ],
      "metadata": {
        "colab": {
          "base_uri": "https://localhost:8080/",
          "height": 1000
        },
        "id": "QkmizMmuLCmg",
        "outputId": "15d552ae-fef6-4c4d-d46f-46d7c04c32e0"
      },
      "execution_count": 164,
      "outputs": [
        {
          "output_type": "stream",
          "name": "stderr",
          "text": [
            "/usr/local/lib/python3.9/dist-packages/sklearn/linear_model/_coordinate_descent.py:631: ConvergenceWarning: Objective did not converge. You might want to increase the number of iterations, check the scale of the features or consider increasing regularisation. Duality gap: 2.434e+06, tolerance: 3.517e+03\n",
            "  model = cd_fast.enet_coordinate_descent(\n",
            "/usr/local/lib/python3.9/dist-packages/sklearn/linear_model/_coordinate_descent.py:631: ConvergenceWarning: Objective did not converge. You might want to increase the number of iterations, check the scale of the features or consider increasing regularisation. Duality gap: 6.413e+05, tolerance: 3.389e+03\n",
            "  model = cd_fast.enet_coordinate_descent(\n",
            "/usr/local/lib/python3.9/dist-packages/sklearn/linear_model/_coordinate_descent.py:631: ConvergenceWarning: Objective did not converge. You might want to increase the number of iterations, check the scale of the features or consider increasing regularisation. Duality gap: 4.161e+03, tolerance: 3.500e+03\n",
            "  model = cd_fast.enet_coordinate_descent(\n",
            "/usr/local/lib/python3.9/dist-packages/sklearn/linear_model/_coordinate_descent.py:631: ConvergenceWarning: Objective did not converge. You might want to increase the number of iterations, check the scale of the features or consider increasing regularisation. Duality gap: 2.434e+06, tolerance: 3.517e+04\n",
            "  model = cd_fast.enet_coordinate_descent(\n",
            "/usr/local/lib/python3.9/dist-packages/sklearn/linear_model/_coordinate_descent.py:631: ConvergenceWarning: Objective did not converge. You might want to increase the number of iterations, check the scale of the features or consider increasing regularisation. Duality gap: 6.413e+05, tolerance: 3.389e+04\n",
            "  model = cd_fast.enet_coordinate_descent(\n",
            "/usr/local/lib/python3.9/dist-packages/sklearn/linear_model/_coordinate_descent.py:631: ConvergenceWarning: Objective did not converge. You might want to increase the number of iterations, check the scale of the features or consider increasing regularisation. Duality gap: 2.434e+06, tolerance: 3.517e+05\n",
            "  model = cd_fast.enet_coordinate_descent(\n",
            "/usr/local/lib/python3.9/dist-packages/sklearn/linear_model/_coordinate_descent.py:631: ConvergenceWarning: Objective did not converge. You might want to increase the number of iterations, check the scale of the features or consider increasing regularisation. Duality gap: 6.413e+05, tolerance: 3.389e+05\n",
            "  model = cd_fast.enet_coordinate_descent(\n",
            "/usr/local/lib/python3.9/dist-packages/sklearn/linear_model/_coordinate_descent.py:631: ConvergenceWarning: Objective did not converge. You might want to increase the number of iterations, check the scale of the features or consider increasing regularisation. Duality gap: 1.260e+07, tolerance: 3.547e+03\n",
            "  model = cd_fast.enet_coordinate_descent(\n",
            "/usr/local/lib/python3.9/dist-packages/sklearn/linear_model/_coordinate_descent.py:631: ConvergenceWarning: Objective did not converge. You might want to increase the number of iterations, check the scale of the features or consider increasing regularisation. Duality gap: 1.283e+07, tolerance: 3.565e+03\n",
            "  model = cd_fast.enet_coordinate_descent(\n",
            "/usr/local/lib/python3.9/dist-packages/sklearn/linear_model/_coordinate_descent.py:631: ConvergenceWarning: Objective did not converge. You might want to increase the number of iterations, check the scale of the features or consider increasing regularisation. Duality gap: 1.300e+07, tolerance: 3.517e+03\n",
            "  model = cd_fast.enet_coordinate_descent(\n",
            "/usr/local/lib/python3.9/dist-packages/sklearn/linear_model/_coordinate_descent.py:631: ConvergenceWarning: Objective did not converge. You might want to increase the number of iterations, check the scale of the features or consider increasing regularisation. Duality gap: 1.299e+07, tolerance: 3.530e+03\n",
            "  model = cd_fast.enet_coordinate_descent(\n",
            "/usr/local/lib/python3.9/dist-packages/sklearn/linear_model/_coordinate_descent.py:631: ConvergenceWarning: Objective did not converge. You might want to increase the number of iterations, check the scale of the features or consider increasing regularisation. Duality gap: 1.286e+07, tolerance: 3.502e+03\n",
            "  model = cd_fast.enet_coordinate_descent(\n",
            "/usr/local/lib/python3.9/dist-packages/sklearn/linear_model/_coordinate_descent.py:631: ConvergenceWarning: Objective did not converge. You might want to increase the number of iterations, check the scale of the features or consider increasing regularisation. Duality gap: 9.560e+06, tolerance: 3.498e+03\n",
            "  model = cd_fast.enet_coordinate_descent(\n",
            "/usr/local/lib/python3.9/dist-packages/sklearn/linear_model/_coordinate_descent.py:631: ConvergenceWarning: Objective did not converge. You might want to increase the number of iterations, check the scale of the features or consider increasing regularisation. Duality gap: 1.233e+07, tolerance: 3.522e+03\n",
            "  model = cd_fast.enet_coordinate_descent(\n",
            "/usr/local/lib/python3.9/dist-packages/sklearn/linear_model/_coordinate_descent.py:631: ConvergenceWarning: Objective did not converge. You might want to increase the number of iterations, check the scale of the features or consider increasing regularisation. Duality gap: 1.304e+07, tolerance: 3.543e+03\n",
            "  model = cd_fast.enet_coordinate_descent(\n",
            "/usr/local/lib/python3.9/dist-packages/sklearn/linear_model/_coordinate_descent.py:631: ConvergenceWarning: Objective did not converge. You might want to increase the number of iterations, check the scale of the features or consider increasing regularisation. Duality gap: 1.194e+07, tolerance: 3.389e+03\n",
            "  model = cd_fast.enet_coordinate_descent(\n",
            "/usr/local/lib/python3.9/dist-packages/sklearn/linear_model/_coordinate_descent.py:631: ConvergenceWarning: Objective did not converge. You might want to increase the number of iterations, check the scale of the features or consider increasing regularisation. Duality gap: 1.304e+07, tolerance: 3.500e+03\n",
            "  model = cd_fast.enet_coordinate_descent(\n",
            "/usr/local/lib/python3.9/dist-packages/sklearn/linear_model/_coordinate_descent.py:631: ConvergenceWarning: Objective did not converge. You might want to increase the number of iterations, check the scale of the features or consider increasing regularisation. Duality gap: 1.295e+07, tolerance: 3.547e+04\n",
            "  model = cd_fast.enet_coordinate_descent(\n",
            "/usr/local/lib/python3.9/dist-packages/sklearn/linear_model/_coordinate_descent.py:631: ConvergenceWarning: Objective did not converge. You might want to increase the number of iterations, check the scale of the features or consider increasing regularisation. Duality gap: 1.232e+07, tolerance: 3.565e+04\n",
            "  model = cd_fast.enet_coordinate_descent(\n",
            "/usr/local/lib/python3.9/dist-packages/sklearn/linear_model/_coordinate_descent.py:631: ConvergenceWarning: Objective did not converge. You might want to increase the number of iterations, check the scale of the features or consider increasing regularisation. Duality gap: 1.227e+07, tolerance: 3.517e+04\n",
            "  model = cd_fast.enet_coordinate_descent(\n",
            "/usr/local/lib/python3.9/dist-packages/sklearn/linear_model/_coordinate_descent.py:631: ConvergenceWarning: Objective did not converge. You might want to increase the number of iterations, check the scale of the features or consider increasing regularisation. Duality gap: 1.299e+07, tolerance: 3.530e+04\n",
            "  model = cd_fast.enet_coordinate_descent(\n",
            "/usr/local/lib/python3.9/dist-packages/sklearn/linear_model/_coordinate_descent.py:631: ConvergenceWarning: Objective did not converge. You might want to increase the number of iterations, check the scale of the features or consider increasing regularisation. Duality gap: 1.274e+07, tolerance: 3.502e+04\n",
            "  model = cd_fast.enet_coordinate_descent(\n",
            "/usr/local/lib/python3.9/dist-packages/sklearn/linear_model/_coordinate_descent.py:631: ConvergenceWarning: Objective did not converge. You might want to increase the number of iterations, check the scale of the features or consider increasing regularisation. Duality gap: 1.304e+07, tolerance: 3.498e+04\n",
            "  model = cd_fast.enet_coordinate_descent(\n",
            "/usr/local/lib/python3.9/dist-packages/sklearn/linear_model/_coordinate_descent.py:631: ConvergenceWarning: Objective did not converge. You might want to increase the number of iterations, check the scale of the features or consider increasing regularisation. Duality gap: 1.276e+07, tolerance: 3.522e+04\n",
            "  model = cd_fast.enet_coordinate_descent(\n",
            "/usr/local/lib/python3.9/dist-packages/sklearn/linear_model/_coordinate_descent.py:631: ConvergenceWarning: Objective did not converge. You might want to increase the number of iterations, check the scale of the features or consider increasing regularisation. Duality gap: 1.302e+07, tolerance: 3.543e+04\n",
            "  model = cd_fast.enet_coordinate_descent(\n",
            "/usr/local/lib/python3.9/dist-packages/sklearn/linear_model/_coordinate_descent.py:631: ConvergenceWarning: Objective did not converge. You might want to increase the number of iterations, check the scale of the features or consider increasing regularisation. Duality gap: 1.260e+07, tolerance: 3.389e+04\n",
            "  model = cd_fast.enet_coordinate_descent(\n",
            "/usr/local/lib/python3.9/dist-packages/sklearn/linear_model/_coordinate_descent.py:631: ConvergenceWarning: Objective did not converge. You might want to increase the number of iterations, check the scale of the features or consider increasing regularisation. Duality gap: 1.304e+07, tolerance: 3.500e+04\n",
            "  model = cd_fast.enet_coordinate_descent(\n",
            "/usr/local/lib/python3.9/dist-packages/sklearn/linear_model/_coordinate_descent.py:631: ConvergenceWarning: Objective did not converge. You might want to increase the number of iterations, check the scale of the features or consider increasing regularisation. Duality gap: 1.293e+07, tolerance: 3.547e+05\n",
            "  model = cd_fast.enet_coordinate_descent(\n",
            "/usr/local/lib/python3.9/dist-packages/sklearn/linear_model/_coordinate_descent.py:631: ConvergenceWarning: Objective did not converge. You might want to increase the number of iterations, check the scale of the features or consider increasing regularisation. Duality gap: 1.213e+07, tolerance: 3.565e+05\n",
            "  model = cd_fast.enet_coordinate_descent(\n",
            "/usr/local/lib/python3.9/dist-packages/sklearn/linear_model/_coordinate_descent.py:631: ConvergenceWarning: Objective did not converge. You might want to increase the number of iterations, check the scale of the features or consider increasing regularisation. Duality gap: 1.243e+07, tolerance: 3.517e+05\n",
            "  model = cd_fast.enet_coordinate_descent(\n",
            "/usr/local/lib/python3.9/dist-packages/sklearn/linear_model/_coordinate_descent.py:631: ConvergenceWarning: Objective did not converge. You might want to increase the number of iterations, check the scale of the features or consider increasing regularisation. Duality gap: 1.168e+07, tolerance: 3.530e+05\n",
            "  model = cd_fast.enet_coordinate_descent(\n",
            "/usr/local/lib/python3.9/dist-packages/sklearn/linear_model/_coordinate_descent.py:631: ConvergenceWarning: Objective did not converge. You might want to increase the number of iterations, check the scale of the features or consider increasing regularisation. Duality gap: 1.304e+07, tolerance: 3.502e+05\n",
            "  model = cd_fast.enet_coordinate_descent(\n",
            "/usr/local/lib/python3.9/dist-packages/sklearn/linear_model/_coordinate_descent.py:631: ConvergenceWarning: Objective did not converge. You might want to increase the number of iterations, check the scale of the features or consider increasing regularisation. Duality gap: 8.898e+06, tolerance: 3.498e+05\n",
            "  model = cd_fast.enet_coordinate_descent(\n",
            "/usr/local/lib/python3.9/dist-packages/sklearn/linear_model/_coordinate_descent.py:631: ConvergenceWarning: Objective did not converge. You might want to increase the number of iterations, check the scale of the features or consider increasing regularisation. Duality gap: 1.275e+07, tolerance: 3.522e+05\n",
            "  model = cd_fast.enet_coordinate_descent(\n",
            "/usr/local/lib/python3.9/dist-packages/sklearn/linear_model/_coordinate_descent.py:631: ConvergenceWarning: Objective did not converge. You might want to increase the number of iterations, check the scale of the features or consider increasing regularisation. Duality gap: 1.284e+07, tolerance: 3.543e+05\n",
            "  model = cd_fast.enet_coordinate_descent(\n",
            "/usr/local/lib/python3.9/dist-packages/sklearn/linear_model/_coordinate_descent.py:631: ConvergenceWarning: Objective did not converge. You might want to increase the number of iterations, check the scale of the features or consider increasing regularisation. Duality gap: 1.260e+07, tolerance: 3.389e+05\n",
            "  model = cd_fast.enet_coordinate_descent(\n",
            "/usr/local/lib/python3.9/dist-packages/sklearn/linear_model/_coordinate_descent.py:631: ConvergenceWarning: Objective did not converge. You might want to increase the number of iterations, check the scale of the features or consider increasing regularisation. Duality gap: 1.301e+07, tolerance: 3.500e+05\n",
            "  model = cd_fast.enet_coordinate_descent(\n",
            "/usr/local/lib/python3.9/dist-packages/sklearn/linear_model/_coordinate_descent.py:631: ConvergenceWarning: Objective did not converge. You might want to increase the number of iterations, check the scale of the features or consider increasing regularisation. Duality gap: 6.605e+04, tolerance: 3.517e+03\n",
            "  model = cd_fast.enet_coordinate_descent(\n",
            "/usr/local/lib/python3.9/dist-packages/sklearn/linear_model/_coordinate_descent.py:631: ConvergenceWarning: Objective did not converge. You might want to increase the number of iterations, check the scale of the features or consider increasing regularisation. Duality gap: 1.018e+04, tolerance: 3.389e+03\n",
            "  model = cd_fast.enet_coordinate_descent(\n",
            "/usr/local/lib/python3.9/dist-packages/sklearn/linear_model/_coordinate_descent.py:631: ConvergenceWarning: Objective did not converge. You might want to increase the number of iterations, check the scale of the features or consider increasing regularisation. Duality gap: 6.605e+04, tolerance: 3.517e+04\n",
            "  model = cd_fast.enet_coordinate_descent(\n",
            "/usr/local/lib/python3.9/dist-packages/sklearn/linear_model/_coordinate_descent.py:631: ConvergenceWarning: Objective did not converge. You might want to increase the number of iterations, check the scale of the features or consider increasing regularisation. Duality gap: 1.192e+07, tolerance: 3.547e+03\n",
            "  model = cd_fast.enet_coordinate_descent(\n",
            "/usr/local/lib/python3.9/dist-packages/sklearn/linear_model/_coordinate_descent.py:631: ConvergenceWarning: Objective did not converge. You might want to increase the number of iterations, check the scale of the features or consider increasing regularisation. Duality gap: 8.583e+05, tolerance: 3.565e+03\n",
            "  model = cd_fast.enet_coordinate_descent(\n",
            "/usr/local/lib/python3.9/dist-packages/sklearn/linear_model/_coordinate_descent.py:631: ConvergenceWarning: Objective did not converge. You might want to increase the number of iterations, check the scale of the features or consider increasing regularisation. Duality gap: 1.291e+07, tolerance: 3.517e+03\n",
            "  model = cd_fast.enet_coordinate_descent(\n",
            "/usr/local/lib/python3.9/dist-packages/sklearn/linear_model/_coordinate_descent.py:631: ConvergenceWarning: Objective did not converge. You might want to increase the number of iterations, check the scale of the features or consider increasing regularisation. Duality gap: 1.207e+07, tolerance: 3.530e+03\n",
            "  model = cd_fast.enet_coordinate_descent(\n",
            "/usr/local/lib/python3.9/dist-packages/sklearn/linear_model/_coordinate_descent.py:631: ConvergenceWarning: Objective did not converge. You might want to increase the number of iterations, check the scale of the features or consider increasing regularisation. Duality gap: 8.302e+06, tolerance: 3.502e+03\n",
            "  model = cd_fast.enet_coordinate_descent(\n",
            "/usr/local/lib/python3.9/dist-packages/sklearn/linear_model/_coordinate_descent.py:631: ConvergenceWarning: Objective did not converge. You might want to increase the number of iterations, check the scale of the features or consider increasing regularisation. Duality gap: 1.265e+07, tolerance: 3.498e+03\n",
            "  model = cd_fast.enet_coordinate_descent(\n",
            "/usr/local/lib/python3.9/dist-packages/sklearn/linear_model/_coordinate_descent.py:631: ConvergenceWarning: Objective did not converge. You might want to increase the number of iterations, check the scale of the features or consider increasing regularisation. Duality gap: 7.531e+06, tolerance: 3.522e+03\n",
            "  model = cd_fast.enet_coordinate_descent(\n",
            "/usr/local/lib/python3.9/dist-packages/sklearn/linear_model/_coordinate_descent.py:631: ConvergenceWarning: Objective did not converge. You might want to increase the number of iterations, check the scale of the features or consider increasing regularisation. Duality gap: 4.187e+06, tolerance: 3.543e+03\n",
            "  model = cd_fast.enet_coordinate_descent(\n",
            "/usr/local/lib/python3.9/dist-packages/sklearn/linear_model/_coordinate_descent.py:631: ConvergenceWarning: Objective did not converge. You might want to increase the number of iterations, check the scale of the features or consider increasing regularisation. Duality gap: 7.514e+06, tolerance: 3.389e+03\n",
            "  model = cd_fast.enet_coordinate_descent(\n",
            "/usr/local/lib/python3.9/dist-packages/sklearn/linear_model/_coordinate_descent.py:631: ConvergenceWarning: Objective did not converge. You might want to increase the number of iterations, check the scale of the features or consider increasing regularisation. Duality gap: 1.251e+07, tolerance: 3.500e+03\n",
            "  model = cd_fast.enet_coordinate_descent(\n",
            "/usr/local/lib/python3.9/dist-packages/sklearn/linear_model/_coordinate_descent.py:631: ConvergenceWarning: Objective did not converge. You might want to increase the number of iterations, check the scale of the features or consider increasing regularisation. Duality gap: 6.505e+06, tolerance: 3.547e+04\n",
            "  model = cd_fast.enet_coordinate_descent(\n",
            "/usr/local/lib/python3.9/dist-packages/sklearn/linear_model/_coordinate_descent.py:631: ConvergenceWarning: Objective did not converge. You might want to increase the number of iterations, check the scale of the features or consider increasing regularisation. Duality gap: 1.292e+07, tolerance: 3.517e+04\n",
            "  model = cd_fast.enet_coordinate_descent(\n",
            "/usr/local/lib/python3.9/dist-packages/sklearn/linear_model/_coordinate_descent.py:631: ConvergenceWarning: Objective did not converge. You might want to increase the number of iterations, check the scale of the features or consider increasing regularisation. Duality gap: 5.682e+06, tolerance: 3.530e+04\n",
            "  model = cd_fast.enet_coordinate_descent(\n",
            "/usr/local/lib/python3.9/dist-packages/sklearn/linear_model/_coordinate_descent.py:631: ConvergenceWarning: Objective did not converge. You might want to increase the number of iterations, check the scale of the features or consider increasing regularisation. Duality gap: 6.674e+06, tolerance: 3.502e+04\n",
            "  model = cd_fast.enet_coordinate_descent(\n",
            "/usr/local/lib/python3.9/dist-packages/sklearn/linear_model/_coordinate_descent.py:631: ConvergenceWarning: Objective did not converge. You might want to increase the number of iterations, check the scale of the features or consider increasing regularisation. Duality gap: 1.227e+07, tolerance: 3.498e+04\n",
            "  model = cd_fast.enet_coordinate_descent(\n",
            "/usr/local/lib/python3.9/dist-packages/sklearn/linear_model/_coordinate_descent.py:631: ConvergenceWarning: Objective did not converge. You might want to increase the number of iterations, check the scale of the features or consider increasing regularisation. Duality gap: 3.736e+06, tolerance: 3.522e+04\n",
            "  model = cd_fast.enet_coordinate_descent(\n",
            "/usr/local/lib/python3.9/dist-packages/sklearn/linear_model/_coordinate_descent.py:631: ConvergenceWarning: Objective did not converge. You might want to increase the number of iterations, check the scale of the features or consider increasing regularisation. Duality gap: 1.188e+07, tolerance: 3.543e+04\n",
            "  model = cd_fast.enet_coordinate_descent(\n",
            "/usr/local/lib/python3.9/dist-packages/sklearn/linear_model/_coordinate_descent.py:631: ConvergenceWarning: Objective did not converge. You might want to increase the number of iterations, check the scale of the features or consider increasing regularisation. Duality gap: 1.250e+07, tolerance: 3.389e+04\n",
            "  model = cd_fast.enet_coordinate_descent(\n",
            "/usr/local/lib/python3.9/dist-packages/sklearn/linear_model/_coordinate_descent.py:631: ConvergenceWarning: Objective did not converge. You might want to increase the number of iterations, check the scale of the features or consider increasing regularisation. Duality gap: 3.391e+06, tolerance: 3.500e+04\n",
            "  model = cd_fast.enet_coordinate_descent(\n",
            "/usr/local/lib/python3.9/dist-packages/sklearn/linear_model/_coordinate_descent.py:631: ConvergenceWarning: Objective did not converge. You might want to increase the number of iterations, check the scale of the features or consider increasing regularisation. Duality gap: 1.004e+07, tolerance: 3.547e+05\n",
            "  model = cd_fast.enet_coordinate_descent(\n",
            "/usr/local/lib/python3.9/dist-packages/sklearn/linear_model/_coordinate_descent.py:631: ConvergenceWarning: Objective did not converge. You might want to increase the number of iterations, check the scale of the features or consider increasing regularisation. Duality gap: 6.560e+06, tolerance: 3.565e+05\n",
            "  model = cd_fast.enet_coordinate_descent(\n",
            "/usr/local/lib/python3.9/dist-packages/sklearn/linear_model/_coordinate_descent.py:631: ConvergenceWarning: Objective did not converge. You might want to increase the number of iterations, check the scale of the features or consider increasing regularisation. Duality gap: 1.291e+07, tolerance: 3.517e+05\n",
            "  model = cd_fast.enet_coordinate_descent(\n",
            "/usr/local/lib/python3.9/dist-packages/sklearn/linear_model/_coordinate_descent.py:631: ConvergenceWarning: Objective did not converge. You might want to increase the number of iterations, check the scale of the features or consider increasing regularisation. Duality gap: 8.749e+06, tolerance: 3.530e+05\n",
            "  model = cd_fast.enet_coordinate_descent(\n",
            "/usr/local/lib/python3.9/dist-packages/sklearn/linear_model/_coordinate_descent.py:631: ConvergenceWarning: Objective did not converge. You might want to increase the number of iterations, check the scale of the features or consider increasing regularisation. Duality gap: 5.427e+06, tolerance: 3.502e+05\n",
            "  model = cd_fast.enet_coordinate_descent(\n",
            "/usr/local/lib/python3.9/dist-packages/sklearn/linear_model/_coordinate_descent.py:631: ConvergenceWarning: Objective did not converge. You might want to increase the number of iterations, check the scale of the features or consider increasing regularisation. Duality gap: 1.884e+06, tolerance: 3.498e+05\n",
            "  model = cd_fast.enet_coordinate_descent(\n",
            "/usr/local/lib/python3.9/dist-packages/sklearn/linear_model/_coordinate_descent.py:631: ConvergenceWarning: Objective did not converge. You might want to increase the number of iterations, check the scale of the features or consider increasing regularisation. Duality gap: 1.180e+07, tolerance: 3.522e+05\n",
            "  model = cd_fast.enet_coordinate_descent(\n",
            "/usr/local/lib/python3.9/dist-packages/sklearn/linear_model/_coordinate_descent.py:631: ConvergenceWarning: Objective did not converge. You might want to increase the number of iterations, check the scale of the features or consider increasing regularisation. Duality gap: 1.157e+07, tolerance: 3.543e+05\n",
            "  model = cd_fast.enet_coordinate_descent(\n",
            "/usr/local/lib/python3.9/dist-packages/sklearn/linear_model/_coordinate_descent.py:631: ConvergenceWarning: Objective did not converge. You might want to increase the number of iterations, check the scale of the features or consider increasing regularisation. Duality gap: 1.251e+07, tolerance: 3.389e+05\n",
            "  model = cd_fast.enet_coordinate_descent(\n",
            "/usr/local/lib/python3.9/dist-packages/sklearn/linear_model/_coordinate_descent.py:631: ConvergenceWarning: Objective did not converge. You might want to increase the number of iterations, check the scale of the features or consider increasing regularisation. Duality gap: 1.258e+07, tolerance: 3.500e+05\n",
            "  model = cd_fast.enet_coordinate_descent(\n",
            "/usr/local/lib/python3.9/dist-packages/sklearn/linear_model/_coordinate_descent.py:631: ConvergenceWarning: Objective did not converge. You might want to increase the number of iterations, check the scale of the features or consider increasing regularisation. Duality gap: 5.578e+06, tolerance: 3.547e+03\n",
            "  model = cd_fast.enet_coordinate_descent(\n",
            "/usr/local/lib/python3.9/dist-packages/sklearn/linear_model/_coordinate_descent.py:631: ConvergenceWarning: Objective did not converge. You might want to increase the number of iterations, check the scale of the features or consider increasing regularisation. Duality gap: 5.365e+04, tolerance: 3.565e+03\n",
            "  model = cd_fast.enet_coordinate_descent(\n",
            "/usr/local/lib/python3.9/dist-packages/sklearn/linear_model/_coordinate_descent.py:631: ConvergenceWarning: Objective did not converge. You might want to increase the number of iterations, check the scale of the features or consider increasing regularisation. Duality gap: 2.086e+06, tolerance: 3.517e+03\n",
            "  model = cd_fast.enet_coordinate_descent(\n",
            "/usr/local/lib/python3.9/dist-packages/sklearn/linear_model/_coordinate_descent.py:631: ConvergenceWarning: Objective did not converge. You might want to increase the number of iterations, check the scale of the features or consider increasing regularisation. Duality gap: 4.135e+04, tolerance: 3.530e+03\n",
            "  model = cd_fast.enet_coordinate_descent(\n",
            "/usr/local/lib/python3.9/dist-packages/sklearn/linear_model/_coordinate_descent.py:631: ConvergenceWarning: Objective did not converge. You might want to increase the number of iterations, check the scale of the features or consider increasing regularisation. Duality gap: 2.723e+06, tolerance: 3.502e+03\n",
            "  model = cd_fast.enet_coordinate_descent(\n",
            "/usr/local/lib/python3.9/dist-packages/sklearn/linear_model/_coordinate_descent.py:631: ConvergenceWarning: Objective did not converge. You might want to increase the number of iterations, check the scale of the features or consider increasing regularisation. Duality gap: 5.426e+04, tolerance: 3.498e+03\n",
            "  model = cd_fast.enet_coordinate_descent(\n",
            "/usr/local/lib/python3.9/dist-packages/sklearn/linear_model/_coordinate_descent.py:631: ConvergenceWarning: Objective did not converge. You might want to increase the number of iterations, check the scale of the features or consider increasing regularisation. Duality gap: 5.705e+06, tolerance: 3.522e+03\n",
            "  model = cd_fast.enet_coordinate_descent(\n",
            "/usr/local/lib/python3.9/dist-packages/sklearn/linear_model/_coordinate_descent.py:631: ConvergenceWarning: Objective did not converge. You might want to increase the number of iterations, check the scale of the features or consider increasing regularisation. Duality gap: 5.904e+03, tolerance: 3.543e+03\n",
            "  model = cd_fast.enet_coordinate_descent(\n",
            "/usr/local/lib/python3.9/dist-packages/sklearn/linear_model/_coordinate_descent.py:631: ConvergenceWarning: Objective did not converge. You might want to increase the number of iterations, check the scale of the features or consider increasing regularisation. Duality gap: 1.169e+07, tolerance: 3.389e+03\n",
            "  model = cd_fast.enet_coordinate_descent(\n",
            "/usr/local/lib/python3.9/dist-packages/sklearn/linear_model/_coordinate_descent.py:631: ConvergenceWarning: Objective did not converge. You might want to increase the number of iterations, check the scale of the features or consider increasing regularisation. Duality gap: 8.674e+06, tolerance: 3.500e+03\n",
            "  model = cd_fast.enet_coordinate_descent(\n",
            "/usr/local/lib/python3.9/dist-packages/sklearn/linear_model/_coordinate_descent.py:631: ConvergenceWarning: Objective did not converge. You might want to increase the number of iterations, check the scale of the features or consider increasing regularisation. Duality gap: 1.198e+07, tolerance: 3.517e+04\n",
            "  model = cd_fast.enet_coordinate_descent(\n",
            "/usr/local/lib/python3.9/dist-packages/sklearn/linear_model/_coordinate_descent.py:631: ConvergenceWarning: Objective did not converge. You might want to increase the number of iterations, check the scale of the features or consider increasing regularisation. Duality gap: 1.297e+05, tolerance: 3.502e+04\n",
            "  model = cd_fast.enet_coordinate_descent(\n",
            "/usr/local/lib/python3.9/dist-packages/sklearn/linear_model/_coordinate_descent.py:631: ConvergenceWarning: Objective did not converge. You might want to increase the number of iterations, check the scale of the features or consider increasing regularisation. Duality gap: 8.796e+06, tolerance: 3.498e+04\n",
            "  model = cd_fast.enet_coordinate_descent(\n",
            "/usr/local/lib/python3.9/dist-packages/sklearn/linear_model/_coordinate_descent.py:631: ConvergenceWarning: Objective did not converge. You might want to increase the number of iterations, check the scale of the features or consider increasing regularisation. Duality gap: 3.001e+06, tolerance: 3.543e+04\n",
            "  model = cd_fast.enet_coordinate_descent(\n",
            "/usr/local/lib/python3.9/dist-packages/sklearn/linear_model/_coordinate_descent.py:631: ConvergenceWarning: Objective did not converge. You might want to increase the number of iterations, check the scale of the features or consider increasing regularisation. Duality gap: 1.170e+07, tolerance: 3.389e+04\n",
            "  model = cd_fast.enet_coordinate_descent(\n",
            "/usr/local/lib/python3.9/dist-packages/sklearn/linear_model/_coordinate_descent.py:631: ConvergenceWarning: Objective did not converge. You might want to increase the number of iterations, check the scale of the features or consider increasing regularisation. Duality gap: 1.775e+06, tolerance: 3.500e+04\n",
            "  model = cd_fast.enet_coordinate_descent(\n",
            "/usr/local/lib/python3.9/dist-packages/sklearn/linear_model/_coordinate_descent.py:631: ConvergenceWarning: Objective did not converge. You might want to increase the number of iterations, check the scale of the features or consider increasing regularisation. Duality gap: 1.211e+07, tolerance: 3.517e+05\n",
            "  model = cd_fast.enet_coordinate_descent(\n",
            "/usr/local/lib/python3.9/dist-packages/sklearn/linear_model/_coordinate_descent.py:631: ConvergenceWarning: Objective did not converge. You might want to increase the number of iterations, check the scale of the features or consider increasing regularisation. Duality gap: 1.473e+06, tolerance: 3.389e+05\n",
            "  model = cd_fast.enet_coordinate_descent(\n",
            "/usr/local/lib/python3.9/dist-packages/sklearn/linear_model/_coordinate_descent.py:631: ConvergenceWarning: Objective did not converge. You might want to increase the number of iterations, check the scale of the features or consider increasing regularisation. Duality gap: 2.427e+06, tolerance: 3.517e+03\n",
            "  model = cd_fast.enet_coordinate_descent(\n",
            "/usr/local/lib/python3.9/dist-packages/sklearn/linear_model/_coordinate_descent.py:631: ConvergenceWarning: Objective did not converge. You might want to increase the number of iterations, check the scale of the features or consider increasing regularisation. Duality gap: 1.209e+04, tolerance: 3.389e+03\n",
            "  model = cd_fast.enet_coordinate_descent(\n",
            "/usr/local/lib/python3.9/dist-packages/sklearn/linear_model/_coordinate_descent.py:631: ConvergenceWarning: Objective did not converge. You might want to increase the number of iterations, check the scale of the features or consider increasing regularisation. Duality gap: 1.100e+07, tolerance: 3.902e+04\n",
            "  model = cd_fast.enet_coordinate_descent(\n"
          ]
        },
        {
          "output_type": "execute_result",
          "data": {
            "text/plain": [
              "GridSearchCV(cv=10, estimator=Lasso(),\n",
              "             param_grid={'alpha': [0.001, 0.01, 0.1, 1, 10],\n",
              "                         'max_iter': [1000, 5000, 10000],\n",
              "                         'selection': ['cyclic', 'random'],\n",
              "                         'tol': [0.0001, 0.001, 0.01]})"
            ],
            "text/html": [
              "<style>#sk-container-id-2 {color: black;background-color: white;}#sk-container-id-2 pre{padding: 0;}#sk-container-id-2 div.sk-toggleable {background-color: white;}#sk-container-id-2 label.sk-toggleable__label {cursor: pointer;display: block;width: 100%;margin-bottom: 0;padding: 0.3em;box-sizing: border-box;text-align: center;}#sk-container-id-2 label.sk-toggleable__label-arrow:before {content: \"▸\";float: left;margin-right: 0.25em;color: #696969;}#sk-container-id-2 label.sk-toggleable__label-arrow:hover:before {color: black;}#sk-container-id-2 div.sk-estimator:hover label.sk-toggleable__label-arrow:before {color: black;}#sk-container-id-2 div.sk-toggleable__content {max-height: 0;max-width: 0;overflow: hidden;text-align: left;background-color: #f0f8ff;}#sk-container-id-2 div.sk-toggleable__content pre {margin: 0.2em;color: black;border-radius: 0.25em;background-color: #f0f8ff;}#sk-container-id-2 input.sk-toggleable__control:checked~div.sk-toggleable__content {max-height: 200px;max-width: 100%;overflow: auto;}#sk-container-id-2 input.sk-toggleable__control:checked~label.sk-toggleable__label-arrow:before {content: \"▾\";}#sk-container-id-2 div.sk-estimator input.sk-toggleable__control:checked~label.sk-toggleable__label {background-color: #d4ebff;}#sk-container-id-2 div.sk-label input.sk-toggleable__control:checked~label.sk-toggleable__label {background-color: #d4ebff;}#sk-container-id-2 input.sk-hidden--visually {border: 0;clip: rect(1px 1px 1px 1px);clip: rect(1px, 1px, 1px, 1px);height: 1px;margin: -1px;overflow: hidden;padding: 0;position: absolute;width: 1px;}#sk-container-id-2 div.sk-estimator {font-family: monospace;background-color: #f0f8ff;border: 1px dotted black;border-radius: 0.25em;box-sizing: border-box;margin-bottom: 0.5em;}#sk-container-id-2 div.sk-estimator:hover {background-color: #d4ebff;}#sk-container-id-2 div.sk-parallel-item::after {content: \"\";width: 100%;border-bottom: 1px solid gray;flex-grow: 1;}#sk-container-id-2 div.sk-label:hover label.sk-toggleable__label {background-color: #d4ebff;}#sk-container-id-2 div.sk-serial::before {content: \"\";position: absolute;border-left: 1px solid gray;box-sizing: border-box;top: 0;bottom: 0;left: 50%;z-index: 0;}#sk-container-id-2 div.sk-serial {display: flex;flex-direction: column;align-items: center;background-color: white;padding-right: 0.2em;padding-left: 0.2em;position: relative;}#sk-container-id-2 div.sk-item {position: relative;z-index: 1;}#sk-container-id-2 div.sk-parallel {display: flex;align-items: stretch;justify-content: center;background-color: white;position: relative;}#sk-container-id-2 div.sk-item::before, #sk-container-id-2 div.sk-parallel-item::before {content: \"\";position: absolute;border-left: 1px solid gray;box-sizing: border-box;top: 0;bottom: 0;left: 50%;z-index: -1;}#sk-container-id-2 div.sk-parallel-item {display: flex;flex-direction: column;z-index: 1;position: relative;background-color: white;}#sk-container-id-2 div.sk-parallel-item:first-child::after {align-self: flex-end;width: 50%;}#sk-container-id-2 div.sk-parallel-item:last-child::after {align-self: flex-start;width: 50%;}#sk-container-id-2 div.sk-parallel-item:only-child::after {width: 0;}#sk-container-id-2 div.sk-dashed-wrapped {border: 1px dashed gray;margin: 0 0.4em 0.5em 0.4em;box-sizing: border-box;padding-bottom: 0.4em;background-color: white;}#sk-container-id-2 div.sk-label label {font-family: monospace;font-weight: bold;display: inline-block;line-height: 1.2em;}#sk-container-id-2 div.sk-label-container {text-align: center;}#sk-container-id-2 div.sk-container {/* jupyter's `normalize.less` sets `[hidden] { display: none; }` but bootstrap.min.css set `[hidden] { display: none !important; }` so we also need the `!important` here to be able to override the default hidden behavior on the sphinx rendered scikit-learn.org. See: https://github.com/scikit-learn/scikit-learn/issues/21755 */display: inline-block !important;position: relative;}#sk-container-id-2 div.sk-text-repr-fallback {display: none;}</style><div id=\"sk-container-id-2\" class=\"sk-top-container\"><div class=\"sk-text-repr-fallback\"><pre>GridSearchCV(cv=10, estimator=Lasso(),\n",
              "             param_grid={&#x27;alpha&#x27;: [0.001, 0.01, 0.1, 1, 10],\n",
              "                         &#x27;max_iter&#x27;: [1000, 5000, 10000],\n",
              "                         &#x27;selection&#x27;: [&#x27;cyclic&#x27;, &#x27;random&#x27;],\n",
              "                         &#x27;tol&#x27;: [0.0001, 0.001, 0.01]})</pre><b>In a Jupyter environment, please rerun this cell to show the HTML representation or trust the notebook. <br />On GitHub, the HTML representation is unable to render, please try loading this page with nbviewer.org.</b></div><div class=\"sk-container\" hidden><div class=\"sk-item sk-dashed-wrapped\"><div class=\"sk-label-container\"><div class=\"sk-label sk-toggleable\"><input class=\"sk-toggleable__control sk-hidden--visually\" id=\"sk-estimator-id-2\" type=\"checkbox\" ><label for=\"sk-estimator-id-2\" class=\"sk-toggleable__label sk-toggleable__label-arrow\">GridSearchCV</label><div class=\"sk-toggleable__content\"><pre>GridSearchCV(cv=10, estimator=Lasso(),\n",
              "             param_grid={&#x27;alpha&#x27;: [0.001, 0.01, 0.1, 1, 10],\n",
              "                         &#x27;max_iter&#x27;: [1000, 5000, 10000],\n",
              "                         &#x27;selection&#x27;: [&#x27;cyclic&#x27;, &#x27;random&#x27;],\n",
              "                         &#x27;tol&#x27;: [0.0001, 0.001, 0.01]})</pre></div></div></div><div class=\"sk-parallel\"><div class=\"sk-parallel-item\"><div class=\"sk-item\"><div class=\"sk-label-container\"><div class=\"sk-label sk-toggleable\"><input class=\"sk-toggleable__control sk-hidden--visually\" id=\"sk-estimator-id-3\" type=\"checkbox\" ><label for=\"sk-estimator-id-3\" class=\"sk-toggleable__label sk-toggleable__label-arrow\">estimator: Lasso</label><div class=\"sk-toggleable__content\"><pre>Lasso()</pre></div></div></div><div class=\"sk-serial\"><div class=\"sk-item\"><div class=\"sk-estimator sk-toggleable\"><input class=\"sk-toggleable__control sk-hidden--visually\" id=\"sk-estimator-id-4\" type=\"checkbox\" ><label for=\"sk-estimator-id-4\" class=\"sk-toggleable__label sk-toggleable__label-arrow\">Lasso</label><div class=\"sk-toggleable__content\"><pre>Lasso()</pre></div></div></div></div></div></div></div></div></div></div>"
            ]
          },
          "metadata": {},
          "execution_count": 164
        }
      ]
    },
    {
      "cell_type": "code",
      "source": [
        "# Print the best parameters found\n",
        "print('Best Parameters:', grid_search.best_params_)"
      ],
      "metadata": {
        "id": "qpDAEqycLCpN",
        "colab": {
          "base_uri": "https://localhost:8080/"
        },
        "outputId": "cefefd65-5575-4195-ee24-850b8fd70ed2"
      },
      "execution_count": 165,
      "outputs": [
        {
          "output_type": "stream",
          "name": "stdout",
          "text": [
            "Best Parameters: {'alpha': 0.001, 'max_iter': 1000, 'selection': 'random', 'tol': 0.001}\n"
          ]
        }
      ]
    },
    {
      "cell_type": "code",
      "source": [
        "# Make predictions using the best model\n",
        "y_pred = grid_search.predict(X_test)\n"
      ],
      "metadata": {
        "id": "vkYS-5l1LCr2"
      },
      "execution_count": 166,
      "outputs": []
    },
    {
      "cell_type": "code",
      "source": [
        "# Compute the mean squared error (MSE), mean absolute error (MAE), and their square roots (RMSE, RMAE)\n",
        "mse = mean_squared_error(y_test, y_pred)\n",
        "rmse = mse ** 0.5\n",
        "mae = mean_absolute_error(y_test, y_pred)\n"
      ],
      "metadata": {
        "id": "IP5BS0T3LCum"
      },
      "execution_count": 167,
      "outputs": []
    },
    {
      "cell_type": "code",
      "source": [
        "print('Mean Squared Error:', mse)\n",
        "print('Root Mean Squared Error:', rmse)\n",
        "print('Mean Absolute Error:', mae)"
      ],
      "metadata": {
        "id": "cj9_oz-vLCxN",
        "colab": {
          "base_uri": "https://localhost:8080/"
        },
        "outputId": "2301580d-7f1b-4e94-f240-f87b51e0ca46"
      },
      "execution_count": 168,
      "outputs": [
        {
          "output_type": "stream",
          "name": "stdout",
          "text": [
            "Mean Squared Error: 36669.85895982583\n",
            "Root Mean Squared Error: 191.49375697349987\n",
            "Mean Absolute Error: 93.69948218684006\n"
          ]
        }
      ]
    },
    {
      "cell_type": "code",
      "source": [],
      "metadata": {
        "id": "Kyl9Hcy8LCz2"
      },
      "execution_count": null,
      "outputs": []
    },
    {
      "cell_type": "code",
      "source": [],
      "metadata": {
        "id": "Guqi68NVLC4P"
      },
      "execution_count": null,
      "outputs": []
    },
    {
      "cell_type": "code",
      "source": [],
      "metadata": {
        "id": "bvXBGCnfRYcZ"
      },
      "execution_count": null,
      "outputs": []
    },
    {
      "cell_type": "code",
      "source": [],
      "metadata": {
        "id": "upMqnDdSRYgp"
      },
      "execution_count": null,
      "outputs": []
    },
    {
      "cell_type": "code",
      "source": [],
      "metadata": {
        "id": "hSGECd0vRYkJ"
      },
      "execution_count": null,
      "outputs": []
    },
    {
      "cell_type": "code",
      "source": [
        "# Split the data into training and testing sets\n",
        "X_train_DNN, X_test_DNN, y_train_DNN, y_test_DNN = train_test_split(X, y, test_size=0.2, random_state=42)"
      ],
      "metadata": {
        "id": "1tdK8EU94_9E"
      },
      "execution_count": 189,
      "outputs": []
    },
    {
      "cell_type": "code",
      "source": [
        "# Define the model\n",
        "model_DNN = Sequential([\n",
        "    Dense(64, activation='relu', input_shape=[X_train_DNN.shape[1]]),\n",
        "    Dense(32, activation='relu'),\n",
        "    Dropout(0.2),\n",
        "    Dense(1)\n",
        "])"
      ],
      "metadata": {
        "id": "vDZ0WdHvP1o6"
      },
      "execution_count": 190,
      "outputs": []
    },
    {
      "cell_type": "code",
      "source": [
        "# Compile the model\n",
        "model_DNN.compile(optimizer='adam', loss='mse', metrics=['mae'])"
      ],
      "metadata": {
        "id": "5CfVATz5P1sI"
      },
      "execution_count": 191,
      "outputs": []
    },
    {
      "cell_type": "code",
      "source": [
        "# Train the model\n",
        "history = model_DNN.fit(X_train_DNN, y_train_DNN, epochs=50, batch_size=32, validation_split=0.2)"
      ],
      "metadata": {
        "colab": {
          "base_uri": "https://localhost:8080/"
        },
        "id": "PlsQ6ht_P10w",
        "outputId": "c4f11117-997e-46be-a466-202a6c803300"
      },
      "execution_count": 192,
      "outputs": [
        {
          "output_type": "stream",
          "name": "stdout",
          "text": [
            "Epoch 1/50\n",
            "60/60 [==============================] - 1s 5ms/step - loss: 62792.6445 - mae: 185.4000 - val_loss: 20392.2441 - val_mae: 109.2400\n",
            "Epoch 2/50\n",
            "60/60 [==============================] - 0s 3ms/step - loss: 28259.7539 - mae: 128.9646 - val_loss: 20176.6113 - val_mae: 102.0436\n",
            "Epoch 3/50\n",
            "60/60 [==============================] - 0s 3ms/step - loss: 24857.0820 - mae: 119.8150 - val_loss: 18890.1797 - val_mae: 102.3080\n",
            "Epoch 4/50\n",
            "60/60 [==============================] - 0s 3ms/step - loss: 24579.5156 - mae: 118.7704 - val_loss: 19101.5195 - val_mae: 101.7523\n",
            "Epoch 5/50\n",
            "60/60 [==============================] - 0s 3ms/step - loss: 22976.0039 - mae: 115.6413 - val_loss: 18659.5586 - val_mae: 100.9188\n",
            "Epoch 6/50\n",
            "60/60 [==============================] - 0s 6ms/step - loss: 23786.7598 - mae: 117.1157 - val_loss: 18856.8203 - val_mae: 102.5273\n",
            "Epoch 7/50\n",
            "60/60 [==============================] - 0s 8ms/step - loss: 23509.4766 - mae: 119.2188 - val_loss: 18263.3301 - val_mae: 98.6006\n",
            "Epoch 8/50\n",
            "60/60 [==============================] - 0s 5ms/step - loss: 23176.3672 - mae: 118.6335 - val_loss: 19832.8926 - val_mae: 100.6327\n",
            "Epoch 9/50\n",
            "60/60 [==============================] - 0s 6ms/step - loss: 22619.5195 - mae: 115.2538 - val_loss: 18373.2617 - val_mae: 100.2612\n",
            "Epoch 10/50\n",
            "60/60 [==============================] - 0s 5ms/step - loss: 22512.0742 - mae: 114.9820 - val_loss: 18087.8594 - val_mae: 99.6174\n",
            "Epoch 11/50\n",
            "60/60 [==============================] - 1s 9ms/step - loss: 22327.9355 - mae: 115.7813 - val_loss: 17983.6602 - val_mae: 99.0897\n",
            "Epoch 12/50\n",
            "60/60 [==============================] - 1s 9ms/step - loss: 22041.8867 - mae: 114.3999 - val_loss: 17744.1504 - val_mae: 98.9811\n",
            "Epoch 13/50\n",
            "60/60 [==============================] - 0s 4ms/step - loss: 22246.3906 - mae: 115.8237 - val_loss: 17760.5566 - val_mae: 98.8779\n",
            "Epoch 14/50\n",
            "60/60 [==============================] - 0s 2ms/step - loss: 21950.2051 - mae: 114.2914 - val_loss: 17836.8262 - val_mae: 98.4627\n",
            "Epoch 15/50\n",
            "60/60 [==============================] - 0s 4ms/step - loss: 22395.6406 - mae: 116.0647 - val_loss: 17917.8359 - val_mae: 100.0047\n",
            "Epoch 16/50\n",
            "60/60 [==============================] - 0s 4ms/step - loss: 21449.0488 - mae: 112.3745 - val_loss: 17610.5137 - val_mae: 98.5595\n",
            "Epoch 17/50\n",
            "60/60 [==============================] - 0s 5ms/step - loss: 21717.9082 - mae: 114.8881 - val_loss: 18312.7500 - val_mae: 98.0368\n",
            "Epoch 18/50\n",
            "60/60 [==============================] - 0s 3ms/step - loss: 22173.8320 - mae: 116.4317 - val_loss: 18989.0918 - val_mae: 106.5831\n",
            "Epoch 19/50\n",
            "60/60 [==============================] - 0s 2ms/step - loss: 22055.5176 - mae: 114.4764 - val_loss: 17642.4766 - val_mae: 98.9102\n",
            "Epoch 20/50\n",
            "60/60 [==============================] - 0s 2ms/step - loss: 21711.7305 - mae: 113.8222 - val_loss: 17465.9434 - val_mae: 98.5915\n",
            "Epoch 21/50\n",
            "60/60 [==============================] - 0s 3ms/step - loss: 21163.7207 - mae: 114.2234 - val_loss: 17489.0020 - val_mae: 97.6577\n",
            "Epoch 22/50\n",
            "60/60 [==============================] - 0s 2ms/step - loss: 20972.7031 - mae: 113.3195 - val_loss: 18158.7656 - val_mae: 102.9124\n",
            "Epoch 23/50\n",
            "60/60 [==============================] - 0s 3ms/step - loss: 21492.4238 - mae: 113.2573 - val_loss: 19546.6191 - val_mae: 108.9197\n",
            "Epoch 24/50\n",
            "60/60 [==============================] - 0s 2ms/step - loss: 22825.5391 - mae: 117.2951 - val_loss: 17626.9199 - val_mae: 97.5886\n",
            "Epoch 25/50\n",
            "60/60 [==============================] - 0s 3ms/step - loss: 20895.4336 - mae: 112.2893 - val_loss: 17453.5859 - val_mae: 98.4964\n",
            "Epoch 26/50\n",
            "60/60 [==============================] - 0s 3ms/step - loss: 21893.1504 - mae: 115.0484 - val_loss: 17387.7734 - val_mae: 99.6499\n",
            "Epoch 27/50\n",
            "60/60 [==============================] - 0s 3ms/step - loss: 20989.8145 - mae: 112.4880 - val_loss: 17341.6445 - val_mae: 98.5641\n",
            "Epoch 28/50\n",
            "60/60 [==============================] - 0s 3ms/step - loss: 20998.2715 - mae: 112.9305 - val_loss: 17174.5449 - val_mae: 98.5006\n",
            "Epoch 29/50\n",
            "60/60 [==============================] - 0s 5ms/step - loss: 21461.1992 - mae: 114.5396 - val_loss: 17559.0000 - val_mae: 100.5070\n",
            "Epoch 30/50\n",
            "60/60 [==============================] - 0s 5ms/step - loss: 21190.4395 - mae: 112.5989 - val_loss: 17350.4082 - val_mae: 98.3389\n",
            "Epoch 31/50\n",
            "60/60 [==============================] - 0s 5ms/step - loss: 20634.3047 - mae: 110.6582 - val_loss: 17374.6543 - val_mae: 96.9048\n",
            "Epoch 32/50\n",
            "60/60 [==============================] - 0s 5ms/step - loss: 22159.0488 - mae: 116.7268 - val_loss: 17065.2871 - val_mae: 97.8521\n",
            "Epoch 33/50\n",
            "60/60 [==============================] - 0s 3ms/step - loss: 21686.8125 - mae: 114.6213 - val_loss: 17423.0273 - val_mae: 96.7901\n",
            "Epoch 34/50\n",
            "60/60 [==============================] - 0s 3ms/step - loss: 21729.6934 - mae: 114.8983 - val_loss: 18091.3008 - val_mae: 103.3957\n",
            "Epoch 35/50\n",
            "60/60 [==============================] - 0s 3ms/step - loss: 20317.6816 - mae: 111.4004 - val_loss: 17410.4258 - val_mae: 99.7301\n",
            "Epoch 36/50\n",
            "60/60 [==============================] - 0s 3ms/step - loss: 20980.7910 - mae: 112.8862 - val_loss: 18214.2988 - val_mae: 104.0366\n",
            "Epoch 37/50\n",
            "60/60 [==============================] - 0s 3ms/step - loss: 20517.3242 - mae: 111.6167 - val_loss: 17522.6113 - val_mae: 97.3885\n",
            "Epoch 38/50\n",
            "60/60 [==============================] - 0s 3ms/step - loss: 21032.7246 - mae: 113.1439 - val_loss: 17477.0469 - val_mae: 100.3606\n",
            "Epoch 39/50\n",
            "60/60 [==============================] - 0s 3ms/step - loss: 19586.9609 - mae: 107.0673 - val_loss: 17074.0742 - val_mae: 95.9207\n",
            "Epoch 40/50\n",
            "60/60 [==============================] - 0s 3ms/step - loss: 20516.7129 - mae: 111.7321 - val_loss: 16741.3184 - val_mae: 97.4771\n",
            "Epoch 41/50\n",
            "60/60 [==============================] - 0s 4ms/step - loss: 20480.2734 - mae: 111.3919 - val_loss: 17605.5430 - val_mae: 96.6549\n",
            "Epoch 42/50\n",
            "60/60 [==============================] - 0s 4ms/step - loss: 20495.6738 - mae: 112.0422 - val_loss: 17478.3164 - val_mae: 96.3893\n",
            "Epoch 43/50\n",
            "60/60 [==============================] - 0s 4ms/step - loss: 21490.7383 - mae: 113.2882 - val_loss: 17727.3184 - val_mae: 97.2483\n",
            "Epoch 44/50\n",
            "60/60 [==============================] - 0s 4ms/step - loss: 20242.6328 - mae: 109.8975 - val_loss: 16772.8164 - val_mae: 97.5259\n",
            "Epoch 45/50\n",
            "60/60 [==============================] - 0s 5ms/step - loss: 20597.7676 - mae: 113.2743 - val_loss: 16778.0840 - val_mae: 95.4360\n",
            "Epoch 46/50\n",
            "60/60 [==============================] - 0s 4ms/step - loss: 19742.9629 - mae: 109.0036 - val_loss: 16567.3496 - val_mae: 96.5101\n",
            "Epoch 47/50\n",
            "60/60 [==============================] - 0s 3ms/step - loss: 20212.1094 - mae: 111.3914 - val_loss: 16672.5840 - val_mae: 94.7900\n",
            "Epoch 48/50\n",
            "60/60 [==============================] - 0s 3ms/step - loss: 19593.4902 - mae: 109.1711 - val_loss: 16570.0332 - val_mae: 95.2977\n",
            "Epoch 49/50\n",
            "60/60 [==============================] - 0s 4ms/step - loss: 19956.5215 - mae: 110.4105 - val_loss: 16170.6182 - val_mae: 94.4179\n",
            "Epoch 50/50\n",
            "60/60 [==============================] - 0s 5ms/step - loss: 19510.5977 - mae: 108.9265 - val_loss: 16248.8330 - val_mae: 95.3136\n"
          ]
        }
      ]
    },
    {
      "cell_type": "code",
      "source": [
        "# Use the trained DNN model to predict on the test set\n",
        "y_pred = model_DNN.predict(X_test_DNN)"
      ],
      "metadata": {
        "colab": {
          "base_uri": "https://localhost:8080/"
        },
        "id": "WWwAp-e1P13J",
        "outputId": "90855338-0e32-448b-ed84-dfc9acc83a9b"
      },
      "execution_count": 196,
      "outputs": [
        {
          "output_type": "stream",
          "name": "stdout",
          "text": [
            "19/19 [==============================] - 0s 1ms/step\n"
          ]
        }
      ]
    },
    {
      "cell_type": "code",
      "source": [
        "# Calculate Mean Squared Error\n",
        "mse = mean_squared_error(y_test, y_pred)"
      ],
      "metadata": {
        "id": "BfRMq4B9QgF7"
      },
      "execution_count": 197,
      "outputs": []
    },
    {
      "cell_type": "code",
      "source": [
        "# Calculate Root Mean Squared Error\n",
        "rmse = np.sqrt(mse)"
      ],
      "metadata": {
        "id": "tslm5sMrP15y"
      },
      "execution_count": 198,
      "outputs": []
    },
    {
      "cell_type": "code",
      "source": [
        "# Calculate Mean Absolute Error\n",
        "mae = mean_absolute_error(y_test, y_pred)"
      ],
      "metadata": {
        "id": "dvY3tARIP176"
      },
      "execution_count": 199,
      "outputs": []
    },
    {
      "cell_type": "code",
      "source": [
        "# Print the evaluation metrics\n",
        "print(\"Mean Squared Error: {:.4f}\".format(mse))\n",
        "print(\"Root Mean Squared Error: {:.4f}\".format(rmse))\n",
        "print(\"Mean Absolute Error: {:.4f}\".format(mae))"
      ],
      "metadata": {
        "colab": {
          "base_uri": "https://localhost:8080/"
        },
        "id": "puAHbRNcQwc2",
        "outputId": "bf58dc92-d86f-4680-9c05-05f85453dae9"
      },
      "execution_count": 200,
      "outputs": [
        {
          "output_type": "stream",
          "name": "stdout",
          "text": [
            "Mean Squared Error: 19514.6697\n",
            "Root Mean Squared Error: 139.6949\n",
            "Mean Absolute Error: 94.9869\n"
          ]
        }
      ]
    },
    {
      "cell_type": "code",
      "source": [],
      "metadata": {
        "id": "uHwsA74lQwgW"
      },
      "execution_count": null,
      "outputs": []
    },
    {
      "cell_type": "code",
      "source": [],
      "metadata": {
        "id": "DhOYsAwjRVcL"
      },
      "execution_count": null,
      "outputs": []
    },
    {
      "cell_type": "code",
      "source": [
        "#TUNER INSTEAD OF GRID_SEARRCH"
      ],
      "metadata": {
        "id": "Fv1lVQdyRVjJ"
      },
      "execution_count": null,
      "outputs": []
    },
    {
      "cell_type": "code",
      "source": [],
      "metadata": {
        "id": "-Nyjra2jRVpJ"
      },
      "execution_count": null,
      "outputs": []
    },
    {
      "cell_type": "code",
      "source": [],
      "metadata": {
        "id": "PzO10UmYRVuZ"
      },
      "execution_count": null,
      "outputs": []
    },
    {
      "cell_type": "code",
      "source": [],
      "metadata": {
        "id": "dec9L6SPRVzq"
      },
      "execution_count": null,
      "outputs": []
    },
    {
      "cell_type": "code",
      "source": [],
      "metadata": {
        "id": "dZWyyq_9RV4L"
      },
      "execution_count": null,
      "outputs": []
    },
    {
      "cell_type": "code",
      "source": [],
      "metadata": {
        "id": "PGMa-utlRV9J"
      },
      "execution_count": null,
      "outputs": []
    },
    {
      "cell_type": "code",
      "source": [],
      "metadata": {
        "id": "IjwMn2gjRWBa"
      },
      "execution_count": null,
      "outputs": []
    },
    {
      "cell_type": "code",
      "source": [],
      "metadata": {
        "id": "a1FPloNTRWFt"
      },
      "execution_count": null,
      "outputs": []
    },
    {
      "cell_type": "code",
      "source": [],
      "metadata": {
        "id": "lTrVytgGRWJJ"
      },
      "execution_count": null,
      "outputs": []
    },
    {
      "cell_type": "code",
      "source": [],
      "metadata": {
        "id": "4gx6PHx1RWN6"
      },
      "execution_count": null,
      "outputs": []
    },
    {
      "cell_type": "code",
      "source": [],
      "metadata": {
        "id": "F10WKqjVRWSB"
      },
      "execution_count": null,
      "outputs": []
    },
    {
      "cell_type": "code",
      "source": [],
      "metadata": {
        "id": "6rGnMentQwrd"
      },
      "execution_count": null,
      "outputs": []
    }
  ]
}