{
  "nbformat": 4,
  "nbformat_minor": 0,
  "metadata": {
    "colab": {
      "provenance": [],
      "authorship_tag": "ABX9TyPZTyJUrYQ3bEMlfp/rCvTj",
      "include_colab_link": true
    },
    "kernelspec": {
      "name": "python3",
      "display_name": "Python 3"
    },
    "language_info": {
      "name": "python"
    }
  },
  "cells": [
    {
      "cell_type": "markdown",
      "metadata": {
        "id": "view-in-github",
        "colab_type": "text"
      },
      "source": [
        "<a href=\"https://colab.research.google.com/github/CL500Coupe/data_analytics_assi1/blob/main/assi2.ipynb\" target=\"_parent\"><img src=\"https://colab.research.google.com/assets/colab-badge.svg\" alt=\"Open In Colab\"/></a>"
      ]
    },
    {
      "cell_type": "markdown",
      "source": [
        "**imports**"
      ],
      "metadata": {
        "id": "MWLj7Gc4O32T"
      }
    },
    {
      "cell_type": "code",
      "execution_count": 67,
      "metadata": {
        "id": "kPMNbxOC4Ql9",
        "colab": {
          "base_uri": "https://localhost:8080/"
        },
        "outputId": "981dd005-66b1-45a3-9030-0f66a19ac564"
      },
      "outputs": [
        {
          "output_type": "stream",
          "name": "stdout",
          "text": [
            "Looking in indexes: https://pypi.org/simple, https://us-python.pkg.dev/colab-wheels/public/simple/\n",
            "Requirement already satisfied: keras-tuner in /usr/local/lib/python3.9/dist-packages (1.3.5)\n",
            "Requirement already satisfied: kt-legacy in /usr/local/lib/python3.9/dist-packages (from keras-tuner) (1.0.5)\n",
            "Requirement already satisfied: packaging in /usr/local/lib/python3.9/dist-packages (from keras-tuner) (23.1)\n",
            "Requirement already satisfied: requests in /usr/local/lib/python3.9/dist-packages (from keras-tuner) (2.27.1)\n",
            "Requirement already satisfied: idna<4,>=2.5 in /usr/local/lib/python3.9/dist-packages (from requests->keras-tuner) (3.4)\n",
            "Requirement already satisfied: charset-normalizer~=2.0.0 in /usr/local/lib/python3.9/dist-packages (from requests->keras-tuner) (2.0.12)\n",
            "Requirement already satisfied: urllib3<1.27,>=1.21.1 in /usr/local/lib/python3.9/dist-packages (from requests->keras-tuner) (1.26.15)\n",
            "Requirement already satisfied: certifi>=2017.4.17 in /usr/local/lib/python3.9/dist-packages (from requests->keras-tuner) (2022.12.7)\n"
          ]
        }
      ],
      "source": [
        "import sys\n",
        "import os\n",
        "import pandas as pd\n",
        "import seaborn as sns\n",
        "import pickle\n",
        "import time\n",
        "import numpy as np\n",
        "import tensorflow as tf\n",
        "from tensorflow.keras.models import Sequential\n",
        "from tensorflow.keras.layers import Dense, Dropout\n",
        "from keras.models import Sequential\n",
        "from keras.layers import Dense\n",
        "from sklearn.model_selection import train_test_split\n",
        "from sklearn.preprocessing import StandardScaler\n",
        "from sklearn.ensemble import RandomForestClassifier\n",
        "from sklearn.metrics import classification_report, confusion_matrix, accuracy_score\n",
        "from sklearn.metrics import mean_squared_error, mean_absolute_error, r2_score\n",
        "import matplotlib.pyplot as plt\n",
        "from sklearn.linear_model import LinearRegression\n",
        "from sklearn.metrics import mean_squared_error, mean_absolute_error, r2_score\n",
        "from sklearn.model_selection import cross_val_score\n",
        "from sklearn.linear_model import Lasso\n",
        "from sklearn.model_selection import GridSearchCV\n",
        "!pip install -U keras-tuner\n",
        "from tensorflow import keras\n",
        "from tensorflow.keras import layers\n",
        "from kerastuner.tuners import RandomSearch\n",
        "from sklearn.metrics import accuracy_score"
      ]
    },
    {
      "cell_type": "markdown",
      "source": [
        "**final pre-processing in order to work with models**"
      ],
      "metadata": {
        "id": "7xFe9-FcO727"
      }
    },
    {
      "cell_type": "code",
      "source": [
        "url = \"https://raw.githubusercontent.com/CL500Coupe/data_analytics_assi1/main/data/final_data.csv\"\n",
        "data = pd.read_csv(url)"
      ],
      "metadata": {
        "id": "RtChQHgH4TCe"
      },
      "execution_count": 35,
      "outputs": []
    },
    {
      "cell_type": "code",
      "source": [
        "# Convert the 'collision_date' column to datetime format\n",
        "data['collision_date'] = pd.to_datetime(data['collision_date'])\n",
        "\n",
        "# Set the 'collision_date' column as the index\n",
        "data = data.set_index('collision_date')"
      ],
      "metadata": {
        "id": "vzk1iWVuBG9S"
      },
      "execution_count": 36,
      "outputs": []
    },
    {
      "cell_type": "code",
      "source": [
        "# List of columns with NA values to fill with mean values of the last 7 available days\n",
        "columns_with_na_7 = [\n",
        "    \"visib_7day_ma\",\n",
        "    \"wdsp_7day_ma\",\n",
        "    \"co2_7day_ma\",\n",
        "    \"so2_7day_ma\",\n",
        "    \"pressure_7day_ma\",\n",
        "    \"temp_7day_ma\",\n",
        "    \"wind_7day_ma\",\n",
        "]\n",
        "\n",
        "# List of columns with NA values to fill with mean values of the last 30 available days\n",
        "columns_with_na_30 = [\n",
        "    \"visib_30day_ma\",\n",
        "    \"wdsp_30day_ma\",\n",
        "    \"co2_30day_ma\",\n",
        "    \"so2_30day_ma\",\n",
        "    \"pressure_30day_ma\",\n",
        "    \"temp_30day_ma\",\n",
        "    \"wind_30day_ma\",\n",
        "]\n",
        "\n",
        "# Fill NA values with the mean values of the first 7 available days\n",
        "for col in columns_with_na_7:\n",
        "    first_valid_index = data[col].first_valid_index()\n",
        "    mean_value = data.loc[first_valid_index:first_valid_index + pd.Timedelta(days=6), col].mean()\n",
        "    data[col] = data[col].fillna(mean_value, limit=6)\n",
        "\n",
        "# Fill NA values with the mean values of the first 30 available days\n",
        "for col in columns_with_na_30:\n",
        "    first_valid_index = data[col].first_valid_index()\n",
        "    mean_value = data.loc[first_valid_index:first_valid_index + pd.Timedelta(days=29), col].mean()\n",
        "    data[col] = data[col].fillna(mean_value, limit=29)\n",
        "\n",
        "# Display the updated DataFrame\n",
        "print(data.head())\n",
        "\n"
      ],
      "metadata": {
        "colab": {
          "base_uri": "https://localhost:8080/"
        },
        "id": "fq4ZYcZpDUJT",
        "outputId": "a7a3560c-2879-4694-936a-754bdbc37233"
      },
      "execution_count": 37,
      "outputs": [
        {
          "output_type": "stream",
          "name": "stdout",
          "text": [
            "                day  year  mo  temp  dewp     slp  visib  wdsp  mxpsd  gust  \\\n",
            "collision_date                                                                \n",
            "2012-07-01        7  2012   7  83.6  63.0  1008.9    9.7   4.1    9.9  18.1   \n",
            "2012-07-02        1  2012   7  80.3  54.1  1011.6   10.0   3.8   15.0  18.1   \n",
            "2012-07-03        2  2012   7  79.8  56.7  1012.8   10.0   2.9   12.0  18.1   \n",
            "2012-07-04        3  2012   7  81.8  65.6  1009.1    9.2   3.6   11.1  18.1   \n",
            "2012-07-05        4  2012   7  86.7  64.3  1007.4    9.4   3.8   15.0  18.1   \n",
            "\n",
            "                ...  co2_30day_ma  so2_30day_ma  pressure_30day_ma  \\\n",
            "collision_date  ...                                                  \n",
            "2012-07-01      ...     15.031652      1.210648         917.765355   \n",
            "2012-07-02      ...     15.031652      1.210648         917.765355   \n",
            "2012-07-03      ...     15.031652      1.210648         917.765355   \n",
            "2012-07-04      ...     15.031652      1.210648         917.765355   \n",
            "2012-07-05      ...     15.031652      1.210648         917.765355   \n",
            "\n",
            "                temp_30day_ma  wind_30day_ma  temp_visib_interaction  \\\n",
            "collision_date                                                         \n",
            "2012-07-01             76.092      93.001803                  810.92   \n",
            "2012-07-02             76.092      93.001803                  803.00   \n",
            "2012-07-03             76.092      93.001803                  798.00   \n",
            "2012-07-04             76.092      93.001803                  752.56   \n",
            "2012-07-05             76.092      93.001803                  814.98   \n",
            "\n",
            "                wdsp_visib_interaction  prcp_temp_interaction  \\\n",
            "collision_date                                                  \n",
            "2012-07-01                       39.77                  0.000   \n",
            "2012-07-02                       38.00                  0.000   \n",
            "2012-07-03                       29.00                  0.000   \n",
            "2012-07-04                       33.12                  4.908   \n",
            "2012-07-05                       35.72               8669.133   \n",
            "\n",
            "                temp_season_interaction  wdsp_wind_interaction  \n",
            "collision_date                                                  \n",
            "2012-07-01                        167.2             553.145520  \n",
            "2012-07-02                        160.6             545.418750  \n",
            "2012-07-03                        159.6             362.080104  \n",
            "2012-07-04                        163.6             453.314999  \n",
            "2012-07-05                        173.4             479.916250  \n",
            "\n",
            "[5 rows x 39 columns]\n"
          ]
        }
      ]
    },
    {
      "cell_type": "code",
      "source": [
        "data.shape\n"
      ],
      "metadata": {
        "colab": {
          "base_uri": "https://localhost:8080/"
        },
        "id": "L6YvImFn4-3N",
        "outputId": "0afec263-f979-4a04-e00d-18ff3b6a58e4"
      },
      "execution_count": 38,
      "outputs": [
        {
          "output_type": "execute_result",
          "data": {
            "text/plain": [
              "(2969, 39)"
            ]
          },
          "metadata": {},
          "execution_count": 38
        }
      ]
    },
    {
      "cell_type": "code",
      "source": [
        "data.head()"
      ],
      "metadata": {
        "colab": {
          "base_uri": "https://localhost:8080/",
          "height": 331
        },
        "id": "xEor5WhJ4-7F",
        "outputId": "3c7e1fce-e90c-4350-d08e-a9ce726f34aa"
      },
      "execution_count": 39,
      "outputs": [
        {
          "output_type": "execute_result",
          "data": {
            "text/plain": [
              "                day  year  mo  temp  dewp     slp  visib  wdsp  mxpsd  gust  \\\n",
              "collision_date                                                                \n",
              "2012-07-01        7  2012   7  83.6  63.0  1008.9    9.7   4.1    9.9  18.1   \n",
              "2012-07-02        1  2012   7  80.3  54.1  1011.6   10.0   3.8   15.0  18.1   \n",
              "2012-07-03        2  2012   7  79.8  56.7  1012.8   10.0   2.9   12.0  18.1   \n",
              "2012-07-04        3  2012   7  81.8  65.6  1009.1    9.2   3.6   11.1  18.1   \n",
              "2012-07-05        4  2012   7  86.7  64.3  1007.4    9.4   3.8   15.0  18.1   \n",
              "\n",
              "                ...  co2_30day_ma  so2_30day_ma  pressure_30day_ma  \\\n",
              "collision_date  ...                                                  \n",
              "2012-07-01      ...     15.031652      1.210648         917.765355   \n",
              "2012-07-02      ...     15.031652      1.210648         917.765355   \n",
              "2012-07-03      ...     15.031652      1.210648         917.765355   \n",
              "2012-07-04      ...     15.031652      1.210648         917.765355   \n",
              "2012-07-05      ...     15.031652      1.210648         917.765355   \n",
              "\n",
              "                temp_30day_ma  wind_30day_ma  temp_visib_interaction  \\\n",
              "collision_date                                                         \n",
              "2012-07-01             76.092      93.001803                  810.92   \n",
              "2012-07-02             76.092      93.001803                  803.00   \n",
              "2012-07-03             76.092      93.001803                  798.00   \n",
              "2012-07-04             76.092      93.001803                  752.56   \n",
              "2012-07-05             76.092      93.001803                  814.98   \n",
              "\n",
              "                wdsp_visib_interaction  prcp_temp_interaction  \\\n",
              "collision_date                                                  \n",
              "2012-07-01                       39.77                  0.000   \n",
              "2012-07-02                       38.00                  0.000   \n",
              "2012-07-03                       29.00                  0.000   \n",
              "2012-07-04                       33.12                  4.908   \n",
              "2012-07-05                       35.72               8669.133   \n",
              "\n",
              "                temp_season_interaction  wdsp_wind_interaction  \n",
              "collision_date                                                  \n",
              "2012-07-01                        167.2             553.145520  \n",
              "2012-07-02                        160.6             545.418750  \n",
              "2012-07-03                        159.6             362.080104  \n",
              "2012-07-04                        163.6             453.314999  \n",
              "2012-07-05                        173.4             479.916250  \n",
              "\n",
              "[5 rows x 39 columns]"
            ],
            "text/html": [
              "\n",
              "  <div id=\"df-005ad469-912d-4f25-af3d-be1cab5b5319\">\n",
              "    <div class=\"colab-df-container\">\n",
              "      <div>\n",
              "<style scoped>\n",
              "    .dataframe tbody tr th:only-of-type {\n",
              "        vertical-align: middle;\n",
              "    }\n",
              "\n",
              "    .dataframe tbody tr th {\n",
              "        vertical-align: top;\n",
              "    }\n",
              "\n",
              "    .dataframe thead th {\n",
              "        text-align: right;\n",
              "    }\n",
              "</style>\n",
              "<table border=\"1\" class=\"dataframe\">\n",
              "  <thead>\n",
              "    <tr style=\"text-align: right;\">\n",
              "      <th></th>\n",
              "      <th>day</th>\n",
              "      <th>year</th>\n",
              "      <th>mo</th>\n",
              "      <th>temp</th>\n",
              "      <th>dewp</th>\n",
              "      <th>slp</th>\n",
              "      <th>visib</th>\n",
              "      <th>wdsp</th>\n",
              "      <th>mxpsd</th>\n",
              "      <th>gust</th>\n",
              "      <th>...</th>\n",
              "      <th>co2_30day_ma</th>\n",
              "      <th>so2_30day_ma</th>\n",
              "      <th>pressure_30day_ma</th>\n",
              "      <th>temp_30day_ma</th>\n",
              "      <th>wind_30day_ma</th>\n",
              "      <th>temp_visib_interaction</th>\n",
              "      <th>wdsp_visib_interaction</th>\n",
              "      <th>prcp_temp_interaction</th>\n",
              "      <th>temp_season_interaction</th>\n",
              "      <th>wdsp_wind_interaction</th>\n",
              "    </tr>\n",
              "    <tr>\n",
              "      <th>collision_date</th>\n",
              "      <th></th>\n",
              "      <th></th>\n",
              "      <th></th>\n",
              "      <th></th>\n",
              "      <th></th>\n",
              "      <th></th>\n",
              "      <th></th>\n",
              "      <th></th>\n",
              "      <th></th>\n",
              "      <th></th>\n",
              "      <th></th>\n",
              "      <th></th>\n",
              "      <th></th>\n",
              "      <th></th>\n",
              "      <th></th>\n",
              "      <th></th>\n",
              "      <th></th>\n",
              "      <th></th>\n",
              "      <th></th>\n",
              "      <th></th>\n",
              "      <th></th>\n",
              "    </tr>\n",
              "  </thead>\n",
              "  <tbody>\n",
              "    <tr>\n",
              "      <th>2012-07-01</th>\n",
              "      <td>7</td>\n",
              "      <td>2012</td>\n",
              "      <td>7</td>\n",
              "      <td>83.6</td>\n",
              "      <td>63.0</td>\n",
              "      <td>1008.9</td>\n",
              "      <td>9.7</td>\n",
              "      <td>4.1</td>\n",
              "      <td>9.9</td>\n",
              "      <td>18.1</td>\n",
              "      <td>...</td>\n",
              "      <td>15.031652</td>\n",
              "      <td>1.210648</td>\n",
              "      <td>917.765355</td>\n",
              "      <td>76.092</td>\n",
              "      <td>93.001803</td>\n",
              "      <td>810.92</td>\n",
              "      <td>39.77</td>\n",
              "      <td>0.000</td>\n",
              "      <td>167.2</td>\n",
              "      <td>553.145520</td>\n",
              "    </tr>\n",
              "    <tr>\n",
              "      <th>2012-07-02</th>\n",
              "      <td>1</td>\n",
              "      <td>2012</td>\n",
              "      <td>7</td>\n",
              "      <td>80.3</td>\n",
              "      <td>54.1</td>\n",
              "      <td>1011.6</td>\n",
              "      <td>10.0</td>\n",
              "      <td>3.8</td>\n",
              "      <td>15.0</td>\n",
              "      <td>18.1</td>\n",
              "      <td>...</td>\n",
              "      <td>15.031652</td>\n",
              "      <td>1.210648</td>\n",
              "      <td>917.765355</td>\n",
              "      <td>76.092</td>\n",
              "      <td>93.001803</td>\n",
              "      <td>803.00</td>\n",
              "      <td>38.00</td>\n",
              "      <td>0.000</td>\n",
              "      <td>160.6</td>\n",
              "      <td>545.418750</td>\n",
              "    </tr>\n",
              "    <tr>\n",
              "      <th>2012-07-03</th>\n",
              "      <td>2</td>\n",
              "      <td>2012</td>\n",
              "      <td>7</td>\n",
              "      <td>79.8</td>\n",
              "      <td>56.7</td>\n",
              "      <td>1012.8</td>\n",
              "      <td>10.0</td>\n",
              "      <td>2.9</td>\n",
              "      <td>12.0</td>\n",
              "      <td>18.1</td>\n",
              "      <td>...</td>\n",
              "      <td>15.031652</td>\n",
              "      <td>1.210648</td>\n",
              "      <td>917.765355</td>\n",
              "      <td>76.092</td>\n",
              "      <td>93.001803</td>\n",
              "      <td>798.00</td>\n",
              "      <td>29.00</td>\n",
              "      <td>0.000</td>\n",
              "      <td>159.6</td>\n",
              "      <td>362.080104</td>\n",
              "    </tr>\n",
              "    <tr>\n",
              "      <th>2012-07-04</th>\n",
              "      <td>3</td>\n",
              "      <td>2012</td>\n",
              "      <td>7</td>\n",
              "      <td>81.8</td>\n",
              "      <td>65.6</td>\n",
              "      <td>1009.1</td>\n",
              "      <td>9.2</td>\n",
              "      <td>3.6</td>\n",
              "      <td>11.1</td>\n",
              "      <td>18.1</td>\n",
              "      <td>...</td>\n",
              "      <td>15.031652</td>\n",
              "      <td>1.210648</td>\n",
              "      <td>917.765355</td>\n",
              "      <td>76.092</td>\n",
              "      <td>93.001803</td>\n",
              "      <td>752.56</td>\n",
              "      <td>33.12</td>\n",
              "      <td>4.908</td>\n",
              "      <td>163.6</td>\n",
              "      <td>453.314999</td>\n",
              "    </tr>\n",
              "    <tr>\n",
              "      <th>2012-07-05</th>\n",
              "      <td>4</td>\n",
              "      <td>2012</td>\n",
              "      <td>7</td>\n",
              "      <td>86.7</td>\n",
              "      <td>64.3</td>\n",
              "      <td>1007.4</td>\n",
              "      <td>9.4</td>\n",
              "      <td>3.8</td>\n",
              "      <td>15.0</td>\n",
              "      <td>18.1</td>\n",
              "      <td>...</td>\n",
              "      <td>15.031652</td>\n",
              "      <td>1.210648</td>\n",
              "      <td>917.765355</td>\n",
              "      <td>76.092</td>\n",
              "      <td>93.001803</td>\n",
              "      <td>814.98</td>\n",
              "      <td>35.72</td>\n",
              "      <td>8669.133</td>\n",
              "      <td>173.4</td>\n",
              "      <td>479.916250</td>\n",
              "    </tr>\n",
              "  </tbody>\n",
              "</table>\n",
              "<p>5 rows × 39 columns</p>\n",
              "</div>\n",
              "      <button class=\"colab-df-convert\" onclick=\"convertToInteractive('df-005ad469-912d-4f25-af3d-be1cab5b5319')\"\n",
              "              title=\"Convert this dataframe to an interactive table.\"\n",
              "              style=\"display:none;\">\n",
              "        \n",
              "  <svg xmlns=\"http://www.w3.org/2000/svg\" height=\"24px\"viewBox=\"0 0 24 24\"\n",
              "       width=\"24px\">\n",
              "    <path d=\"M0 0h24v24H0V0z\" fill=\"none\"/>\n",
              "    <path d=\"M18.56 5.44l.94 2.06.94-2.06 2.06-.94-2.06-.94-.94-2.06-.94 2.06-2.06.94zm-11 1L8.5 8.5l.94-2.06 2.06-.94-2.06-.94L8.5 2.5l-.94 2.06-2.06.94zm10 10l.94 2.06.94-2.06 2.06-.94-2.06-.94-.94-2.06-.94 2.06-2.06.94z\"/><path d=\"M17.41 7.96l-1.37-1.37c-.4-.4-.92-.59-1.43-.59-.52 0-1.04.2-1.43.59L10.3 9.45l-7.72 7.72c-.78.78-.78 2.05 0 2.83L4 21.41c.39.39.9.59 1.41.59.51 0 1.02-.2 1.41-.59l7.78-7.78 2.81-2.81c.8-.78.8-2.07 0-2.86zM5.41 20L4 18.59l7.72-7.72 1.47 1.35L5.41 20z\"/>\n",
              "  </svg>\n",
              "      </button>\n",
              "      \n",
              "  <style>\n",
              "    .colab-df-container {\n",
              "      display:flex;\n",
              "      flex-wrap:wrap;\n",
              "      gap: 12px;\n",
              "    }\n",
              "\n",
              "    .colab-df-convert {\n",
              "      background-color: #E8F0FE;\n",
              "      border: none;\n",
              "      border-radius: 50%;\n",
              "      cursor: pointer;\n",
              "      display: none;\n",
              "      fill: #1967D2;\n",
              "      height: 32px;\n",
              "      padding: 0 0 0 0;\n",
              "      width: 32px;\n",
              "    }\n",
              "\n",
              "    .colab-df-convert:hover {\n",
              "      background-color: #E2EBFA;\n",
              "      box-shadow: 0px 1px 2px rgba(60, 64, 67, 0.3), 0px 1px 3px 1px rgba(60, 64, 67, 0.15);\n",
              "      fill: #174EA6;\n",
              "    }\n",
              "\n",
              "    [theme=dark] .colab-df-convert {\n",
              "      background-color: #3B4455;\n",
              "      fill: #D2E3FC;\n",
              "    }\n",
              "\n",
              "    [theme=dark] .colab-df-convert:hover {\n",
              "      background-color: #434B5C;\n",
              "      box-shadow: 0px 1px 3px 1px rgba(0, 0, 0, 0.15);\n",
              "      filter: drop-shadow(0px 1px 2px rgba(0, 0, 0, 0.3));\n",
              "      fill: #FFFFFF;\n",
              "    }\n",
              "  </style>\n",
              "\n",
              "      <script>\n",
              "        const buttonEl =\n",
              "          document.querySelector('#df-005ad469-912d-4f25-af3d-be1cab5b5319 button.colab-df-convert');\n",
              "        buttonEl.style.display =\n",
              "          google.colab.kernel.accessAllowed ? 'block' : 'none';\n",
              "\n",
              "        async function convertToInteractive(key) {\n",
              "          const element = document.querySelector('#df-005ad469-912d-4f25-af3d-be1cab5b5319');\n",
              "          const dataTable =\n",
              "            await google.colab.kernel.invokeFunction('convertToInteractive',\n",
              "                                                     [key], {});\n",
              "          if (!dataTable) return;\n",
              "\n",
              "          const docLinkHtml = 'Like what you see? Visit the ' +\n",
              "            '<a target=\"_blank\" href=https://colab.research.google.com/notebooks/data_table.ipynb>data table notebook</a>'\n",
              "            + ' to learn more about interactive tables.';\n",
              "          element.innerHTML = '';\n",
              "          dataTable['output_type'] = 'display_data';\n",
              "          await google.colab.output.renderOutput(dataTable, element);\n",
              "          const docLink = document.createElement('div');\n",
              "          docLink.innerHTML = docLinkHtml;\n",
              "          element.appendChild(docLink);\n",
              "        }\n",
              "      </script>\n",
              "    </div>\n",
              "  </div>\n",
              "  "
            ]
          },
          "metadata": {},
          "execution_count": 39
        }
      ]
    },
    {
      "cell_type": "code",
      "source": [
        "data.dtypes"
      ],
      "metadata": {
        "colab": {
          "base_uri": "https://localhost:8080/"
        },
        "id": "nK3BzXVG4--d",
        "outputId": "f3eb6668-b1c4-4ce7-a030-230126470951"
      },
      "execution_count": 40,
      "outputs": [
        {
          "output_type": "execute_result",
          "data": {
            "text/plain": [
              "day                          int64\n",
              "year                         int64\n",
              "mo                           int64\n",
              "temp                       float64\n",
              "dewp                       float64\n",
              "slp                        float64\n",
              "visib                      float64\n",
              "wdsp                       float64\n",
              "mxpsd                      float64\n",
              "gust                       float64\n",
              "max                        float64\n",
              "min                        float64\n",
              "prcp                       float64\n",
              "fog                          int64\n",
              "NUM_COLLISIONS               int64\n",
              "co2                        float64\n",
              "wind                       float64\n",
              "so2                        float64\n",
              "pressure                   float64\n",
              "season                       int64\n",
              "visib_7day_ma              float64\n",
              "wdsp_7day_ma               float64\n",
              "co2_7day_ma                float64\n",
              "so2_7day_ma                float64\n",
              "pressure_7day_ma           float64\n",
              "temp_7day_ma               float64\n",
              "wind_7day_ma               float64\n",
              "visib_30day_ma             float64\n",
              "wdsp_30day_ma              float64\n",
              "co2_30day_ma               float64\n",
              "so2_30day_ma               float64\n",
              "pressure_30day_ma          float64\n",
              "temp_30day_ma              float64\n",
              "wind_30day_ma              float64\n",
              "temp_visib_interaction     float64\n",
              "wdsp_visib_interaction     float64\n",
              "prcp_temp_interaction      float64\n",
              "temp_season_interaction    float64\n",
              "wdsp_wind_interaction      float64\n",
              "dtype: object"
            ]
          },
          "metadata": {},
          "execution_count": 40
        }
      ]
    },
    {
      "cell_type": "code",
      "source": [
        "data.columns"
      ],
      "metadata": {
        "colab": {
          "base_uri": "https://localhost:8080/"
        },
        "id": "cBrBMxnX4_EF",
        "outputId": "c71bb5e1-cc2d-4973-d5fb-c36a53757b87"
      },
      "execution_count": 41,
      "outputs": [
        {
          "output_type": "execute_result",
          "data": {
            "text/plain": [
              "Index(['day', 'year', 'mo', 'temp', 'dewp', 'slp', 'visib', 'wdsp', 'mxpsd',\n",
              "       'gust', 'max', 'min', 'prcp', 'fog', 'NUM_COLLISIONS', 'co2', 'wind',\n",
              "       'so2', 'pressure', 'season', 'visib_7day_ma', 'wdsp_7day_ma',\n",
              "       'co2_7day_ma', 'so2_7day_ma', 'pressure_7day_ma', 'temp_7day_ma',\n",
              "       'wind_7day_ma', 'visib_30day_ma', 'wdsp_30day_ma', 'co2_30day_ma',\n",
              "       'so2_30day_ma', 'pressure_30day_ma', 'temp_30day_ma', 'wind_30day_ma',\n",
              "       'temp_visib_interaction', 'wdsp_visib_interaction',\n",
              "       'prcp_temp_interaction', 'temp_season_interaction',\n",
              "       'wdsp_wind_interaction'],\n",
              "      dtype='object')"
            ]
          },
          "metadata": {},
          "execution_count": 41
        }
      ]
    },
    {
      "cell_type": "code",
      "source": [
        "# Check if there are any missing values in the entire DataFrame\n",
        "has_missing_values = data.isna().any().any()\n",
        "\n",
        "# Print the result\n",
        "print(\"Are there any missing values in the DataFrame?\", has_missing_values)"
      ],
      "metadata": {
        "colab": {
          "base_uri": "https://localhost:8080/"
        },
        "id": "fK0cq0dgFQkO",
        "outputId": "2e85d82c-a2a8-47e0-fbaf-4db2107162d8"
      },
      "execution_count": 42,
      "outputs": [
        {
          "output_type": "stream",
          "name": "stdout",
          "text": [
            "Are there any missing values in the DataFrame? False\n"
          ]
        }
      ]
    },
    {
      "cell_type": "code",
      "source": [
        "# Select the features and target variable\n",
        "X = data.drop(\"NUM_COLLISIONS\", axis=1)  # Replace \"num_collisions\" with the actual target column name\n",
        "y = data[\"NUM_COLLISIONS\"]  # Replace \"num_collisions\" with the actual target column name"
      ],
      "metadata": {
        "id": "tJE7pFmX4_G9"
      },
      "execution_count": 43,
      "outputs": []
    },
    {
      "cell_type": "markdown",
      "source": [
        "**baseline linear regression model**"
      ],
      "metadata": {
        "id": "nvA091mRPCuC"
      }
    },
    {
      "cell_type": "code",
      "source": [
        "# Create a linear regression model\n",
        "model = LinearRegression()"
      ],
      "metadata": {
        "id": "vl-OCXCd4_S9"
      },
      "execution_count": null,
      "outputs": []
    },
    {
      "cell_type": "code",
      "source": [
        "# Compute the cross-validated MSE and MAE scores\n",
        "mse_scores = -1 * cross_val_score(model, X, y, cv=5, scoring='neg_mean_squared_error')\n",
        "mae_scores = -1 * cross_val_score(model, X, y, cv=5, scoring='neg_mean_absolute_error')"
      ],
      "metadata": {
        "id": "F5GmYLsj4_V1"
      },
      "execution_count": null,
      "outputs": []
    },
    {
      "cell_type": "code",
      "source": [
        "# Compute the mean squared error (MSE), mean absolute error (MAE), and their square roots (RMSE, RMAE)\n",
        "mse = mse_scores.mean()\n",
        "rmse = mse_scores.mean() ** 0.5\n",
        "mae = mae_scores.mean()\n"
      ],
      "metadata": {
        "id": "-p-JQvTq4_Yt"
      },
      "execution_count": null,
      "outputs": []
    },
    {
      "cell_type": "code",
      "source": [
        "print(\"Mean Squared Error: {:.4f}\".format(mse))\n",
        "print(\"Root Mean Squared Error: {:.4f}\".format(rmse))\n",
        "print(\"Mean Absolute Error: {:.4f}\".format(mae))"
      ],
      "metadata": {
        "id": "57_hbGLt4_rV",
        "colab": {
          "base_uri": "https://localhost:8080/"
        },
        "outputId": "5256d308-292b-4f5d-92d0-ebc9e41f6d22"
      },
      "execution_count": null,
      "outputs": [
        {
          "output_type": "stream",
          "name": "stdout",
          "text": [
            "Mean Squared Error: 64576.1269\n",
            "Root Mean Squared Error: 254.1183\n",
            "Mean Absolute Error: 156.9246\n"
          ]
        }
      ]
    },
    {
      "cell_type": "markdown",
      "source": [
        "**linear regression model with hyperparameters tuning**"
      ],
      "metadata": {
        "id": "LrQutEIvPJfK"
      }
    },
    {
      "cell_type": "code",
      "source": [
        "params = {\n",
        "    'alpha': [0.001, 0.01, 0.1, 1, 10],\n",
        "    'selection': ['cyclic', 'random'],\n",
        "    'max_iter': [1000, 5000, 10000],\n",
        "    'tol': [0.0001, 0.001, 0.01],\n",
        "}"
      ],
      "metadata": {
        "id": "5QZu2JRM4_5-"
      },
      "execution_count": null,
      "outputs": []
    },
    {
      "cell_type": "code",
      "source": [
        "# Create the Lasso regression model\n",
        "lasso = Lasso()"
      ],
      "metadata": {
        "id": "TioR7XwPLCf2"
      },
      "execution_count": null,
      "outputs": []
    },
    {
      "cell_type": "code",
      "source": [
        "# Create the GridSearchCV object\n",
        "grid_search = GridSearchCV(lasso, param_grid=params, cv=10)"
      ],
      "metadata": {
        "id": "2mtuHK5vLCje"
      },
      "execution_count": null,
      "outputs": []
    },
    {
      "cell_type": "code",
      "source": [
        "# Fit the model using the GridSearchCV object\n",
        "grid_search.fit(X_train, y_train)"
      ],
      "metadata": {
        "colab": {
          "base_uri": "https://localhost:8080/",
          "height": 1000
        },
        "id": "QkmizMmuLCmg",
        "outputId": "15d552ae-fef6-4c4d-d46f-46d7c04c32e0"
      },
      "execution_count": null,
      "outputs": [
        {
          "output_type": "stream",
          "name": "stderr",
          "text": [
            "/usr/local/lib/python3.9/dist-packages/sklearn/linear_model/_coordinate_descent.py:631: ConvergenceWarning: Objective did not converge. You might want to increase the number of iterations, check the scale of the features or consider increasing regularisation. Duality gap: 2.434e+06, tolerance: 3.517e+03\n",
            "  model = cd_fast.enet_coordinate_descent(\n",
            "/usr/local/lib/python3.9/dist-packages/sklearn/linear_model/_coordinate_descent.py:631: ConvergenceWarning: Objective did not converge. You might want to increase the number of iterations, check the scale of the features or consider increasing regularisation. Duality gap: 6.413e+05, tolerance: 3.389e+03\n",
            "  model = cd_fast.enet_coordinate_descent(\n",
            "/usr/local/lib/python3.9/dist-packages/sklearn/linear_model/_coordinate_descent.py:631: ConvergenceWarning: Objective did not converge. You might want to increase the number of iterations, check the scale of the features or consider increasing regularisation. Duality gap: 4.161e+03, tolerance: 3.500e+03\n",
            "  model = cd_fast.enet_coordinate_descent(\n",
            "/usr/local/lib/python3.9/dist-packages/sklearn/linear_model/_coordinate_descent.py:631: ConvergenceWarning: Objective did not converge. You might want to increase the number of iterations, check the scale of the features or consider increasing regularisation. Duality gap: 2.434e+06, tolerance: 3.517e+04\n",
            "  model = cd_fast.enet_coordinate_descent(\n",
            "/usr/local/lib/python3.9/dist-packages/sklearn/linear_model/_coordinate_descent.py:631: ConvergenceWarning: Objective did not converge. You might want to increase the number of iterations, check the scale of the features or consider increasing regularisation. Duality gap: 6.413e+05, tolerance: 3.389e+04\n",
            "  model = cd_fast.enet_coordinate_descent(\n",
            "/usr/local/lib/python3.9/dist-packages/sklearn/linear_model/_coordinate_descent.py:631: ConvergenceWarning: Objective did not converge. You might want to increase the number of iterations, check the scale of the features or consider increasing regularisation. Duality gap: 2.434e+06, tolerance: 3.517e+05\n",
            "  model = cd_fast.enet_coordinate_descent(\n",
            "/usr/local/lib/python3.9/dist-packages/sklearn/linear_model/_coordinate_descent.py:631: ConvergenceWarning: Objective did not converge. You might want to increase the number of iterations, check the scale of the features or consider increasing regularisation. Duality gap: 6.413e+05, tolerance: 3.389e+05\n",
            "  model = cd_fast.enet_coordinate_descent(\n",
            "/usr/local/lib/python3.9/dist-packages/sklearn/linear_model/_coordinate_descent.py:631: ConvergenceWarning: Objective did not converge. You might want to increase the number of iterations, check the scale of the features or consider increasing regularisation. Duality gap: 1.260e+07, tolerance: 3.547e+03\n",
            "  model = cd_fast.enet_coordinate_descent(\n",
            "/usr/local/lib/python3.9/dist-packages/sklearn/linear_model/_coordinate_descent.py:631: ConvergenceWarning: Objective did not converge. You might want to increase the number of iterations, check the scale of the features or consider increasing regularisation. Duality gap: 1.283e+07, tolerance: 3.565e+03\n",
            "  model = cd_fast.enet_coordinate_descent(\n",
            "/usr/local/lib/python3.9/dist-packages/sklearn/linear_model/_coordinate_descent.py:631: ConvergenceWarning: Objective did not converge. You might want to increase the number of iterations, check the scale of the features or consider increasing regularisation. Duality gap: 1.300e+07, tolerance: 3.517e+03\n",
            "  model = cd_fast.enet_coordinate_descent(\n",
            "/usr/local/lib/python3.9/dist-packages/sklearn/linear_model/_coordinate_descent.py:631: ConvergenceWarning: Objective did not converge. You might want to increase the number of iterations, check the scale of the features or consider increasing regularisation. Duality gap: 1.299e+07, tolerance: 3.530e+03\n",
            "  model = cd_fast.enet_coordinate_descent(\n",
            "/usr/local/lib/python3.9/dist-packages/sklearn/linear_model/_coordinate_descent.py:631: ConvergenceWarning: Objective did not converge. You might want to increase the number of iterations, check the scale of the features or consider increasing regularisation. Duality gap: 1.286e+07, tolerance: 3.502e+03\n",
            "  model = cd_fast.enet_coordinate_descent(\n",
            "/usr/local/lib/python3.9/dist-packages/sklearn/linear_model/_coordinate_descent.py:631: ConvergenceWarning: Objective did not converge. You might want to increase the number of iterations, check the scale of the features or consider increasing regularisation. Duality gap: 9.560e+06, tolerance: 3.498e+03\n",
            "  model = cd_fast.enet_coordinate_descent(\n",
            "/usr/local/lib/python3.9/dist-packages/sklearn/linear_model/_coordinate_descent.py:631: ConvergenceWarning: Objective did not converge. You might want to increase the number of iterations, check the scale of the features or consider increasing regularisation. Duality gap: 1.233e+07, tolerance: 3.522e+03\n",
            "  model = cd_fast.enet_coordinate_descent(\n",
            "/usr/local/lib/python3.9/dist-packages/sklearn/linear_model/_coordinate_descent.py:631: ConvergenceWarning: Objective did not converge. You might want to increase the number of iterations, check the scale of the features or consider increasing regularisation. Duality gap: 1.304e+07, tolerance: 3.543e+03\n",
            "  model = cd_fast.enet_coordinate_descent(\n",
            "/usr/local/lib/python3.9/dist-packages/sklearn/linear_model/_coordinate_descent.py:631: ConvergenceWarning: Objective did not converge. You might want to increase the number of iterations, check the scale of the features or consider increasing regularisation. Duality gap: 1.194e+07, tolerance: 3.389e+03\n",
            "  model = cd_fast.enet_coordinate_descent(\n",
            "/usr/local/lib/python3.9/dist-packages/sklearn/linear_model/_coordinate_descent.py:631: ConvergenceWarning: Objective did not converge. You might want to increase the number of iterations, check the scale of the features or consider increasing regularisation. Duality gap: 1.304e+07, tolerance: 3.500e+03\n",
            "  model = cd_fast.enet_coordinate_descent(\n",
            "/usr/local/lib/python3.9/dist-packages/sklearn/linear_model/_coordinate_descent.py:631: ConvergenceWarning: Objective did not converge. You might want to increase the number of iterations, check the scale of the features or consider increasing regularisation. Duality gap: 1.295e+07, tolerance: 3.547e+04\n",
            "  model = cd_fast.enet_coordinate_descent(\n",
            "/usr/local/lib/python3.9/dist-packages/sklearn/linear_model/_coordinate_descent.py:631: ConvergenceWarning: Objective did not converge. You might want to increase the number of iterations, check the scale of the features or consider increasing regularisation. Duality gap: 1.232e+07, tolerance: 3.565e+04\n",
            "  model = cd_fast.enet_coordinate_descent(\n",
            "/usr/local/lib/python3.9/dist-packages/sklearn/linear_model/_coordinate_descent.py:631: ConvergenceWarning: Objective did not converge. You might want to increase the number of iterations, check the scale of the features or consider increasing regularisation. Duality gap: 1.227e+07, tolerance: 3.517e+04\n",
            "  model = cd_fast.enet_coordinate_descent(\n",
            "/usr/local/lib/python3.9/dist-packages/sklearn/linear_model/_coordinate_descent.py:631: ConvergenceWarning: Objective did not converge. You might want to increase the number of iterations, check the scale of the features or consider increasing regularisation. Duality gap: 1.299e+07, tolerance: 3.530e+04\n",
            "  model = cd_fast.enet_coordinate_descent(\n",
            "/usr/local/lib/python3.9/dist-packages/sklearn/linear_model/_coordinate_descent.py:631: ConvergenceWarning: Objective did not converge. You might want to increase the number of iterations, check the scale of the features or consider increasing regularisation. Duality gap: 1.274e+07, tolerance: 3.502e+04\n",
            "  model = cd_fast.enet_coordinate_descent(\n",
            "/usr/local/lib/python3.9/dist-packages/sklearn/linear_model/_coordinate_descent.py:631: ConvergenceWarning: Objective did not converge. You might want to increase the number of iterations, check the scale of the features or consider increasing regularisation. Duality gap: 1.304e+07, tolerance: 3.498e+04\n",
            "  model = cd_fast.enet_coordinate_descent(\n",
            "/usr/local/lib/python3.9/dist-packages/sklearn/linear_model/_coordinate_descent.py:631: ConvergenceWarning: Objective did not converge. You might want to increase the number of iterations, check the scale of the features or consider increasing regularisation. Duality gap: 1.276e+07, tolerance: 3.522e+04\n",
            "  model = cd_fast.enet_coordinate_descent(\n",
            "/usr/local/lib/python3.9/dist-packages/sklearn/linear_model/_coordinate_descent.py:631: ConvergenceWarning: Objective did not converge. You might want to increase the number of iterations, check the scale of the features or consider increasing regularisation. Duality gap: 1.302e+07, tolerance: 3.543e+04\n",
            "  model = cd_fast.enet_coordinate_descent(\n",
            "/usr/local/lib/python3.9/dist-packages/sklearn/linear_model/_coordinate_descent.py:631: ConvergenceWarning: Objective did not converge. You might want to increase the number of iterations, check the scale of the features or consider increasing regularisation. Duality gap: 1.260e+07, tolerance: 3.389e+04\n",
            "  model = cd_fast.enet_coordinate_descent(\n",
            "/usr/local/lib/python3.9/dist-packages/sklearn/linear_model/_coordinate_descent.py:631: ConvergenceWarning: Objective did not converge. You might want to increase the number of iterations, check the scale of the features or consider increasing regularisation. Duality gap: 1.304e+07, tolerance: 3.500e+04\n",
            "  model = cd_fast.enet_coordinate_descent(\n",
            "/usr/local/lib/python3.9/dist-packages/sklearn/linear_model/_coordinate_descent.py:631: ConvergenceWarning: Objective did not converge. You might want to increase the number of iterations, check the scale of the features or consider increasing regularisation. Duality gap: 1.293e+07, tolerance: 3.547e+05\n",
            "  model = cd_fast.enet_coordinate_descent(\n",
            "/usr/local/lib/python3.9/dist-packages/sklearn/linear_model/_coordinate_descent.py:631: ConvergenceWarning: Objective did not converge. You might want to increase the number of iterations, check the scale of the features or consider increasing regularisation. Duality gap: 1.213e+07, tolerance: 3.565e+05\n",
            "  model = cd_fast.enet_coordinate_descent(\n",
            "/usr/local/lib/python3.9/dist-packages/sklearn/linear_model/_coordinate_descent.py:631: ConvergenceWarning: Objective did not converge. You might want to increase the number of iterations, check the scale of the features or consider increasing regularisation. Duality gap: 1.243e+07, tolerance: 3.517e+05\n",
            "  model = cd_fast.enet_coordinate_descent(\n",
            "/usr/local/lib/python3.9/dist-packages/sklearn/linear_model/_coordinate_descent.py:631: ConvergenceWarning: Objective did not converge. You might want to increase the number of iterations, check the scale of the features or consider increasing regularisation. Duality gap: 1.168e+07, tolerance: 3.530e+05\n",
            "  model = cd_fast.enet_coordinate_descent(\n",
            "/usr/local/lib/python3.9/dist-packages/sklearn/linear_model/_coordinate_descent.py:631: ConvergenceWarning: Objective did not converge. You might want to increase the number of iterations, check the scale of the features or consider increasing regularisation. Duality gap: 1.304e+07, tolerance: 3.502e+05\n",
            "  model = cd_fast.enet_coordinate_descent(\n",
            "/usr/local/lib/python3.9/dist-packages/sklearn/linear_model/_coordinate_descent.py:631: ConvergenceWarning: Objective did not converge. You might want to increase the number of iterations, check the scale of the features or consider increasing regularisation. Duality gap: 8.898e+06, tolerance: 3.498e+05\n",
            "  model = cd_fast.enet_coordinate_descent(\n",
            "/usr/local/lib/python3.9/dist-packages/sklearn/linear_model/_coordinate_descent.py:631: ConvergenceWarning: Objective did not converge. You might want to increase the number of iterations, check the scale of the features or consider increasing regularisation. Duality gap: 1.275e+07, tolerance: 3.522e+05\n",
            "  model = cd_fast.enet_coordinate_descent(\n",
            "/usr/local/lib/python3.9/dist-packages/sklearn/linear_model/_coordinate_descent.py:631: ConvergenceWarning: Objective did not converge. You might want to increase the number of iterations, check the scale of the features or consider increasing regularisation. Duality gap: 1.284e+07, tolerance: 3.543e+05\n",
            "  model = cd_fast.enet_coordinate_descent(\n",
            "/usr/local/lib/python3.9/dist-packages/sklearn/linear_model/_coordinate_descent.py:631: ConvergenceWarning: Objective did not converge. You might want to increase the number of iterations, check the scale of the features or consider increasing regularisation. Duality gap: 1.260e+07, tolerance: 3.389e+05\n",
            "  model = cd_fast.enet_coordinate_descent(\n",
            "/usr/local/lib/python3.9/dist-packages/sklearn/linear_model/_coordinate_descent.py:631: ConvergenceWarning: Objective did not converge. You might want to increase the number of iterations, check the scale of the features or consider increasing regularisation. Duality gap: 1.301e+07, tolerance: 3.500e+05\n",
            "  model = cd_fast.enet_coordinate_descent(\n",
            "/usr/local/lib/python3.9/dist-packages/sklearn/linear_model/_coordinate_descent.py:631: ConvergenceWarning: Objective did not converge. You might want to increase the number of iterations, check the scale of the features or consider increasing regularisation. Duality gap: 6.605e+04, tolerance: 3.517e+03\n",
            "  model = cd_fast.enet_coordinate_descent(\n",
            "/usr/local/lib/python3.9/dist-packages/sklearn/linear_model/_coordinate_descent.py:631: ConvergenceWarning: Objective did not converge. You might want to increase the number of iterations, check the scale of the features or consider increasing regularisation. Duality gap: 1.018e+04, tolerance: 3.389e+03\n",
            "  model = cd_fast.enet_coordinate_descent(\n",
            "/usr/local/lib/python3.9/dist-packages/sklearn/linear_model/_coordinate_descent.py:631: ConvergenceWarning: Objective did not converge. You might want to increase the number of iterations, check the scale of the features or consider increasing regularisation. Duality gap: 6.605e+04, tolerance: 3.517e+04\n",
            "  model = cd_fast.enet_coordinate_descent(\n",
            "/usr/local/lib/python3.9/dist-packages/sklearn/linear_model/_coordinate_descent.py:631: ConvergenceWarning: Objective did not converge. You might want to increase the number of iterations, check the scale of the features or consider increasing regularisation. Duality gap: 1.192e+07, tolerance: 3.547e+03\n",
            "  model = cd_fast.enet_coordinate_descent(\n",
            "/usr/local/lib/python3.9/dist-packages/sklearn/linear_model/_coordinate_descent.py:631: ConvergenceWarning: Objective did not converge. You might want to increase the number of iterations, check the scale of the features or consider increasing regularisation. Duality gap: 8.583e+05, tolerance: 3.565e+03\n",
            "  model = cd_fast.enet_coordinate_descent(\n",
            "/usr/local/lib/python3.9/dist-packages/sklearn/linear_model/_coordinate_descent.py:631: ConvergenceWarning: Objective did not converge. You might want to increase the number of iterations, check the scale of the features or consider increasing regularisation. Duality gap: 1.291e+07, tolerance: 3.517e+03\n",
            "  model = cd_fast.enet_coordinate_descent(\n",
            "/usr/local/lib/python3.9/dist-packages/sklearn/linear_model/_coordinate_descent.py:631: ConvergenceWarning: Objective did not converge. You might want to increase the number of iterations, check the scale of the features or consider increasing regularisation. Duality gap: 1.207e+07, tolerance: 3.530e+03\n",
            "  model = cd_fast.enet_coordinate_descent(\n",
            "/usr/local/lib/python3.9/dist-packages/sklearn/linear_model/_coordinate_descent.py:631: ConvergenceWarning: Objective did not converge. You might want to increase the number of iterations, check the scale of the features or consider increasing regularisation. Duality gap: 8.302e+06, tolerance: 3.502e+03\n",
            "  model = cd_fast.enet_coordinate_descent(\n",
            "/usr/local/lib/python3.9/dist-packages/sklearn/linear_model/_coordinate_descent.py:631: ConvergenceWarning: Objective did not converge. You might want to increase the number of iterations, check the scale of the features or consider increasing regularisation. Duality gap: 1.265e+07, tolerance: 3.498e+03\n",
            "  model = cd_fast.enet_coordinate_descent(\n",
            "/usr/local/lib/python3.9/dist-packages/sklearn/linear_model/_coordinate_descent.py:631: ConvergenceWarning: Objective did not converge. You might want to increase the number of iterations, check the scale of the features or consider increasing regularisation. Duality gap: 7.531e+06, tolerance: 3.522e+03\n",
            "  model = cd_fast.enet_coordinate_descent(\n",
            "/usr/local/lib/python3.9/dist-packages/sklearn/linear_model/_coordinate_descent.py:631: ConvergenceWarning: Objective did not converge. You might want to increase the number of iterations, check the scale of the features or consider increasing regularisation. Duality gap: 4.187e+06, tolerance: 3.543e+03\n",
            "  model = cd_fast.enet_coordinate_descent(\n",
            "/usr/local/lib/python3.9/dist-packages/sklearn/linear_model/_coordinate_descent.py:631: ConvergenceWarning: Objective did not converge. You might want to increase the number of iterations, check the scale of the features or consider increasing regularisation. Duality gap: 7.514e+06, tolerance: 3.389e+03\n",
            "  model = cd_fast.enet_coordinate_descent(\n",
            "/usr/local/lib/python3.9/dist-packages/sklearn/linear_model/_coordinate_descent.py:631: ConvergenceWarning: Objective did not converge. You might want to increase the number of iterations, check the scale of the features or consider increasing regularisation. Duality gap: 1.251e+07, tolerance: 3.500e+03\n",
            "  model = cd_fast.enet_coordinate_descent(\n",
            "/usr/local/lib/python3.9/dist-packages/sklearn/linear_model/_coordinate_descent.py:631: ConvergenceWarning: Objective did not converge. You might want to increase the number of iterations, check the scale of the features or consider increasing regularisation. Duality gap: 6.505e+06, tolerance: 3.547e+04\n",
            "  model = cd_fast.enet_coordinate_descent(\n",
            "/usr/local/lib/python3.9/dist-packages/sklearn/linear_model/_coordinate_descent.py:631: ConvergenceWarning: Objective did not converge. You might want to increase the number of iterations, check the scale of the features or consider increasing regularisation. Duality gap: 1.292e+07, tolerance: 3.517e+04\n",
            "  model = cd_fast.enet_coordinate_descent(\n",
            "/usr/local/lib/python3.9/dist-packages/sklearn/linear_model/_coordinate_descent.py:631: ConvergenceWarning: Objective did not converge. You might want to increase the number of iterations, check the scale of the features or consider increasing regularisation. Duality gap: 5.682e+06, tolerance: 3.530e+04\n",
            "  model = cd_fast.enet_coordinate_descent(\n",
            "/usr/local/lib/python3.9/dist-packages/sklearn/linear_model/_coordinate_descent.py:631: ConvergenceWarning: Objective did not converge. You might want to increase the number of iterations, check the scale of the features or consider increasing regularisation. Duality gap: 6.674e+06, tolerance: 3.502e+04\n",
            "  model = cd_fast.enet_coordinate_descent(\n",
            "/usr/local/lib/python3.9/dist-packages/sklearn/linear_model/_coordinate_descent.py:631: ConvergenceWarning: Objective did not converge. You might want to increase the number of iterations, check the scale of the features or consider increasing regularisation. Duality gap: 1.227e+07, tolerance: 3.498e+04\n",
            "  model = cd_fast.enet_coordinate_descent(\n",
            "/usr/local/lib/python3.9/dist-packages/sklearn/linear_model/_coordinate_descent.py:631: ConvergenceWarning: Objective did not converge. You might want to increase the number of iterations, check the scale of the features or consider increasing regularisation. Duality gap: 3.736e+06, tolerance: 3.522e+04\n",
            "  model = cd_fast.enet_coordinate_descent(\n",
            "/usr/local/lib/python3.9/dist-packages/sklearn/linear_model/_coordinate_descent.py:631: ConvergenceWarning: Objective did not converge. You might want to increase the number of iterations, check the scale of the features or consider increasing regularisation. Duality gap: 1.188e+07, tolerance: 3.543e+04\n",
            "  model = cd_fast.enet_coordinate_descent(\n",
            "/usr/local/lib/python3.9/dist-packages/sklearn/linear_model/_coordinate_descent.py:631: ConvergenceWarning: Objective did not converge. You might want to increase the number of iterations, check the scale of the features or consider increasing regularisation. Duality gap: 1.250e+07, tolerance: 3.389e+04\n",
            "  model = cd_fast.enet_coordinate_descent(\n",
            "/usr/local/lib/python3.9/dist-packages/sklearn/linear_model/_coordinate_descent.py:631: ConvergenceWarning: Objective did not converge. You might want to increase the number of iterations, check the scale of the features or consider increasing regularisation. Duality gap: 3.391e+06, tolerance: 3.500e+04\n",
            "  model = cd_fast.enet_coordinate_descent(\n",
            "/usr/local/lib/python3.9/dist-packages/sklearn/linear_model/_coordinate_descent.py:631: ConvergenceWarning: Objective did not converge. You might want to increase the number of iterations, check the scale of the features or consider increasing regularisation. Duality gap: 1.004e+07, tolerance: 3.547e+05\n",
            "  model = cd_fast.enet_coordinate_descent(\n",
            "/usr/local/lib/python3.9/dist-packages/sklearn/linear_model/_coordinate_descent.py:631: ConvergenceWarning: Objective did not converge. You might want to increase the number of iterations, check the scale of the features or consider increasing regularisation. Duality gap: 6.560e+06, tolerance: 3.565e+05\n",
            "  model = cd_fast.enet_coordinate_descent(\n",
            "/usr/local/lib/python3.9/dist-packages/sklearn/linear_model/_coordinate_descent.py:631: ConvergenceWarning: Objective did not converge. You might want to increase the number of iterations, check the scale of the features or consider increasing regularisation. Duality gap: 1.291e+07, tolerance: 3.517e+05\n",
            "  model = cd_fast.enet_coordinate_descent(\n",
            "/usr/local/lib/python3.9/dist-packages/sklearn/linear_model/_coordinate_descent.py:631: ConvergenceWarning: Objective did not converge. You might want to increase the number of iterations, check the scale of the features or consider increasing regularisation. Duality gap: 8.749e+06, tolerance: 3.530e+05\n",
            "  model = cd_fast.enet_coordinate_descent(\n",
            "/usr/local/lib/python3.9/dist-packages/sklearn/linear_model/_coordinate_descent.py:631: ConvergenceWarning: Objective did not converge. You might want to increase the number of iterations, check the scale of the features or consider increasing regularisation. Duality gap: 5.427e+06, tolerance: 3.502e+05\n",
            "  model = cd_fast.enet_coordinate_descent(\n",
            "/usr/local/lib/python3.9/dist-packages/sklearn/linear_model/_coordinate_descent.py:631: ConvergenceWarning: Objective did not converge. You might want to increase the number of iterations, check the scale of the features or consider increasing regularisation. Duality gap: 1.884e+06, tolerance: 3.498e+05\n",
            "  model = cd_fast.enet_coordinate_descent(\n",
            "/usr/local/lib/python3.9/dist-packages/sklearn/linear_model/_coordinate_descent.py:631: ConvergenceWarning: Objective did not converge. You might want to increase the number of iterations, check the scale of the features or consider increasing regularisation. Duality gap: 1.180e+07, tolerance: 3.522e+05\n",
            "  model = cd_fast.enet_coordinate_descent(\n",
            "/usr/local/lib/python3.9/dist-packages/sklearn/linear_model/_coordinate_descent.py:631: ConvergenceWarning: Objective did not converge. You might want to increase the number of iterations, check the scale of the features or consider increasing regularisation. Duality gap: 1.157e+07, tolerance: 3.543e+05\n",
            "  model = cd_fast.enet_coordinate_descent(\n",
            "/usr/local/lib/python3.9/dist-packages/sklearn/linear_model/_coordinate_descent.py:631: ConvergenceWarning: Objective did not converge. You might want to increase the number of iterations, check the scale of the features or consider increasing regularisation. Duality gap: 1.251e+07, tolerance: 3.389e+05\n",
            "  model = cd_fast.enet_coordinate_descent(\n",
            "/usr/local/lib/python3.9/dist-packages/sklearn/linear_model/_coordinate_descent.py:631: ConvergenceWarning: Objective did not converge. You might want to increase the number of iterations, check the scale of the features or consider increasing regularisation. Duality gap: 1.258e+07, tolerance: 3.500e+05\n",
            "  model = cd_fast.enet_coordinate_descent(\n",
            "/usr/local/lib/python3.9/dist-packages/sklearn/linear_model/_coordinate_descent.py:631: ConvergenceWarning: Objective did not converge. You might want to increase the number of iterations, check the scale of the features or consider increasing regularisation. Duality gap: 5.578e+06, tolerance: 3.547e+03\n",
            "  model = cd_fast.enet_coordinate_descent(\n",
            "/usr/local/lib/python3.9/dist-packages/sklearn/linear_model/_coordinate_descent.py:631: ConvergenceWarning: Objective did not converge. You might want to increase the number of iterations, check the scale of the features or consider increasing regularisation. Duality gap: 5.365e+04, tolerance: 3.565e+03\n",
            "  model = cd_fast.enet_coordinate_descent(\n",
            "/usr/local/lib/python3.9/dist-packages/sklearn/linear_model/_coordinate_descent.py:631: ConvergenceWarning: Objective did not converge. You might want to increase the number of iterations, check the scale of the features or consider increasing regularisation. Duality gap: 2.086e+06, tolerance: 3.517e+03\n",
            "  model = cd_fast.enet_coordinate_descent(\n",
            "/usr/local/lib/python3.9/dist-packages/sklearn/linear_model/_coordinate_descent.py:631: ConvergenceWarning: Objective did not converge. You might want to increase the number of iterations, check the scale of the features or consider increasing regularisation. Duality gap: 4.135e+04, tolerance: 3.530e+03\n",
            "  model = cd_fast.enet_coordinate_descent(\n",
            "/usr/local/lib/python3.9/dist-packages/sklearn/linear_model/_coordinate_descent.py:631: ConvergenceWarning: Objective did not converge. You might want to increase the number of iterations, check the scale of the features or consider increasing regularisation. Duality gap: 2.723e+06, tolerance: 3.502e+03\n",
            "  model = cd_fast.enet_coordinate_descent(\n",
            "/usr/local/lib/python3.9/dist-packages/sklearn/linear_model/_coordinate_descent.py:631: ConvergenceWarning: Objective did not converge. You might want to increase the number of iterations, check the scale of the features or consider increasing regularisation. Duality gap: 5.426e+04, tolerance: 3.498e+03\n",
            "  model = cd_fast.enet_coordinate_descent(\n",
            "/usr/local/lib/python3.9/dist-packages/sklearn/linear_model/_coordinate_descent.py:631: ConvergenceWarning: Objective did not converge. You might want to increase the number of iterations, check the scale of the features or consider increasing regularisation. Duality gap: 5.705e+06, tolerance: 3.522e+03\n",
            "  model = cd_fast.enet_coordinate_descent(\n",
            "/usr/local/lib/python3.9/dist-packages/sklearn/linear_model/_coordinate_descent.py:631: ConvergenceWarning: Objective did not converge. You might want to increase the number of iterations, check the scale of the features or consider increasing regularisation. Duality gap: 5.904e+03, tolerance: 3.543e+03\n",
            "  model = cd_fast.enet_coordinate_descent(\n",
            "/usr/local/lib/python3.9/dist-packages/sklearn/linear_model/_coordinate_descent.py:631: ConvergenceWarning: Objective did not converge. You might want to increase the number of iterations, check the scale of the features or consider increasing regularisation. Duality gap: 1.169e+07, tolerance: 3.389e+03\n",
            "  model = cd_fast.enet_coordinate_descent(\n",
            "/usr/local/lib/python3.9/dist-packages/sklearn/linear_model/_coordinate_descent.py:631: ConvergenceWarning: Objective did not converge. You might want to increase the number of iterations, check the scale of the features or consider increasing regularisation. Duality gap: 8.674e+06, tolerance: 3.500e+03\n",
            "  model = cd_fast.enet_coordinate_descent(\n",
            "/usr/local/lib/python3.9/dist-packages/sklearn/linear_model/_coordinate_descent.py:631: ConvergenceWarning: Objective did not converge. You might want to increase the number of iterations, check the scale of the features or consider increasing regularisation. Duality gap: 1.198e+07, tolerance: 3.517e+04\n",
            "  model = cd_fast.enet_coordinate_descent(\n",
            "/usr/local/lib/python3.9/dist-packages/sklearn/linear_model/_coordinate_descent.py:631: ConvergenceWarning: Objective did not converge. You might want to increase the number of iterations, check the scale of the features or consider increasing regularisation. Duality gap: 1.297e+05, tolerance: 3.502e+04\n",
            "  model = cd_fast.enet_coordinate_descent(\n",
            "/usr/local/lib/python3.9/dist-packages/sklearn/linear_model/_coordinate_descent.py:631: ConvergenceWarning: Objective did not converge. You might want to increase the number of iterations, check the scale of the features or consider increasing regularisation. Duality gap: 8.796e+06, tolerance: 3.498e+04\n",
            "  model = cd_fast.enet_coordinate_descent(\n",
            "/usr/local/lib/python3.9/dist-packages/sklearn/linear_model/_coordinate_descent.py:631: ConvergenceWarning: Objective did not converge. You might want to increase the number of iterations, check the scale of the features or consider increasing regularisation. Duality gap: 3.001e+06, tolerance: 3.543e+04\n",
            "  model = cd_fast.enet_coordinate_descent(\n",
            "/usr/local/lib/python3.9/dist-packages/sklearn/linear_model/_coordinate_descent.py:631: ConvergenceWarning: Objective did not converge. You might want to increase the number of iterations, check the scale of the features or consider increasing regularisation. Duality gap: 1.170e+07, tolerance: 3.389e+04\n",
            "  model = cd_fast.enet_coordinate_descent(\n",
            "/usr/local/lib/python3.9/dist-packages/sklearn/linear_model/_coordinate_descent.py:631: ConvergenceWarning: Objective did not converge. You might want to increase the number of iterations, check the scale of the features or consider increasing regularisation. Duality gap: 1.775e+06, tolerance: 3.500e+04\n",
            "  model = cd_fast.enet_coordinate_descent(\n",
            "/usr/local/lib/python3.9/dist-packages/sklearn/linear_model/_coordinate_descent.py:631: ConvergenceWarning: Objective did not converge. You might want to increase the number of iterations, check the scale of the features or consider increasing regularisation. Duality gap: 1.211e+07, tolerance: 3.517e+05\n",
            "  model = cd_fast.enet_coordinate_descent(\n",
            "/usr/local/lib/python3.9/dist-packages/sklearn/linear_model/_coordinate_descent.py:631: ConvergenceWarning: Objective did not converge. You might want to increase the number of iterations, check the scale of the features or consider increasing regularisation. Duality gap: 1.473e+06, tolerance: 3.389e+05\n",
            "  model = cd_fast.enet_coordinate_descent(\n",
            "/usr/local/lib/python3.9/dist-packages/sklearn/linear_model/_coordinate_descent.py:631: ConvergenceWarning: Objective did not converge. You might want to increase the number of iterations, check the scale of the features or consider increasing regularisation. Duality gap: 2.427e+06, tolerance: 3.517e+03\n",
            "  model = cd_fast.enet_coordinate_descent(\n",
            "/usr/local/lib/python3.9/dist-packages/sklearn/linear_model/_coordinate_descent.py:631: ConvergenceWarning: Objective did not converge. You might want to increase the number of iterations, check the scale of the features or consider increasing regularisation. Duality gap: 1.209e+04, tolerance: 3.389e+03\n",
            "  model = cd_fast.enet_coordinate_descent(\n",
            "/usr/local/lib/python3.9/dist-packages/sklearn/linear_model/_coordinate_descent.py:631: ConvergenceWarning: Objective did not converge. You might want to increase the number of iterations, check the scale of the features or consider increasing regularisation. Duality gap: 1.100e+07, tolerance: 3.902e+04\n",
            "  model = cd_fast.enet_coordinate_descent(\n"
          ]
        },
        {
          "output_type": "execute_result",
          "data": {
            "text/plain": [
              "GridSearchCV(cv=10, estimator=Lasso(),\n",
              "             param_grid={'alpha': [0.001, 0.01, 0.1, 1, 10],\n",
              "                         'max_iter': [1000, 5000, 10000],\n",
              "                         'selection': ['cyclic', 'random'],\n",
              "                         'tol': [0.0001, 0.001, 0.01]})"
            ],
            "text/html": [
              "<style>#sk-container-id-2 {color: black;background-color: white;}#sk-container-id-2 pre{padding: 0;}#sk-container-id-2 div.sk-toggleable {background-color: white;}#sk-container-id-2 label.sk-toggleable__label {cursor: pointer;display: block;width: 100%;margin-bottom: 0;padding: 0.3em;box-sizing: border-box;text-align: center;}#sk-container-id-2 label.sk-toggleable__label-arrow:before {content: \"▸\";float: left;margin-right: 0.25em;color: #696969;}#sk-container-id-2 label.sk-toggleable__label-arrow:hover:before {color: black;}#sk-container-id-2 div.sk-estimator:hover label.sk-toggleable__label-arrow:before {color: black;}#sk-container-id-2 div.sk-toggleable__content {max-height: 0;max-width: 0;overflow: hidden;text-align: left;background-color: #f0f8ff;}#sk-container-id-2 div.sk-toggleable__content pre {margin: 0.2em;color: black;border-radius: 0.25em;background-color: #f0f8ff;}#sk-container-id-2 input.sk-toggleable__control:checked~div.sk-toggleable__content {max-height: 200px;max-width: 100%;overflow: auto;}#sk-container-id-2 input.sk-toggleable__control:checked~label.sk-toggleable__label-arrow:before {content: \"▾\";}#sk-container-id-2 div.sk-estimator input.sk-toggleable__control:checked~label.sk-toggleable__label {background-color: #d4ebff;}#sk-container-id-2 div.sk-label input.sk-toggleable__control:checked~label.sk-toggleable__label {background-color: #d4ebff;}#sk-container-id-2 input.sk-hidden--visually {border: 0;clip: rect(1px 1px 1px 1px);clip: rect(1px, 1px, 1px, 1px);height: 1px;margin: -1px;overflow: hidden;padding: 0;position: absolute;width: 1px;}#sk-container-id-2 div.sk-estimator {font-family: monospace;background-color: #f0f8ff;border: 1px dotted black;border-radius: 0.25em;box-sizing: border-box;margin-bottom: 0.5em;}#sk-container-id-2 div.sk-estimator:hover {background-color: #d4ebff;}#sk-container-id-2 div.sk-parallel-item::after {content: \"\";width: 100%;border-bottom: 1px solid gray;flex-grow: 1;}#sk-container-id-2 div.sk-label:hover label.sk-toggleable__label {background-color: #d4ebff;}#sk-container-id-2 div.sk-serial::before {content: \"\";position: absolute;border-left: 1px solid gray;box-sizing: border-box;top: 0;bottom: 0;left: 50%;z-index: 0;}#sk-container-id-2 div.sk-serial {display: flex;flex-direction: column;align-items: center;background-color: white;padding-right: 0.2em;padding-left: 0.2em;position: relative;}#sk-container-id-2 div.sk-item {position: relative;z-index: 1;}#sk-container-id-2 div.sk-parallel {display: flex;align-items: stretch;justify-content: center;background-color: white;position: relative;}#sk-container-id-2 div.sk-item::before, #sk-container-id-2 div.sk-parallel-item::before {content: \"\";position: absolute;border-left: 1px solid gray;box-sizing: border-box;top: 0;bottom: 0;left: 50%;z-index: -1;}#sk-container-id-2 div.sk-parallel-item {display: flex;flex-direction: column;z-index: 1;position: relative;background-color: white;}#sk-container-id-2 div.sk-parallel-item:first-child::after {align-self: flex-end;width: 50%;}#sk-container-id-2 div.sk-parallel-item:last-child::after {align-self: flex-start;width: 50%;}#sk-container-id-2 div.sk-parallel-item:only-child::after {width: 0;}#sk-container-id-2 div.sk-dashed-wrapped {border: 1px dashed gray;margin: 0 0.4em 0.5em 0.4em;box-sizing: border-box;padding-bottom: 0.4em;background-color: white;}#sk-container-id-2 div.sk-label label {font-family: monospace;font-weight: bold;display: inline-block;line-height: 1.2em;}#sk-container-id-2 div.sk-label-container {text-align: center;}#sk-container-id-2 div.sk-container {/* jupyter's `normalize.less` sets `[hidden] { display: none; }` but bootstrap.min.css set `[hidden] { display: none !important; }` so we also need the `!important` here to be able to override the default hidden behavior on the sphinx rendered scikit-learn.org. See: https://github.com/scikit-learn/scikit-learn/issues/21755 */display: inline-block !important;position: relative;}#sk-container-id-2 div.sk-text-repr-fallback {display: none;}</style><div id=\"sk-container-id-2\" class=\"sk-top-container\"><div class=\"sk-text-repr-fallback\"><pre>GridSearchCV(cv=10, estimator=Lasso(),\n",
              "             param_grid={&#x27;alpha&#x27;: [0.001, 0.01, 0.1, 1, 10],\n",
              "                         &#x27;max_iter&#x27;: [1000, 5000, 10000],\n",
              "                         &#x27;selection&#x27;: [&#x27;cyclic&#x27;, &#x27;random&#x27;],\n",
              "                         &#x27;tol&#x27;: [0.0001, 0.001, 0.01]})</pre><b>In a Jupyter environment, please rerun this cell to show the HTML representation or trust the notebook. <br />On GitHub, the HTML representation is unable to render, please try loading this page with nbviewer.org.</b></div><div class=\"sk-container\" hidden><div class=\"sk-item sk-dashed-wrapped\"><div class=\"sk-label-container\"><div class=\"sk-label sk-toggleable\"><input class=\"sk-toggleable__control sk-hidden--visually\" id=\"sk-estimator-id-2\" type=\"checkbox\" ><label for=\"sk-estimator-id-2\" class=\"sk-toggleable__label sk-toggleable__label-arrow\">GridSearchCV</label><div class=\"sk-toggleable__content\"><pre>GridSearchCV(cv=10, estimator=Lasso(),\n",
              "             param_grid={&#x27;alpha&#x27;: [0.001, 0.01, 0.1, 1, 10],\n",
              "                         &#x27;max_iter&#x27;: [1000, 5000, 10000],\n",
              "                         &#x27;selection&#x27;: [&#x27;cyclic&#x27;, &#x27;random&#x27;],\n",
              "                         &#x27;tol&#x27;: [0.0001, 0.001, 0.01]})</pre></div></div></div><div class=\"sk-parallel\"><div class=\"sk-parallel-item\"><div class=\"sk-item\"><div class=\"sk-label-container\"><div class=\"sk-label sk-toggleable\"><input class=\"sk-toggleable__control sk-hidden--visually\" id=\"sk-estimator-id-3\" type=\"checkbox\" ><label for=\"sk-estimator-id-3\" class=\"sk-toggleable__label sk-toggleable__label-arrow\">estimator: Lasso</label><div class=\"sk-toggleable__content\"><pre>Lasso()</pre></div></div></div><div class=\"sk-serial\"><div class=\"sk-item\"><div class=\"sk-estimator sk-toggleable\"><input class=\"sk-toggleable__control sk-hidden--visually\" id=\"sk-estimator-id-4\" type=\"checkbox\" ><label for=\"sk-estimator-id-4\" class=\"sk-toggleable__label sk-toggleable__label-arrow\">Lasso</label><div class=\"sk-toggleable__content\"><pre>Lasso()</pre></div></div></div></div></div></div></div></div></div></div>"
            ]
          },
          "metadata": {},
          "execution_count": 164
        }
      ]
    },
    {
      "cell_type": "code",
      "source": [
        "# Print the best parameters found\n",
        "print('Best Parameters:', grid_search.best_params_)"
      ],
      "metadata": {
        "id": "qpDAEqycLCpN",
        "colab": {
          "base_uri": "https://localhost:8080/"
        },
        "outputId": "cefefd65-5575-4195-ee24-850b8fd70ed2"
      },
      "execution_count": null,
      "outputs": [
        {
          "output_type": "stream",
          "name": "stdout",
          "text": [
            "Best Parameters: {'alpha': 0.001, 'max_iter': 1000, 'selection': 'random', 'tol': 0.001}\n"
          ]
        }
      ]
    },
    {
      "cell_type": "code",
      "source": [
        "# Make predictions using the best model\n",
        "y_pred = grid_search.predict(X_test)\n"
      ],
      "metadata": {
        "id": "vkYS-5l1LCr2"
      },
      "execution_count": null,
      "outputs": []
    },
    {
      "cell_type": "code",
      "source": [
        "# Compute the mean squared error (MSE), mean absolute error (MAE), and their square roots (RMSE, RMAE)\n",
        "mse = mean_squared_error(y_test, y_pred)\n",
        "rmse = mse ** 0.5\n",
        "mae = mean_absolute_error(y_test, y_pred)\n"
      ],
      "metadata": {
        "id": "IP5BS0T3LCum"
      },
      "execution_count": null,
      "outputs": []
    },
    {
      "cell_type": "code",
      "source": [
        "print('Mean Squared Error:', mse)\n",
        "print('Root Mean Squared Error:', rmse)\n",
        "print('Mean Absolute Error:', mae)"
      ],
      "metadata": {
        "id": "cj9_oz-vLCxN",
        "colab": {
          "base_uri": "https://localhost:8080/"
        },
        "outputId": "2301580d-7f1b-4e94-f240-f87b51e0ca46"
      },
      "execution_count": null,
      "outputs": [
        {
          "output_type": "stream",
          "name": "stdout",
          "text": [
            "Mean Squared Error: 36669.85895982583\n",
            "Root Mean Squared Error: 191.49375697349987\n",
            "Mean Absolute Error: 93.69948218684006\n"
          ]
        }
      ]
    },
    {
      "cell_type": "markdown",
      "source": [
        "**baseline DNN model**"
      ],
      "metadata": {
        "id": "zPXyzozpPYvF"
      }
    },
    {
      "cell_type": "code",
      "source": [
        "# Split the data into training and testing sets\n",
        "X_train_DNN, X_test_DNN, y_train_DNN, y_test_DNN = train_test_split(X, y, test_size=0.2, random_state=42)"
      ],
      "metadata": {
        "id": "1tdK8EU94_9E"
      },
      "execution_count": null,
      "outputs": []
    },
    {
      "cell_type": "code",
      "source": [
        "# Define the model\n",
        "model_DNN = Sequential([\n",
        "    Dense(64, activation='relu', input_shape=[X_train_DNN.shape[1]]),\n",
        "    Dense(32, activation='relu'),\n",
        "    Dropout(0.2),\n",
        "    Dense(1)\n",
        "])"
      ],
      "metadata": {
        "id": "vDZ0WdHvP1o6"
      },
      "execution_count": null,
      "outputs": []
    },
    {
      "cell_type": "code",
      "source": [
        "# Compile the model\n",
        "model_DNN.compile(optimizer='adam', loss='mse', metrics=['mae'])"
      ],
      "metadata": {
        "id": "5CfVATz5P1sI"
      },
      "execution_count": null,
      "outputs": []
    },
    {
      "cell_type": "code",
      "source": [
        "# Train the model\n",
        "history = model_DNN.fit(X_train_DNN, y_train_DNN, epochs=50, batch_size=32, validation_split=0.2)"
      ],
      "metadata": {
        "colab": {
          "base_uri": "https://localhost:8080/"
        },
        "id": "PlsQ6ht_P10w",
        "outputId": "c4f11117-997e-46be-a466-202a6c803300"
      },
      "execution_count": null,
      "outputs": [
        {
          "output_type": "stream",
          "name": "stdout",
          "text": [
            "Epoch 1/50\n",
            "60/60 [==============================] - 1s 5ms/step - loss: 62792.6445 - mae: 185.4000 - val_loss: 20392.2441 - val_mae: 109.2400\n",
            "Epoch 2/50\n",
            "60/60 [==============================] - 0s 3ms/step - loss: 28259.7539 - mae: 128.9646 - val_loss: 20176.6113 - val_mae: 102.0436\n",
            "Epoch 3/50\n",
            "60/60 [==============================] - 0s 3ms/step - loss: 24857.0820 - mae: 119.8150 - val_loss: 18890.1797 - val_mae: 102.3080\n",
            "Epoch 4/50\n",
            "60/60 [==============================] - 0s 3ms/step - loss: 24579.5156 - mae: 118.7704 - val_loss: 19101.5195 - val_mae: 101.7523\n",
            "Epoch 5/50\n",
            "60/60 [==============================] - 0s 3ms/step - loss: 22976.0039 - mae: 115.6413 - val_loss: 18659.5586 - val_mae: 100.9188\n",
            "Epoch 6/50\n",
            "60/60 [==============================] - 0s 6ms/step - loss: 23786.7598 - mae: 117.1157 - val_loss: 18856.8203 - val_mae: 102.5273\n",
            "Epoch 7/50\n",
            "60/60 [==============================] - 0s 8ms/step - loss: 23509.4766 - mae: 119.2188 - val_loss: 18263.3301 - val_mae: 98.6006\n",
            "Epoch 8/50\n",
            "60/60 [==============================] - 0s 5ms/step - loss: 23176.3672 - mae: 118.6335 - val_loss: 19832.8926 - val_mae: 100.6327\n",
            "Epoch 9/50\n",
            "60/60 [==============================] - 0s 6ms/step - loss: 22619.5195 - mae: 115.2538 - val_loss: 18373.2617 - val_mae: 100.2612\n",
            "Epoch 10/50\n",
            "60/60 [==============================] - 0s 5ms/step - loss: 22512.0742 - mae: 114.9820 - val_loss: 18087.8594 - val_mae: 99.6174\n",
            "Epoch 11/50\n",
            "60/60 [==============================] - 1s 9ms/step - loss: 22327.9355 - mae: 115.7813 - val_loss: 17983.6602 - val_mae: 99.0897\n",
            "Epoch 12/50\n",
            "60/60 [==============================] - 1s 9ms/step - loss: 22041.8867 - mae: 114.3999 - val_loss: 17744.1504 - val_mae: 98.9811\n",
            "Epoch 13/50\n",
            "60/60 [==============================] - 0s 4ms/step - loss: 22246.3906 - mae: 115.8237 - val_loss: 17760.5566 - val_mae: 98.8779\n",
            "Epoch 14/50\n",
            "60/60 [==============================] - 0s 2ms/step - loss: 21950.2051 - mae: 114.2914 - val_loss: 17836.8262 - val_mae: 98.4627\n",
            "Epoch 15/50\n",
            "60/60 [==============================] - 0s 4ms/step - loss: 22395.6406 - mae: 116.0647 - val_loss: 17917.8359 - val_mae: 100.0047\n",
            "Epoch 16/50\n",
            "60/60 [==============================] - 0s 4ms/step - loss: 21449.0488 - mae: 112.3745 - val_loss: 17610.5137 - val_mae: 98.5595\n",
            "Epoch 17/50\n",
            "60/60 [==============================] - 0s 5ms/step - loss: 21717.9082 - mae: 114.8881 - val_loss: 18312.7500 - val_mae: 98.0368\n",
            "Epoch 18/50\n",
            "60/60 [==============================] - 0s 3ms/step - loss: 22173.8320 - mae: 116.4317 - val_loss: 18989.0918 - val_mae: 106.5831\n",
            "Epoch 19/50\n",
            "60/60 [==============================] - 0s 2ms/step - loss: 22055.5176 - mae: 114.4764 - val_loss: 17642.4766 - val_mae: 98.9102\n",
            "Epoch 20/50\n",
            "60/60 [==============================] - 0s 2ms/step - loss: 21711.7305 - mae: 113.8222 - val_loss: 17465.9434 - val_mae: 98.5915\n",
            "Epoch 21/50\n",
            "60/60 [==============================] - 0s 3ms/step - loss: 21163.7207 - mae: 114.2234 - val_loss: 17489.0020 - val_mae: 97.6577\n",
            "Epoch 22/50\n",
            "60/60 [==============================] - 0s 2ms/step - loss: 20972.7031 - mae: 113.3195 - val_loss: 18158.7656 - val_mae: 102.9124\n",
            "Epoch 23/50\n",
            "60/60 [==============================] - 0s 3ms/step - loss: 21492.4238 - mae: 113.2573 - val_loss: 19546.6191 - val_mae: 108.9197\n",
            "Epoch 24/50\n",
            "60/60 [==============================] - 0s 2ms/step - loss: 22825.5391 - mae: 117.2951 - val_loss: 17626.9199 - val_mae: 97.5886\n",
            "Epoch 25/50\n",
            "60/60 [==============================] - 0s 3ms/step - loss: 20895.4336 - mae: 112.2893 - val_loss: 17453.5859 - val_mae: 98.4964\n",
            "Epoch 26/50\n",
            "60/60 [==============================] - 0s 3ms/step - loss: 21893.1504 - mae: 115.0484 - val_loss: 17387.7734 - val_mae: 99.6499\n",
            "Epoch 27/50\n",
            "60/60 [==============================] - 0s 3ms/step - loss: 20989.8145 - mae: 112.4880 - val_loss: 17341.6445 - val_mae: 98.5641\n",
            "Epoch 28/50\n",
            "60/60 [==============================] - 0s 3ms/step - loss: 20998.2715 - mae: 112.9305 - val_loss: 17174.5449 - val_mae: 98.5006\n",
            "Epoch 29/50\n",
            "60/60 [==============================] - 0s 5ms/step - loss: 21461.1992 - mae: 114.5396 - val_loss: 17559.0000 - val_mae: 100.5070\n",
            "Epoch 30/50\n",
            "60/60 [==============================] - 0s 5ms/step - loss: 21190.4395 - mae: 112.5989 - val_loss: 17350.4082 - val_mae: 98.3389\n",
            "Epoch 31/50\n",
            "60/60 [==============================] - 0s 5ms/step - loss: 20634.3047 - mae: 110.6582 - val_loss: 17374.6543 - val_mae: 96.9048\n",
            "Epoch 32/50\n",
            "60/60 [==============================] - 0s 5ms/step - loss: 22159.0488 - mae: 116.7268 - val_loss: 17065.2871 - val_mae: 97.8521\n",
            "Epoch 33/50\n",
            "60/60 [==============================] - 0s 3ms/step - loss: 21686.8125 - mae: 114.6213 - val_loss: 17423.0273 - val_mae: 96.7901\n",
            "Epoch 34/50\n",
            "60/60 [==============================] - 0s 3ms/step - loss: 21729.6934 - mae: 114.8983 - val_loss: 18091.3008 - val_mae: 103.3957\n",
            "Epoch 35/50\n",
            "60/60 [==============================] - 0s 3ms/step - loss: 20317.6816 - mae: 111.4004 - val_loss: 17410.4258 - val_mae: 99.7301\n",
            "Epoch 36/50\n",
            "60/60 [==============================] - 0s 3ms/step - loss: 20980.7910 - mae: 112.8862 - val_loss: 18214.2988 - val_mae: 104.0366\n",
            "Epoch 37/50\n",
            "60/60 [==============================] - 0s 3ms/step - loss: 20517.3242 - mae: 111.6167 - val_loss: 17522.6113 - val_mae: 97.3885\n",
            "Epoch 38/50\n",
            "60/60 [==============================] - 0s 3ms/step - loss: 21032.7246 - mae: 113.1439 - val_loss: 17477.0469 - val_mae: 100.3606\n",
            "Epoch 39/50\n",
            "60/60 [==============================] - 0s 3ms/step - loss: 19586.9609 - mae: 107.0673 - val_loss: 17074.0742 - val_mae: 95.9207\n",
            "Epoch 40/50\n",
            "60/60 [==============================] - 0s 3ms/step - loss: 20516.7129 - mae: 111.7321 - val_loss: 16741.3184 - val_mae: 97.4771\n",
            "Epoch 41/50\n",
            "60/60 [==============================] - 0s 4ms/step - loss: 20480.2734 - mae: 111.3919 - val_loss: 17605.5430 - val_mae: 96.6549\n",
            "Epoch 42/50\n",
            "60/60 [==============================] - 0s 4ms/step - loss: 20495.6738 - mae: 112.0422 - val_loss: 17478.3164 - val_mae: 96.3893\n",
            "Epoch 43/50\n",
            "60/60 [==============================] - 0s 4ms/step - loss: 21490.7383 - mae: 113.2882 - val_loss: 17727.3184 - val_mae: 97.2483\n",
            "Epoch 44/50\n",
            "60/60 [==============================] - 0s 4ms/step - loss: 20242.6328 - mae: 109.8975 - val_loss: 16772.8164 - val_mae: 97.5259\n",
            "Epoch 45/50\n",
            "60/60 [==============================] - 0s 5ms/step - loss: 20597.7676 - mae: 113.2743 - val_loss: 16778.0840 - val_mae: 95.4360\n",
            "Epoch 46/50\n",
            "60/60 [==============================] - 0s 4ms/step - loss: 19742.9629 - mae: 109.0036 - val_loss: 16567.3496 - val_mae: 96.5101\n",
            "Epoch 47/50\n",
            "60/60 [==============================] - 0s 3ms/step - loss: 20212.1094 - mae: 111.3914 - val_loss: 16672.5840 - val_mae: 94.7900\n",
            "Epoch 48/50\n",
            "60/60 [==============================] - 0s 3ms/step - loss: 19593.4902 - mae: 109.1711 - val_loss: 16570.0332 - val_mae: 95.2977\n",
            "Epoch 49/50\n",
            "60/60 [==============================] - 0s 4ms/step - loss: 19956.5215 - mae: 110.4105 - val_loss: 16170.6182 - val_mae: 94.4179\n",
            "Epoch 50/50\n",
            "60/60 [==============================] - 0s 5ms/step - loss: 19510.5977 - mae: 108.9265 - val_loss: 16248.8330 - val_mae: 95.3136\n"
          ]
        }
      ]
    },
    {
      "cell_type": "code",
      "source": [
        "# Use the trained DNN model to predict on the test set\n",
        "y_pred = model_DNN.predict(X_test_DNN)"
      ],
      "metadata": {
        "colab": {
          "base_uri": "https://localhost:8080/"
        },
        "id": "WWwAp-e1P13J",
        "outputId": "90855338-0e32-448b-ed84-dfc9acc83a9b"
      },
      "execution_count": null,
      "outputs": [
        {
          "output_type": "stream",
          "name": "stdout",
          "text": [
            "19/19 [==============================] - 0s 1ms/step\n"
          ]
        }
      ]
    },
    {
      "cell_type": "code",
      "source": [
        "# Calculate Mean Squared Error\n",
        "mse = mean_squared_error(y_test, y_pred)"
      ],
      "metadata": {
        "id": "BfRMq4B9QgF7"
      },
      "execution_count": null,
      "outputs": []
    },
    {
      "cell_type": "code",
      "source": [
        "# Calculate Root Mean Squared Error\n",
        "rmse = np.sqrt(mse)"
      ],
      "metadata": {
        "id": "tslm5sMrP15y"
      },
      "execution_count": null,
      "outputs": []
    },
    {
      "cell_type": "code",
      "source": [
        "# Calculate Mean Absolute Error\n",
        "mae = mean_absolute_error(y_test, y_pred)"
      ],
      "metadata": {
        "id": "dvY3tARIP176"
      },
      "execution_count": null,
      "outputs": []
    },
    {
      "cell_type": "code",
      "source": [
        "# Print the evaluation metrics\n",
        "print(\"Mean Squared Error: {:.4f}\".format(mse))\n",
        "print(\"Root Mean Squared Error: {:.4f}\".format(rmse))\n",
        "print(\"Mean Absolute Error: {:.4f}\".format(mae))"
      ],
      "metadata": {
        "colab": {
          "base_uri": "https://localhost:8080/"
        },
        "id": "puAHbRNcQwc2",
        "outputId": "bf58dc92-d86f-4680-9c05-05f85453dae9"
      },
      "execution_count": null,
      "outputs": [
        {
          "output_type": "stream",
          "name": "stdout",
          "text": [
            "Mean Squared Error: 19514.6697\n",
            "Root Mean Squared Error: 139.6949\n",
            "Mean Absolute Error: 94.9869\n"
          ]
        }
      ]
    },
    {
      "cell_type": "markdown",
      "source": [
        "**DNN with hyperparams tuning, layers**"
      ],
      "metadata": {
        "id": "U2WZV6CDPfar"
      }
    },
    {
      "cell_type": "code",
      "source": [
        "# Split the data into training and testing sets\n",
        "X_train, X_test, y_train, y_test = train_test_split(X, y, test_size=0.2, random_state=42)"
      ],
      "metadata": {
        "id": "Fv1lVQdyRVjJ"
      },
      "execution_count": 14,
      "outputs": []
    },
    {
      "cell_type": "code",
      "source": [
        "# Define the model builder function\n",
        "def build_model(hp):\n",
        "    model = keras.Sequential()\n",
        "    model.add(layers.Dense(units=hp.Int('units', min_value=32, max_value=512, step=32), \n",
        "                           activation='relu', \n",
        "                           input_shape=X_train.shape[1:]))\n",
        "    for i in range(hp.Int('num_layers', 1, 5)):\n",
        "        model.add(layers.Dense(units=hp.Int('units_' + str(i), min_value=32, max_value=512, step=32), \n",
        "                               activation='relu'))\n",
        "        model.add(layers.Dropout(rate=hp.Float('dropout_' + str(i), 0, 0.5, step=0.1)))\n",
        "    model.add(layers.Dense(1, activation='linear'))\n",
        "    model.compile(\n",
        "        optimizer=keras.optimizers.Adam(\n",
        "            hp.Choice('learning_rate', values=[1e-2, 1e-3, 1e-4])),\n",
        "        loss='mean_squared_error',\n",
        "        metrics=['mean_absolute_error'])\n",
        "    return model"
      ],
      "metadata": {
        "id": "-Nyjra2jRVpJ"
      },
      "execution_count": 15,
      "outputs": []
    },
    {
      "cell_type": "code",
      "source": [
        "# Define the hyperparameter search space\n",
        "tuner = RandomSearch(\n",
        "    build_model,\n",
        "    objective='val_mean_absolute_error',\n",
        "    max_trials=5,\n",
        "    executions_per_trial=3,\n",
        "    directory='my_dir',\n",
        "    project_name='assi2')"
      ],
      "metadata": {
        "id": "PzO10UmYRVuZ"
      },
      "execution_count": 16,
      "outputs": []
    },
    {
      "cell_type": "code",
      "source": [
        "# Perform the hyperparameter search\n",
        "tuner.search(X_train, y_train, epochs=50, validation_split=0.2)"
      ],
      "metadata": {
        "id": "dec9L6SPRVzq",
        "colab": {
          "base_uri": "https://localhost:8080/"
        },
        "outputId": "e4a27095-c039-446d-a465-5045d2617e93"
      },
      "execution_count": 17,
      "outputs": [
        {
          "output_type": "stream",
          "name": "stdout",
          "text": [
            "Trial 5 Complete [00h 01m 54s]\n",
            "val_mean_absolute_error: 103.4116923014323\n",
            "\n",
            "Best val_mean_absolute_error So Far: 91.16100311279297\n",
            "Total elapsed time: 00h 08m 14s\n"
          ]
        }
      ]
    },
    {
      "cell_type": "code",
      "source": [
        "# Print the best hyperparameters found\n",
        "best_hp = tuner.get_best_hyperparameters()[0]\n",
        "print(f\"Best hyperparameters: {best_hp}\")"
      ],
      "metadata": {
        "id": "dZWyyq_9RV4L",
        "colab": {
          "base_uri": "https://localhost:8080/"
        },
        "outputId": "f70245a1-a93e-4a37-d5d8-d340fe146732"
      },
      "execution_count": 18,
      "outputs": [
        {
          "output_type": "stream",
          "name": "stdout",
          "text": [
            "Best hyperparameters: <keras_tuner.engine.hyperparameters.hyperparameters.HyperParameters object at 0x7fcef9e2c940>\n"
          ]
        }
      ]
    },
    {
      "cell_type": "code",
      "source": [
        "# Print the best hyperparameters found\n",
        "best_hps = tuner.get_best_hyperparameters(num_trials=1)[0]\n",
        "print(\"Best hyperparameters:\")\n",
        "for hp in best_hps.space:\n",
        "    print(f\"{hp.name}: {best_hps.get(hp.name)}\")\n"
      ],
      "metadata": {
        "id": "PGMa-utlRV9J",
        "colab": {
          "base_uri": "https://localhost:8080/"
        },
        "outputId": "73fde272-4421-4639-d1ff-b4a03b9bcf19"
      },
      "execution_count": 20,
      "outputs": [
        {
          "output_type": "stream",
          "name": "stdout",
          "text": [
            "Best hyperparameters:\n",
            "units: 192\n",
            "num_layers: 1\n",
            "units_0: 384\n",
            "dropout_0: 0.0\n",
            "learning_rate: 0.001\n",
            "units_1: 64\n",
            "dropout_1: 0.4\n",
            "units_2: 32\n",
            "dropout_2: 0.2\n",
            "units_3: 224\n",
            "dropout_3: 0.4\n"
          ]
        }
      ]
    },
    {
      "cell_type": "code",
      "source": [
        "# Define the model architecture\n",
        "model1 = keras.Sequential()\n",
        "model1.add(layers.Dense(units=192, activation='relu', input_shape=X_train.shape[1:]))\n",
        "model1.add(layers.Dense(units=384, activation='relu'))\n",
        "model1.add(layers.Dropout(rate=0.0))\n",
        "model1.add(layers.Dense(units=64, activation='relu'))\n",
        "model1.add(layers.Dropout(rate=0.4))\n",
        "model1.add(layers.Dense(units=32, activation='relu'))\n",
        "model1.add(layers.Dropout(rate=0.2))\n",
        "model1.add(layers.Dense(units=224, activation='relu'))\n",
        "model1.add(layers.Dropout(rate=0.4))\n",
        "model1.add(layers.Dense(1, activation='linear'))\n"
      ],
      "metadata": {
        "id": "IjwMn2gjRWBa"
      },
      "execution_count": 25,
      "outputs": []
    },
    {
      "cell_type": "code",
      "source": [
        "# Compile the model\n",
        "optimizer = keras.optimizers.Adam(learning_rate=0.001)\n",
        "model1.compile(optimizer=optimizer, loss='mean_squared_error', metrics=['mean_absolute_error'])"
      ],
      "metadata": {
        "id": "a1FPloNTRWFt"
      },
      "execution_count": 26,
      "outputs": []
    },
    {
      "cell_type": "code",
      "source": [
        "# Train the model\n",
        "history = model1.fit(X_train, y_train, epochs=50, batch_size=32, validation_split=0.2)"
      ],
      "metadata": {
        "id": "lTrVytgGRWJJ",
        "colab": {
          "base_uri": "https://localhost:8080/"
        },
        "outputId": "9620b37f-cec8-4f20-f76c-e1ae74f236b2"
      },
      "execution_count": 27,
      "outputs": [
        {
          "output_type": "stream",
          "name": "stdout",
          "text": [
            "Epoch 1/50\n",
            "60/60 [==============================] - 2s 7ms/step - loss: 66877.6016 - mean_absolute_error: 202.4925 - val_loss: 45954.0625 - val_mean_absolute_error: 191.1412\n",
            "Epoch 2/50\n",
            "60/60 [==============================] - 0s 5ms/step - loss: 38701.9102 - mean_absolute_error: 158.4056 - val_loss: 53609.4141 - val_mean_absolute_error: 208.5180\n",
            "Epoch 3/50\n",
            "60/60 [==============================] - 0s 5ms/step - loss: 35040.4375 - mean_absolute_error: 147.2077 - val_loss: 80965.7500 - val_mean_absolute_error: 262.4445\n",
            "Epoch 4/50\n",
            "60/60 [==============================] - 0s 5ms/step - loss: 30773.5352 - mean_absolute_error: 137.8779 - val_loss: 78369.7969 - val_mean_absolute_error: 258.0372\n",
            "Epoch 5/50\n",
            "60/60 [==============================] - 0s 5ms/step - loss: 29571.8555 - mean_absolute_error: 136.8626 - val_loss: 83285.3906 - val_mean_absolute_error: 266.5720\n",
            "Epoch 6/50\n",
            "60/60 [==============================] - 0s 5ms/step - loss: 27445.0645 - mean_absolute_error: 131.1923 - val_loss: 84143.2500 - val_mean_absolute_error: 268.0594\n",
            "Epoch 7/50\n",
            "60/60 [==============================] - 0s 4ms/step - loss: 26398.1348 - mean_absolute_error: 128.2340 - val_loss: 84990.5078 - val_mean_absolute_error: 269.4854\n",
            "Epoch 8/50\n",
            "60/60 [==============================] - 0s 5ms/step - loss: 25157.5957 - mean_absolute_error: 124.5871 - val_loss: 96577.4844 - val_mean_absolute_error: 288.3898\n",
            "Epoch 9/50\n",
            "60/60 [==============================] - 0s 5ms/step - loss: 25457.9941 - mean_absolute_error: 124.4091 - val_loss: 98352.5859 - val_mean_absolute_error: 291.0953\n",
            "Epoch 10/50\n",
            "60/60 [==============================] - 0s 5ms/step - loss: 24732.6992 - mean_absolute_error: 123.0615 - val_loss: 99384.0703 - val_mean_absolute_error: 292.7577\n",
            "Epoch 11/50\n",
            "60/60 [==============================] - 0s 5ms/step - loss: 23926.2207 - mean_absolute_error: 120.5911 - val_loss: 111575.1406 - val_mean_absolute_error: 311.3501\n",
            "Epoch 12/50\n",
            "60/60 [==============================] - 0s 5ms/step - loss: 25034.6914 - mean_absolute_error: 122.1173 - val_loss: 106510.3906 - val_mean_absolute_error: 303.6675\n",
            "Epoch 13/50\n",
            "60/60 [==============================] - 0s 4ms/step - loss: 22153.0996 - mean_absolute_error: 116.2338 - val_loss: 80614.4141 - val_mean_absolute_error: 261.9952\n",
            "Epoch 14/50\n",
            "60/60 [==============================] - 0s 5ms/step - loss: 24199.7461 - mean_absolute_error: 120.8798 - val_loss: 92638.8281 - val_mean_absolute_error: 281.9805\n",
            "Epoch 15/50\n",
            "60/60 [==============================] - 0s 5ms/step - loss: 22420.5957 - mean_absolute_error: 116.5810 - val_loss: 89086.6875 - val_mean_absolute_error: 276.2101\n",
            "Epoch 16/50\n",
            "60/60 [==============================] - 0s 5ms/step - loss: 22696.8398 - mean_absolute_error: 116.9342 - val_loss: 95157.5078 - val_mean_absolute_error: 285.9449\n",
            "Epoch 17/50\n",
            "60/60 [==============================] - 0s 5ms/step - loss: 22797.2695 - mean_absolute_error: 117.3855 - val_loss: 79942.3672 - val_mean_absolute_error: 260.7403\n",
            "Epoch 18/50\n",
            "60/60 [==============================] - 0s 5ms/step - loss: 22461.0293 - mean_absolute_error: 116.4827 - val_loss: 87810.2422 - val_mean_absolute_error: 273.9969\n",
            "Epoch 19/50\n",
            "60/60 [==============================] - 0s 7ms/step - loss: 20851.7285 - mean_absolute_error: 113.2086 - val_loss: 101674.2266 - val_mean_absolute_error: 296.2104\n",
            "Epoch 20/50\n",
            "60/60 [==============================] - 0s 8ms/step - loss: 21117.1465 - mean_absolute_error: 113.1553 - val_loss: 82441.5234 - val_mean_absolute_error: 265.0076\n",
            "Epoch 21/50\n",
            "60/60 [==============================] - 0s 7ms/step - loss: 21182.3945 - mean_absolute_error: 114.7369 - val_loss: 87861.9062 - val_mean_absolute_error: 274.0859\n",
            "Epoch 22/50\n",
            "60/60 [==============================] - 0s 8ms/step - loss: 21470.2891 - mean_absolute_error: 114.3841 - val_loss: 107350.3672 - val_mean_absolute_error: 304.9127\n",
            "Epoch 23/50\n",
            "60/60 [==============================] - 0s 7ms/step - loss: 21236.1289 - mean_absolute_error: 114.5224 - val_loss: 99657.1797 - val_mean_absolute_error: 293.0586\n",
            "Epoch 24/50\n",
            "60/60 [==============================] - 0s 8ms/step - loss: 21522.5684 - mean_absolute_error: 114.5057 - val_loss: 108994.9844 - val_mean_absolute_error: 307.4633\n",
            "Epoch 25/50\n",
            "60/60 [==============================] - 0s 8ms/step - loss: 21008.0430 - mean_absolute_error: 112.0098 - val_loss: 97584.0234 - val_mean_absolute_error: 289.8162\n",
            "Epoch 26/50\n",
            "60/60 [==============================] - 0s 5ms/step - loss: 21538.7031 - mean_absolute_error: 113.0768 - val_loss: 100524.3984 - val_mean_absolute_error: 294.4379\n",
            "Epoch 27/50\n",
            "60/60 [==============================] - 0s 5ms/step - loss: 21395.8672 - mean_absolute_error: 114.5007 - val_loss: 91767.3672 - val_mean_absolute_error: 280.5362\n",
            "Epoch 28/50\n",
            "60/60 [==============================] - 0s 5ms/step - loss: 20563.0352 - mean_absolute_error: 111.2988 - val_loss: 96032.1953 - val_mean_absolute_error: 287.3840\n",
            "Epoch 29/50\n",
            "60/60 [==============================] - 0s 4ms/step - loss: 20469.6523 - mean_absolute_error: 110.7738 - val_loss: 84770.7656 - val_mean_absolute_error: 268.9584\n",
            "Epoch 30/50\n",
            "60/60 [==============================] - 0s 4ms/step - loss: 20395.1777 - mean_absolute_error: 109.8775 - val_loss: 91294.0938 - val_mean_absolute_error: 279.4968\n",
            "Epoch 31/50\n",
            "60/60 [==============================] - 0s 5ms/step - loss: 20716.2910 - mean_absolute_error: 112.7964 - val_loss: 103326.4062 - val_mean_absolute_error: 298.7075\n",
            "Epoch 32/50\n",
            "60/60 [==============================] - 0s 5ms/step - loss: 21027.1582 - mean_absolute_error: 113.3135 - val_loss: 105441.9609 - val_mean_absolute_error: 302.0230\n",
            "Epoch 33/50\n",
            "60/60 [==============================] - 0s 5ms/step - loss: 21786.7988 - mean_absolute_error: 115.4437 - val_loss: 75014.2500 - val_mean_absolute_error: 251.9543\n",
            "Epoch 34/50\n",
            "60/60 [==============================] - 0s 5ms/step - loss: 22550.0293 - mean_absolute_error: 116.5091 - val_loss: 99373.4844 - val_mean_absolute_error: 292.6772\n",
            "Epoch 35/50\n",
            "60/60 [==============================] - 0s 5ms/step - loss: 19716.4668 - mean_absolute_error: 108.5982 - val_loss: 99012.2109 - val_mean_absolute_error: 292.0884\n",
            "Epoch 36/50\n",
            "60/60 [==============================] - 0s 4ms/step - loss: 21342.7129 - mean_absolute_error: 112.5477 - val_loss: 90623.2031 - val_mean_absolute_error: 278.2867\n",
            "Epoch 37/50\n",
            "60/60 [==============================] - 0s 4ms/step - loss: 19987.3066 - mean_absolute_error: 109.5481 - val_loss: 85633.4375 - val_mean_absolute_error: 270.2655\n",
            "Epoch 38/50\n",
            "60/60 [==============================] - 0s 5ms/step - loss: 20283.2617 - mean_absolute_error: 110.7110 - val_loss: 106398.1406 - val_mean_absolute_error: 303.6278\n",
            "Epoch 39/50\n",
            "60/60 [==============================] - 0s 5ms/step - loss: 20764.1094 - mean_absolute_error: 113.4271 - val_loss: 72771.5234 - val_mean_absolute_error: 247.9207\n",
            "Epoch 40/50\n",
            "60/60 [==============================] - 0s 5ms/step - loss: 20266.3574 - mean_absolute_error: 109.4677 - val_loss: 97451.7656 - val_mean_absolute_error: 289.6026\n",
            "Epoch 41/50\n",
            "60/60 [==============================] - 0s 5ms/step - loss: 20889.3633 - mean_absolute_error: 111.5445 - val_loss: 96224.3047 - val_mean_absolute_error: 287.6954\n",
            "Epoch 42/50\n",
            "60/60 [==============================] - 0s 5ms/step - loss: 19954.3066 - mean_absolute_error: 110.0500 - val_loss: 88672.0859 - val_mean_absolute_error: 275.3589\n",
            "Epoch 43/50\n",
            "60/60 [==============================] - 0s 4ms/step - loss: 18972.8535 - mean_absolute_error: 108.6094 - val_loss: 101464.0703 - val_mean_absolute_error: 296.0757\n",
            "Epoch 44/50\n",
            "60/60 [==============================] - 0s 5ms/step - loss: 20318.3203 - mean_absolute_error: 110.7297 - val_loss: 102357.3047 - val_mean_absolute_error: 297.3928\n",
            "Epoch 45/50\n",
            "60/60 [==============================] - 0s 5ms/step - loss: 20793.5703 - mean_absolute_error: 112.6445 - val_loss: 94524.2969 - val_mean_absolute_error: 285.0480\n",
            "Epoch 46/50\n",
            "60/60 [==============================] - 0s 5ms/step - loss: 19348.9434 - mean_absolute_error: 109.6368 - val_loss: 83595.9141 - val_mean_absolute_error: 266.9557\n",
            "Epoch 47/50\n",
            "60/60 [==============================] - 0s 5ms/step - loss: 22027.7129 - mean_absolute_error: 114.6289 - val_loss: 104014.2891 - val_mean_absolute_error: 300.0691\n",
            "Epoch 48/50\n",
            "60/60 [==============================] - 0s 5ms/step - loss: 19452.9160 - mean_absolute_error: 108.3987 - val_loss: 105489.2031 - val_mean_absolute_error: 302.3171\n",
            "Epoch 49/50\n",
            "60/60 [==============================] - 0s 5ms/step - loss: 19774.5293 - mean_absolute_error: 106.7455 - val_loss: 88087.7656 - val_mean_absolute_error: 274.3519\n",
            "Epoch 50/50\n",
            "60/60 [==============================] - 0s 5ms/step - loss: 19914.3242 - mean_absolute_error: 109.2856 - val_loss: 108181.2969 - val_mean_absolute_error: 306.3189\n"
          ]
        }
      ]
    },
    {
      "cell_type": "code",
      "source": [
        "# Use the trained DNN model to predict on the test set\n",
        "y_pred = model1.predict(X_test)"
      ],
      "metadata": {
        "id": "4gx6PHx1RWN6",
        "colab": {
          "base_uri": "https://localhost:8080/"
        },
        "outputId": "a88b1233-7fa1-46e4-8794-f82fa6747fe0"
      },
      "execution_count": 29,
      "outputs": [
        {
          "output_type": "stream",
          "name": "stdout",
          "text": [
            "19/19 [==============================] - 1s 11ms/step\n"
          ]
        }
      ]
    },
    {
      "cell_type": "code",
      "source": [
        "# Calculate Mean Squared Error\n",
        "mse = mean_squared_error(y_test, y_pred)\n"
      ],
      "metadata": {
        "id": "F10WKqjVRWSB"
      },
      "execution_count": 30,
      "outputs": []
    },
    {
      "cell_type": "code",
      "source": [
        "# Calculate Root Mean Squared Error\n",
        "rmse = np.sqrt(mse)"
      ],
      "metadata": {
        "id": "6rGnMentQwrd"
      },
      "execution_count": 31,
      "outputs": []
    },
    {
      "cell_type": "code",
      "source": [
        "# Calculate Mean Absolute Error\n",
        "mae = mean_absolute_error(y_test, y_pred)"
      ],
      "metadata": {
        "id": "Q4NC83SLtWI6"
      },
      "execution_count": 32,
      "outputs": []
    },
    {
      "cell_type": "code",
      "source": [
        "# Print the evaluation metrics\n",
        "print(\"Mean Squared Error: {:.4f}\".format(mse))\n",
        "print(\"Root Mean Squared Error: {:.4f}\".format(rmse))\n",
        "print(\"Mean Absolute Error: {:.4f}\".format(mae))"
      ],
      "metadata": {
        "colab": {
          "base_uri": "https://localhost:8080/"
        },
        "id": "jocFhHjGtWMo",
        "outputId": "5f89044c-7a28-498c-a1ca-b99a5b68bd7b"
      },
      "execution_count": 33,
      "outputs": [
        {
          "output_type": "stream",
          "name": "stdout",
          "text": [
            "Mean Squared Error: 113215.7035\n",
            "Root Mean Squared Error: 336.4754\n",
            "Mean Absolute Error: 315.4475\n"
          ]
        }
      ]
    },
    {
      "cell_type": "markdown",
      "source": [
        "**Baseline RandomForestClassifier**"
      ],
      "metadata": {
        "id": "0vGTZIm3Ppfr"
      }
    },
    {
      "cell_type": "code",
      "source": [
        "# Get the summary statistics of the num_collisions column\n",
        "summary = data['NUM_COLLISIONS'].describe()\n",
        "\n",
        "# Print the results\n",
        "print(summary)\n"
      ],
      "metadata": {
        "colab": {
          "base_uri": "https://localhost:8080/"
        },
        "id": "B9Y9YwDZuLFi",
        "outputId": "dcf70711-029e-4a39-88cf-1520146c8756"
      },
      "execution_count": 48,
      "outputs": [
        {
          "output_type": "stream",
          "name": "stdout",
          "text": [
            "count    2969.000000\n",
            "mean      573.540923\n",
            "std       128.360026\n",
            "min        93.000000\n",
            "25%       511.000000\n",
            "50%       587.000000\n",
            "75%       655.000000\n",
            "max      1161.000000\n",
            "Name: NUM_COLLISIONS, dtype: float64\n"
          ]
        }
      ]
    },
    {
      "cell_type": "code",
      "source": [
        "# Create bins for the classes\n",
        "bins = [0, 100, 150, 200, 250, 300, 350, 400, 450, 500, 550, 600, 650, 700, 750, 800, 850, 900, 950, 1000, np.inf]\n",
        "\n",
        "# Create the class labels\n",
        "labels = range(1, len(bins))\n",
        "\n",
        "# Add the class labels as a new column to the dataframe\n",
        "data['collision_class'] = pd.cut(data['NUM_COLLISIONS'], bins=bins, labels=labels)\n",
        "\n",
        "data = data.drop(['NUM_COLLISIONS'],axis=1)"
      ],
      "metadata": {
        "id": "z8_l4Zj0uLIq"
      },
      "execution_count": 57,
      "outputs": []
    },
    {
      "cell_type": "code",
      "source": [
        "data.head()"
      ],
      "metadata": {
        "colab": {
          "base_uri": "https://localhost:8080/",
          "height": 331
        },
        "id": "T6mssGleuLLx",
        "outputId": "f69fb465-71e2-4c54-b102-6fc72e78c82c"
      },
      "execution_count": 58,
      "outputs": [
        {
          "output_type": "execute_result",
          "data": {
            "text/plain": [
              "                day  year  mo  temp  dewp     slp  visib  wdsp  mxpsd  gust  \\\n",
              "collision_date                                                                \n",
              "2012-07-01        7  2012   7  83.6  63.0  1008.9    9.7   4.1    9.9  18.1   \n",
              "2012-07-02        1  2012   7  80.3  54.1  1011.6   10.0   3.8   15.0  18.1   \n",
              "2012-07-03        2  2012   7  79.8  56.7  1012.8   10.0   2.9   12.0  18.1   \n",
              "2012-07-04        3  2012   7  81.8  65.6  1009.1    9.2   3.6   11.1  18.1   \n",
              "2012-07-05        4  2012   7  86.7  64.3  1007.4    9.4   3.8   15.0  18.1   \n",
              "\n",
              "                ...  so2_30day_ma  pressure_30day_ma  temp_30day_ma  \\\n",
              "collision_date  ...                                                   \n",
              "2012-07-01      ...      1.210648         917.765355         76.092   \n",
              "2012-07-02      ...      1.210648         917.765355         76.092   \n",
              "2012-07-03      ...      1.210648         917.765355         76.092   \n",
              "2012-07-04      ...      1.210648         917.765355         76.092   \n",
              "2012-07-05      ...      1.210648         917.765355         76.092   \n",
              "\n",
              "                wind_30day_ma  temp_visib_interaction  wdsp_visib_interaction  \\\n",
              "collision_date                                                                  \n",
              "2012-07-01          93.001803                  810.92                   39.77   \n",
              "2012-07-02          93.001803                  803.00                   38.00   \n",
              "2012-07-03          93.001803                  798.00                   29.00   \n",
              "2012-07-04          93.001803                  752.56                   33.12   \n",
              "2012-07-05          93.001803                  814.98                   35.72   \n",
              "\n",
              "                prcp_temp_interaction  temp_season_interaction  \\\n",
              "collision_date                                                   \n",
              "2012-07-01                      0.000                    167.2   \n",
              "2012-07-02                      0.000                    160.6   \n",
              "2012-07-03                      0.000                    159.6   \n",
              "2012-07-04                      4.908                    163.6   \n",
              "2012-07-05                   8669.133                    173.4   \n",
              "\n",
              "                wdsp_wind_interaction  collision_class  \n",
              "collision_date                                          \n",
              "2012-07-01                 553.145520               10  \n",
              "2012-07-02                 545.418750               11  \n",
              "2012-07-03                 362.080104               13  \n",
              "2012-07-04                 453.314999                8  \n",
              "2012-07-05                 479.916250               11  \n",
              "\n",
              "[5 rows x 39 columns]"
            ],
            "text/html": [
              "\n",
              "  <div id=\"df-f4316931-96b8-481b-a263-e61455bc2dfa\">\n",
              "    <div class=\"colab-df-container\">\n",
              "      <div>\n",
              "<style scoped>\n",
              "    .dataframe tbody tr th:only-of-type {\n",
              "        vertical-align: middle;\n",
              "    }\n",
              "\n",
              "    .dataframe tbody tr th {\n",
              "        vertical-align: top;\n",
              "    }\n",
              "\n",
              "    .dataframe thead th {\n",
              "        text-align: right;\n",
              "    }\n",
              "</style>\n",
              "<table border=\"1\" class=\"dataframe\">\n",
              "  <thead>\n",
              "    <tr style=\"text-align: right;\">\n",
              "      <th></th>\n",
              "      <th>day</th>\n",
              "      <th>year</th>\n",
              "      <th>mo</th>\n",
              "      <th>temp</th>\n",
              "      <th>dewp</th>\n",
              "      <th>slp</th>\n",
              "      <th>visib</th>\n",
              "      <th>wdsp</th>\n",
              "      <th>mxpsd</th>\n",
              "      <th>gust</th>\n",
              "      <th>...</th>\n",
              "      <th>so2_30day_ma</th>\n",
              "      <th>pressure_30day_ma</th>\n",
              "      <th>temp_30day_ma</th>\n",
              "      <th>wind_30day_ma</th>\n",
              "      <th>temp_visib_interaction</th>\n",
              "      <th>wdsp_visib_interaction</th>\n",
              "      <th>prcp_temp_interaction</th>\n",
              "      <th>temp_season_interaction</th>\n",
              "      <th>wdsp_wind_interaction</th>\n",
              "      <th>collision_class</th>\n",
              "    </tr>\n",
              "    <tr>\n",
              "      <th>collision_date</th>\n",
              "      <th></th>\n",
              "      <th></th>\n",
              "      <th></th>\n",
              "      <th></th>\n",
              "      <th></th>\n",
              "      <th></th>\n",
              "      <th></th>\n",
              "      <th></th>\n",
              "      <th></th>\n",
              "      <th></th>\n",
              "      <th></th>\n",
              "      <th></th>\n",
              "      <th></th>\n",
              "      <th></th>\n",
              "      <th></th>\n",
              "      <th></th>\n",
              "      <th></th>\n",
              "      <th></th>\n",
              "      <th></th>\n",
              "      <th></th>\n",
              "      <th></th>\n",
              "    </tr>\n",
              "  </thead>\n",
              "  <tbody>\n",
              "    <tr>\n",
              "      <th>2012-07-01</th>\n",
              "      <td>7</td>\n",
              "      <td>2012</td>\n",
              "      <td>7</td>\n",
              "      <td>83.6</td>\n",
              "      <td>63.0</td>\n",
              "      <td>1008.9</td>\n",
              "      <td>9.7</td>\n",
              "      <td>4.1</td>\n",
              "      <td>9.9</td>\n",
              "      <td>18.1</td>\n",
              "      <td>...</td>\n",
              "      <td>1.210648</td>\n",
              "      <td>917.765355</td>\n",
              "      <td>76.092</td>\n",
              "      <td>93.001803</td>\n",
              "      <td>810.92</td>\n",
              "      <td>39.77</td>\n",
              "      <td>0.000</td>\n",
              "      <td>167.2</td>\n",
              "      <td>553.145520</td>\n",
              "      <td>10</td>\n",
              "    </tr>\n",
              "    <tr>\n",
              "      <th>2012-07-02</th>\n",
              "      <td>1</td>\n",
              "      <td>2012</td>\n",
              "      <td>7</td>\n",
              "      <td>80.3</td>\n",
              "      <td>54.1</td>\n",
              "      <td>1011.6</td>\n",
              "      <td>10.0</td>\n",
              "      <td>3.8</td>\n",
              "      <td>15.0</td>\n",
              "      <td>18.1</td>\n",
              "      <td>...</td>\n",
              "      <td>1.210648</td>\n",
              "      <td>917.765355</td>\n",
              "      <td>76.092</td>\n",
              "      <td>93.001803</td>\n",
              "      <td>803.00</td>\n",
              "      <td>38.00</td>\n",
              "      <td>0.000</td>\n",
              "      <td>160.6</td>\n",
              "      <td>545.418750</td>\n",
              "      <td>11</td>\n",
              "    </tr>\n",
              "    <tr>\n",
              "      <th>2012-07-03</th>\n",
              "      <td>2</td>\n",
              "      <td>2012</td>\n",
              "      <td>7</td>\n",
              "      <td>79.8</td>\n",
              "      <td>56.7</td>\n",
              "      <td>1012.8</td>\n",
              "      <td>10.0</td>\n",
              "      <td>2.9</td>\n",
              "      <td>12.0</td>\n",
              "      <td>18.1</td>\n",
              "      <td>...</td>\n",
              "      <td>1.210648</td>\n",
              "      <td>917.765355</td>\n",
              "      <td>76.092</td>\n",
              "      <td>93.001803</td>\n",
              "      <td>798.00</td>\n",
              "      <td>29.00</td>\n",
              "      <td>0.000</td>\n",
              "      <td>159.6</td>\n",
              "      <td>362.080104</td>\n",
              "      <td>13</td>\n",
              "    </tr>\n",
              "    <tr>\n",
              "      <th>2012-07-04</th>\n",
              "      <td>3</td>\n",
              "      <td>2012</td>\n",
              "      <td>7</td>\n",
              "      <td>81.8</td>\n",
              "      <td>65.6</td>\n",
              "      <td>1009.1</td>\n",
              "      <td>9.2</td>\n",
              "      <td>3.6</td>\n",
              "      <td>11.1</td>\n",
              "      <td>18.1</td>\n",
              "      <td>...</td>\n",
              "      <td>1.210648</td>\n",
              "      <td>917.765355</td>\n",
              "      <td>76.092</td>\n",
              "      <td>93.001803</td>\n",
              "      <td>752.56</td>\n",
              "      <td>33.12</td>\n",
              "      <td>4.908</td>\n",
              "      <td>163.6</td>\n",
              "      <td>453.314999</td>\n",
              "      <td>8</td>\n",
              "    </tr>\n",
              "    <tr>\n",
              "      <th>2012-07-05</th>\n",
              "      <td>4</td>\n",
              "      <td>2012</td>\n",
              "      <td>7</td>\n",
              "      <td>86.7</td>\n",
              "      <td>64.3</td>\n",
              "      <td>1007.4</td>\n",
              "      <td>9.4</td>\n",
              "      <td>3.8</td>\n",
              "      <td>15.0</td>\n",
              "      <td>18.1</td>\n",
              "      <td>...</td>\n",
              "      <td>1.210648</td>\n",
              "      <td>917.765355</td>\n",
              "      <td>76.092</td>\n",
              "      <td>93.001803</td>\n",
              "      <td>814.98</td>\n",
              "      <td>35.72</td>\n",
              "      <td>8669.133</td>\n",
              "      <td>173.4</td>\n",
              "      <td>479.916250</td>\n",
              "      <td>11</td>\n",
              "    </tr>\n",
              "  </tbody>\n",
              "</table>\n",
              "<p>5 rows × 39 columns</p>\n",
              "</div>\n",
              "      <button class=\"colab-df-convert\" onclick=\"convertToInteractive('df-f4316931-96b8-481b-a263-e61455bc2dfa')\"\n",
              "              title=\"Convert this dataframe to an interactive table.\"\n",
              "              style=\"display:none;\">\n",
              "        \n",
              "  <svg xmlns=\"http://www.w3.org/2000/svg\" height=\"24px\"viewBox=\"0 0 24 24\"\n",
              "       width=\"24px\">\n",
              "    <path d=\"M0 0h24v24H0V0z\" fill=\"none\"/>\n",
              "    <path d=\"M18.56 5.44l.94 2.06.94-2.06 2.06-.94-2.06-.94-.94-2.06-.94 2.06-2.06.94zm-11 1L8.5 8.5l.94-2.06 2.06-.94-2.06-.94L8.5 2.5l-.94 2.06-2.06.94zm10 10l.94 2.06.94-2.06 2.06-.94-2.06-.94-.94-2.06-.94 2.06-2.06.94z\"/><path d=\"M17.41 7.96l-1.37-1.37c-.4-.4-.92-.59-1.43-.59-.52 0-1.04.2-1.43.59L10.3 9.45l-7.72 7.72c-.78.78-.78 2.05 0 2.83L4 21.41c.39.39.9.59 1.41.59.51 0 1.02-.2 1.41-.59l7.78-7.78 2.81-2.81c.8-.78.8-2.07 0-2.86zM5.41 20L4 18.59l7.72-7.72 1.47 1.35L5.41 20z\"/>\n",
              "  </svg>\n",
              "      </button>\n",
              "      \n",
              "  <style>\n",
              "    .colab-df-container {\n",
              "      display:flex;\n",
              "      flex-wrap:wrap;\n",
              "      gap: 12px;\n",
              "    }\n",
              "\n",
              "    .colab-df-convert {\n",
              "      background-color: #E8F0FE;\n",
              "      border: none;\n",
              "      border-radius: 50%;\n",
              "      cursor: pointer;\n",
              "      display: none;\n",
              "      fill: #1967D2;\n",
              "      height: 32px;\n",
              "      padding: 0 0 0 0;\n",
              "      width: 32px;\n",
              "    }\n",
              "\n",
              "    .colab-df-convert:hover {\n",
              "      background-color: #E2EBFA;\n",
              "      box-shadow: 0px 1px 2px rgba(60, 64, 67, 0.3), 0px 1px 3px 1px rgba(60, 64, 67, 0.15);\n",
              "      fill: #174EA6;\n",
              "    }\n",
              "\n",
              "    [theme=dark] .colab-df-convert {\n",
              "      background-color: #3B4455;\n",
              "      fill: #D2E3FC;\n",
              "    }\n",
              "\n",
              "    [theme=dark] .colab-df-convert:hover {\n",
              "      background-color: #434B5C;\n",
              "      box-shadow: 0px 1px 3px 1px rgba(0, 0, 0, 0.15);\n",
              "      filter: drop-shadow(0px 1px 2px rgba(0, 0, 0, 0.3));\n",
              "      fill: #FFFFFF;\n",
              "    }\n",
              "  </style>\n",
              "\n",
              "      <script>\n",
              "        const buttonEl =\n",
              "          document.querySelector('#df-f4316931-96b8-481b-a263-e61455bc2dfa button.colab-df-convert');\n",
              "        buttonEl.style.display =\n",
              "          google.colab.kernel.accessAllowed ? 'block' : 'none';\n",
              "\n",
              "        async function convertToInteractive(key) {\n",
              "          const element = document.querySelector('#df-f4316931-96b8-481b-a263-e61455bc2dfa');\n",
              "          const dataTable =\n",
              "            await google.colab.kernel.invokeFunction('convertToInteractive',\n",
              "                                                     [key], {});\n",
              "          if (!dataTable) return;\n",
              "\n",
              "          const docLinkHtml = 'Like what you see? Visit the ' +\n",
              "            '<a target=\"_blank\" href=https://colab.research.google.com/notebooks/data_table.ipynb>data table notebook</a>'\n",
              "            + ' to learn more about interactive tables.';\n",
              "          element.innerHTML = '';\n",
              "          dataTable['output_type'] = 'display_data';\n",
              "          await google.colab.output.renderOutput(dataTable, element);\n",
              "          const docLink = document.createElement('div');\n",
              "          docLink.innerHTML = docLinkHtml;\n",
              "          element.appendChild(docLink);\n",
              "        }\n",
              "      </script>\n",
              "    </div>\n",
              "  </div>\n",
              "  "
            ]
          },
          "metadata": {},
          "execution_count": 58
        }
      ]
    },
    {
      "cell_type": "code",
      "source": [
        "#x = data[['NUM_COLLISIONS','collision_class']]"
      ],
      "metadata": {
        "id": "KZaI_-dmuLPB"
      },
      "execution_count": 53,
      "outputs": []
    },
    {
      "cell_type": "code",
      "source": [
        "# Select the features and target variable\n",
        "X_class = data.drop(\"collision_class\", axis=1)  # Replace \"num_collisions\" with the actual target column name\n",
        "y_class = data[\"collision_class\"]  # Replace \"num_collisions\" with the actual target column name"
      ],
      "metadata": {
        "id": "Ld4b97fM-btj"
      },
      "execution_count": 60,
      "outputs": []
    },
    {
      "cell_type": "code",
      "source": [
        "# Split the data into training and testing sets\n",
        "X_train_class, X_test_class, y_train_class, y_test_class = train_test_split(X_class, y_class, test_size=0.2, random_state=42)"
      ],
      "metadata": {
        "id": "iXdR_2sW-Xaj"
      },
      "execution_count": 61,
      "outputs": []
    },
    {
      "cell_type": "code",
      "source": [
        "# Define the classifier with the desired hyperparameters\n",
        "rf_clf = RandomForestClassifier(n_estimators=100, max_depth=10, random_state=42)\n",
        "\n",
        "# Train the classifier on the training set\n",
        "rf_clf.fit(X_train_class, y_train_class)\n",
        "\n",
        "# Predict on the test set\n",
        "y_pred_class = rf_clf.predict(X_test_class)"
      ],
      "metadata": {
        "id": "JNoSRTQLuLU6"
      },
      "execution_count": 64,
      "outputs": []
    },
    {
      "cell_type": "code",
      "source": [
        "# Print the classification report and confusion matrix\n",
        "print(classification_report(y_test_class, y_pred_class))\n",
        "print(confusion_matrix(y_test_class, y_pred_class))"
      ],
      "metadata": {
        "colab": {
          "base_uri": "https://localhost:8080/"
        },
        "id": "CsHcdMICuLYR",
        "outputId": "39c8f182-02e1-4872-b423-7e12420ac2cd"
      },
      "execution_count": 65,
      "outputs": [
        {
          "output_type": "stream",
          "name": "stdout",
          "text": [
            "              precision    recall  f1-score   support\n",
            "\n",
            "           2       1.00      0.50      0.67         6\n",
            "           3       0.56      0.71      0.63         7\n",
            "           4       0.40      0.40      0.40         5\n",
            "           5       0.43      0.30      0.35        10\n",
            "           6       0.29      0.29      0.29         7\n",
            "           7       0.50      0.08      0.13        13\n",
            "           8       0.47      0.28      0.35        25\n",
            "           9       0.30      0.17      0.22        59\n",
            "          10       0.31      0.34      0.32        98\n",
            "          11       0.24      0.30      0.27        94\n",
            "          12       0.27      0.47      0.34       107\n",
            "          13       0.28      0.30      0.29        88\n",
            "          14       0.40      0.10      0.16        41\n",
            "          15       0.00      0.00      0.00        22\n",
            "          16       0.00      0.00      0.00         8\n",
            "          17       0.00      0.00      0.00         2\n",
            "          18       0.00      0.00      0.00         1\n",
            "          19       0.00      0.00      0.00         1\n",
            "\n",
            "    accuracy                           0.29       594\n",
            "   macro avg       0.30      0.23      0.24       594\n",
            "weighted avg       0.30      0.29      0.28       594\n",
            "\n",
            "[[ 3  3  0  0  0  0  0  0  0  0  0  0  0  0  0  0  0  0]\n",
            " [ 0  5  1  0  0  0  0  0  0  1  0  0  0  0  0  0  0  0]\n",
            " [ 0  0  2  2  1  0  0  0  0  0  0  0  0  0  0  0  0  0]\n",
            " [ 0  0  1  3  4  0  0  0  0  1  1  0  0  0  0  0  0  0]\n",
            " [ 0  1  1  2  2  0  0  0  0  0  1  0  0  0  0  0  0  0]\n",
            " [ 0  0  0  0  0  1  1  4  6  0  0  1  0  0  0  0  0  0]\n",
            " [ 0  0  0  0  0  1  7  4  6  2  5  0  0  0  0  0  0  0]\n",
            " [ 0  0  0  0  0  0  4 10 22 11  8  4  0  0  0  0  0  0]\n",
            " [ 0  0  0  0  0  0  3 10 33 26 21  4  1  0  0  0  0  0]\n",
            " [ 0  0  0  0  0  0  0  4 24 28 31  7  0  0  0  0  0  0]\n",
            " [ 0  0  0  0  0  0  0  0 13 27 50 15  2  0  0  0  0  0]\n",
            " [ 0  0  0  0  0  0  0  0  3 16 41 26  1  1  0  0  0  0]\n",
            " [ 0  0  0  0  0  0  0  0  0  1 20 15  4  1  0  0  0  0]\n",
            " [ 0  0  0  0  0  0  0  1  1  1  4 13  2  0  0  0  0  0]\n",
            " [ 0  0  0  0  0  0  0  0  0  0  2  6  0  0  0  0  0  0]\n",
            " [ 0  0  0  0  0  0  0  0  0  0  0  2  0  0  0  0  0  0]\n",
            " [ 0  0  0  0  0  0  0  0  0  1  0  0  0  0  0  0  0  0]\n",
            " [ 0  0  0  0  0  0  0  0  0  0  0  1  0  0  0  0  0  0]]\n"
          ]
        },
        {
          "output_type": "stream",
          "name": "stderr",
          "text": [
            "/usr/local/lib/python3.9/dist-packages/sklearn/metrics/_classification.py:1344: UndefinedMetricWarning: Precision and F-score are ill-defined and being set to 0.0 in labels with no predicted samples. Use `zero_division` parameter to control this behavior.\n",
            "  _warn_prf(average, modifier, msg_start, len(result))\n",
            "/usr/local/lib/python3.9/dist-packages/sklearn/metrics/_classification.py:1344: UndefinedMetricWarning: Precision and F-score are ill-defined and being set to 0.0 in labels with no predicted samples. Use `zero_division` parameter to control this behavior.\n",
            "  _warn_prf(average, modifier, msg_start, len(result))\n",
            "/usr/local/lib/python3.9/dist-packages/sklearn/metrics/_classification.py:1344: UndefinedMetricWarning: Precision and F-score are ill-defined and being set to 0.0 in labels with no predicted samples. Use `zero_division` parameter to control this behavior.\n",
            "  _warn_prf(average, modifier, msg_start, len(result))\n"
          ]
        }
      ]
    },
    {
      "cell_type": "code",
      "source": [
        "accuracy = accuracy_score(y_test_class, y_pred_class)\n",
        "print(f\"Overall accuracy: {accuracy}\")"
      ],
      "metadata": {
        "colab": {
          "base_uri": "https://localhost:8080/"
        },
        "id": "ATHV3xT2uLbj",
        "outputId": "0b3f3c20-2a1c-4142-e4f2-a728e3c28fcd"
      },
      "execution_count": 68,
      "outputs": [
        {
          "output_type": "stream",
          "name": "stdout",
          "text": [
            "Overall accuracy: 0.29292929292929293\n"
          ]
        }
      ]
    },
    {
      "cell_type": "markdown",
      "source": [
        "**RandomForestClassfier with hyperparams**"
      ],
      "metadata": {
        "id": "qwfqIayyPwI7"
      }
    },
    {
      "cell_type": "code",
      "source": [
        "# Define the parameter grid for GridSearchCV\n",
        "param_grid = {\n",
        "    'n_estimators': [100, 200, 500],\n",
        "    'max_depth': [None, 5, 10],\n",
        "    'min_samples_split': [2, 5, 10],\n",
        "    'min_samples_leaf': [1, 2, 4],\n",
        "    'max_features': ['sqrt', 'log2']\n",
        "}\n",
        "\n",
        "# Create a random forest classifier object\n",
        "rfc = RandomForestClassifier()\n",
        "\n",
        "# Create a GridSearchCV object with 5-fold cross-validation\n",
        "grid_search = GridSearchCV(\n",
        "    estimator=rfc,\n",
        "    param_grid=param_grid,\n",
        "    scoring='accuracy',\n",
        "    cv=5,\n",
        "    n_jobs=-1)\n",
        "\n",
        "# Fit the GridSearchCV object to the data\n",
        "grid_search.fit(X_train_class, y_train_class)\n",
        "\n",
        "# Print the best hyperparameters found\n",
        "best_params = grid_search.best_params_\n",
        "print(f\"Best hyperparameters: {best_params}\")\n",
        "\n",
        "# Get the best estimator\n",
        "best_rfc = grid_search.best_estimator_\n",
        "\n",
        "# Get the accuracy score of the best estimator on the test set\n",
        "accuracy = best_rfc.score(X_test_class, y_test_class)\n",
        "print(f\"Accuracy: {accuracy}\")"
      ],
      "metadata": {
        "colab": {
          "base_uri": "https://localhost:8080/"
        },
        "id": "4BvzUIKqE7dG",
        "outputId": "0b32b583-9562-485d-fb8e-c47dc3b398bf"
      },
      "execution_count": 69,
      "outputs": [
        {
          "output_type": "stream",
          "name": "stderr",
          "text": [
            "/usr/local/lib/python3.9/dist-packages/sklearn/model_selection/_split.py:700: UserWarning: The least populated class in y has only 1 members, which is less than n_splits=5.\n",
            "  warnings.warn(\n"
          ]
        },
        {
          "output_type": "stream",
          "name": "stdout",
          "text": [
            "Best hyperparameters: {'max_depth': 10, 'max_features': 'sqrt', 'min_samples_leaf': 1, 'min_samples_split': 5, 'n_estimators': 200}\n",
            "Accuracy: 0.30134680134680136\n"
          ]
        }
      ]
    },
    {
      "cell_type": "code",
      "source": [],
      "metadata": {
        "id": "yVdUM3o2E7fr"
      },
      "execution_count": null,
      "outputs": []
    },
    {
      "cell_type": "code",
      "source": [],
      "metadata": {
        "id": "q4l-QyFQE7ir"
      },
      "execution_count": null,
      "outputs": []
    },
    {
      "cell_type": "code",
      "source": [],
      "metadata": {
        "id": "CJhVR4cGE7lb"
      },
      "execution_count": null,
      "outputs": []
    },
    {
      "cell_type": "code",
      "source": [],
      "metadata": {
        "id": "ySm2Bm1GE7oT"
      },
      "execution_count": null,
      "outputs": []
    },
    {
      "cell_type": "code",
      "source": [],
      "metadata": {
        "id": "uH9uokmmE7q0"
      },
      "execution_count": null,
      "outputs": []
    },
    {
      "cell_type": "code",
      "source": [],
      "metadata": {
        "id": "Vr0oRAxGE7td"
      },
      "execution_count": null,
      "outputs": []
    }
  ]
}